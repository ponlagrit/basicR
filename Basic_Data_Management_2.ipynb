{
  "cells": [
    {
      "cell_type": "markdown",
      "metadata": {
        "id": "yF9J1W73Vc7-"
      },
      "source": [
        "# **Data Management**"
      ]
    },
    {
      "cell_type": "markdown",
      "metadata": {
        "id": "uSKvvaxgJ8BT"
      },
      "source": [
        "**Preparation**"
      ]
    },
    {
      "cell_type": "markdown",
      "source": [
        "Install package epiDisplay"
      ],
      "metadata": {
        "id": "Tl2JUAePljGI"
      }
    },
    {
      "cell_type": "code",
      "source": [
        "install.packages(\"epiDisplay\")"
      ],
      "metadata": {
        "id": "u8HFxjqjNbjN",
        "colab": {
          "base_uri": "https://localhost:8080/"
        },
        "outputId": "a79cc6ec-d8cd-42cd-8b3b-09ff814a5554"
      },
      "execution_count": 1,
      "outputs": [
        {
          "output_type": "stream",
          "name": "stderr",
          "text": [
            "Installing package into ‘/usr/local/lib/R/site-library’\n",
            "(as ‘lib’ is unspecified)\n",
            "\n"
          ]
        }
      ]
    },
    {
      "cell_type": "code",
      "source": [
        "library(epiDisplay)\n",
        "library(tidyverse)\n",
        "library(lubridate)\n",
        "library(stringr)\n",
        "library(readxl)"
      ],
      "metadata": {
        "colab": {
          "base_uri": "https://localhost:8080/"
        },
        "id": "70wfoIMJ5uER",
        "outputId": "943cb3d4-b292-4613-d217-9afee8f77d10"
      },
      "execution_count": 2,
      "outputs": [
        {
          "output_type": "stream",
          "name": "stderr",
          "text": [
            "Loading required package: foreign\n",
            "\n",
            "Loading required package: survival\n",
            "\n",
            "Loading required package: MASS\n",
            "\n",
            "Loading required package: nnet\n",
            "\n",
            "── \u001b[1mAttaching core tidyverse packages\u001b[22m ──────────────────────── tidyverse 2.0.0 ──\n",
            "\u001b[32m✔\u001b[39m \u001b[34mdplyr    \u001b[39m 1.1.2     \u001b[32m✔\u001b[39m \u001b[34mreadr    \u001b[39m 2.1.4\n",
            "\u001b[32m✔\u001b[39m \u001b[34mforcats  \u001b[39m 1.0.0     \u001b[32m✔\u001b[39m \u001b[34mstringr  \u001b[39m 1.5.0\n",
            "\u001b[32m✔\u001b[39m \u001b[34mggplot2  \u001b[39m 3.4.2     \u001b[32m✔\u001b[39m \u001b[34mtibble   \u001b[39m 3.2.1\n",
            "\u001b[32m✔\u001b[39m \u001b[34mlubridate\u001b[39m 1.9.2     \u001b[32m✔\u001b[39m \u001b[34mtidyr    \u001b[39m 1.3.0\n",
            "\u001b[32m✔\u001b[39m \u001b[34mpurrr    \u001b[39m 1.0.1     \n",
            "── \u001b[1mConflicts\u001b[22m ────────────────────────────────────────── tidyverse_conflicts() ──\n",
            "\u001b[31m✖\u001b[39m \u001b[34mggplot2\u001b[39m::\u001b[32malpha()\u001b[39m masks \u001b[34mepiDisplay\u001b[39m::alpha()\n",
            "\u001b[31m✖\u001b[39m \u001b[34mdplyr\u001b[39m::\u001b[32mfilter()\u001b[39m  masks \u001b[34mstats\u001b[39m::filter()\n",
            "\u001b[31m✖\u001b[39m \u001b[34mdplyr\u001b[39m::\u001b[32mlag()\u001b[39m     masks \u001b[34mstats\u001b[39m::lag()\n",
            "\u001b[31m✖\u001b[39m \u001b[34mdplyr\u001b[39m::\u001b[32mselect()\u001b[39m  masks \u001b[34mMASS\u001b[39m::select()\n",
            "\u001b[36mℹ\u001b[39m Use the conflicted package (\u001b[3m\u001b[34m<http://conflicted.r-lib.org/>\u001b[39m\u001b[23m) to force all conflicts to become errors\n"
          ]
        }
      ]
    },
    {
      "cell_type": "code",
      "source": [
        "sessionInfo()"
      ],
      "metadata": {
        "colab": {
          "base_uri": "https://localhost:8080/",
          "height": 764
        },
        "id": "FW9Fevz3PDRT",
        "outputId": "a422ff24-d91d-4898-d541-0ac944bcbbe6"
      },
      "execution_count": null,
      "outputs": [
        {
          "output_type": "display_data",
          "data": {
            "text/plain": [
              "R version 4.3.1 (2023-06-16)\n",
              "Platform: x86_64-pc-linux-gnu (64-bit)\n",
              "Running under: Ubuntu 20.04.6 LTS\n",
              "\n",
              "Matrix products: default\n",
              "BLAS:   /usr/lib/x86_64-linux-gnu/openblas-pthread/libblas.so.3 \n",
              "LAPACK: /usr/lib/x86_64-linux-gnu/openblas-pthread/liblapack.so.3;  LAPACK version 3.9.0\n",
              "\n",
              "locale:\n",
              " [1] LC_CTYPE=en_US.UTF-8       LC_NUMERIC=C              \n",
              " [3] LC_TIME=en_US.UTF-8        LC_COLLATE=en_US.UTF-8    \n",
              " [5] LC_MONETARY=en_US.UTF-8    LC_MESSAGES=en_US.UTF-8   \n",
              " [7] LC_PAPER=en_US.UTF-8       LC_NAME=C                 \n",
              " [9] LC_ADDRESS=C               LC_TELEPHONE=C            \n",
              "[11] LC_MEASUREMENT=en_US.UTF-8 LC_IDENTIFICATION=C       \n",
              "\n",
              "time zone: Etc/UTC\n",
              "tzcode source: system (glibc)\n",
              "\n",
              "attached base packages:\n",
              "[1] stats     graphics  grDevices utils     datasets  methods   base     \n",
              "\n",
              "other attached packages:\n",
              " [1] readxl_1.4.2       lubridate_1.9.2    forcats_1.0.0      stringr_1.5.0     \n",
              " [5] dplyr_1.1.2        purrr_1.0.1        readr_2.1.4        tidyr_1.3.0       \n",
              " [9] tibble_3.2.1       ggplot2_3.4.2      tidyverse_1.3.1    epiDisplay_3.5.0.2\n",
              "[13] nnet_7.3-19        MASS_7.3-60        survival_3.5-5     foreign_0.8-82    \n",
              "\n",
              "loaded via a namespace (and not attached):\n",
              " [1] utf8_1.2.3       generics_0.1.3   xml2_1.3.4       stringi_1.7.12  \n",
              " [5] lattice_0.21-8   hms_1.1.3        digest_0.6.32    magrittr_2.0.3  \n",
              " [9] evaluate_0.21    grid_4.3.1       timechange_0.2.0 pbdZMQ_0.3-9    \n",
              "[13] fastmap_1.1.1    cellranger_1.1.0 jsonlite_1.8.7   Matrix_1.5-4.1  \n",
              "[17] backports_1.4.1  DBI_1.1.3        rvest_1.0.3      httr_1.4.6      \n",
              "[21] fansi_1.0.4      scales_1.2.1     modelr_0.1.11    cli_3.6.1       \n",
              "[25] rlang_1.1.1      crayon_1.5.2     dbplyr_2.3.2     reprex_2.0.2    \n",
              "[29] munsell_0.5.0    splines_4.3.1    withr_2.5.0      base64enc_0.1-3 \n",
              "[33] repr_1.1.6       tools_4.3.1      tzdb_0.4.0       uuid_1.1-0      \n",
              "[37] colorspace_2.1-0 broom_1.0.5      IRdisplay_1.1    vctrs_0.6.3     \n",
              "[41] R6_2.5.1         lifecycle_1.0.3  fs_1.6.2         pkgconfig_2.0.3 \n",
              "[45] pillar_1.9.0     gtable_0.3.3     glue_1.6.2       haven_2.5.3     \n",
              "[49] tidyselect_1.2.0 rstudioapi_0.14  IRkernel_1.3.2   htmltools_0.5.5 \n",
              "[53] compiler_4.3.1  "
            ]
          },
          "metadata": {}
        }
      ]
    },
    {
      "cell_type": "markdown",
      "metadata": {
        "id": "z59LduDoviMz"
      },
      "source": [
        "# **Basic R**"
      ]
    },
    {
      "cell_type": "markdown",
      "source": [
        "## **Basic arithmetic operations**"
      ],
      "metadata": {
        "id": "VRFPDvg2ozMn"
      }
    },
    {
      "cell_type": "markdown",
      "source": [
        "*  \"+\" (addition), - (subtraction), * (multiplication), / (division), ^ (exponentiation)"
      ],
      "metadata": {
        "id": "dW5bvkZA6b_t"
      }
    },
    {
      "cell_type": "code",
      "source": [
        "2+3"
      ],
      "metadata": {
        "id": "LliHHuXcmJtu",
        "colab": {
          "base_uri": "https://localhost:8080/",
          "height": 34
        },
        "outputId": "d6a11f6b-cc33-46b6-8beb-b7b059f2a8c7"
      },
      "execution_count": null,
      "outputs": [
        {
          "output_type": "display_data",
          "data": {
            "text/html": [
              "5"
            ],
            "text/markdown": "5",
            "text/latex": "5",
            "text/plain": [
              "[1] 5"
            ]
          },
          "metadata": {}
        }
      ]
    },
    {
      "cell_type": "code",
      "source": [
        "11-6"
      ],
      "metadata": {
        "id": "L4zuxUL9SeHj",
        "colab": {
          "base_uri": "https://localhost:8080/",
          "height": 34
        },
        "outputId": "9aa85e22-e372-4f28-af00-20e7fa6a6ab4"
      },
      "execution_count": null,
      "outputs": [
        {
          "output_type": "display_data",
          "data": {
            "text/html": [
              "5"
            ],
            "text/markdown": "5",
            "text/latex": "5",
            "text/plain": [
              "[1] 5"
            ]
          },
          "metadata": {}
        }
      ]
    },
    {
      "cell_type": "code",
      "source": [
        "9 * 3"
      ],
      "metadata": {
        "colab": {
          "base_uri": "https://localhost:8080/",
          "height": 34
        },
        "id": "bHQSHaMA65nc",
        "outputId": "f1abaa50-cada-4746-df8b-53dd6a5acb19"
      },
      "execution_count": null,
      "outputs": [
        {
          "output_type": "display_data",
          "data": {
            "text/html": [
              "27"
            ],
            "text/markdown": "27",
            "text/latex": "27",
            "text/plain": [
              "[1] 27"
            ]
          },
          "metadata": {}
        }
      ]
    },
    {
      "cell_type": "code",
      "source": [
        "8/2"
      ],
      "metadata": {
        "colab": {
          "base_uri": "https://localhost:8080/",
          "height": 34
        },
        "id": "wU6t4Sp660Qt",
        "outputId": "a642bad5-e839-44d5-aafa-0421c7c21e21"
      },
      "execution_count": null,
      "outputs": [
        {
          "output_type": "display_data",
          "data": {
            "text/html": [
              "4"
            ],
            "text/markdown": "4",
            "text/latex": "4",
            "text/plain": [
              "[1] 4"
            ]
          },
          "metadata": {}
        }
      ]
    },
    {
      "cell_type": "code",
      "source": [
        "5^2"
      ],
      "metadata": {
        "colab": {
          "base_uri": "https://localhost:8080/",
          "height": 34
        },
        "id": "6rPFr6mC7CtR",
        "outputId": "a7627573-6376-4fa6-a661-d18390618c62"
      },
      "execution_count": null,
      "outputs": [
        {
          "output_type": "display_data",
          "data": {
            "text/html": [
              "25"
            ],
            "text/markdown": "25",
            "text/latex": "25",
            "text/plain": [
              "[1] 25"
            ]
          },
          "metadata": {}
        }
      ]
    },
    {
      "cell_type": "markdown",
      "source": [
        "Logarithms and exponentials: log2(x), log10(x), natural log $\\ln(x)$: log(x), $e^{x}$: exp(x)"
      ],
      "metadata": {
        "id": "ZnlxK79h7O5L"
      }
    },
    {
      "cell_type": "code",
      "source": [
        "log2(8)"
      ],
      "metadata": {
        "colab": {
          "base_uri": "https://localhost:8080/",
          "height": 34
        },
        "id": "y2YqkJZro9Hu",
        "outputId": "eb2c9460-022b-4431-be59-ff89c8ec3615"
      },
      "execution_count": null,
      "outputs": [
        {
          "output_type": "display_data",
          "data": {
            "text/html": [
              "3"
            ],
            "text/markdown": "3",
            "text/latex": "3",
            "text/plain": [
              "[1] 3"
            ]
          },
          "metadata": {}
        }
      ]
    },
    {
      "cell_type": "code",
      "source": [
        "log10(10000)"
      ],
      "metadata": {
        "colab": {
          "base_uri": "https://localhost:8080/",
          "height": 34
        },
        "id": "BgDMIA5u8Jt7",
        "outputId": "483c0086-5854-456a-a389-d824b2dde9c8"
      },
      "execution_count": null,
      "outputs": [
        {
          "output_type": "display_data",
          "data": {
            "text/html": [
              "4"
            ],
            "text/markdown": "4",
            "text/latex": "4",
            "text/plain": [
              "[1] 4"
            ]
          },
          "metadata": {}
        }
      ]
    },
    {
      "cell_type": "code",
      "source": [
        "log(2.71828182846)"
      ],
      "metadata": {
        "colab": {
          "base_uri": "https://localhost:8080/",
          "height": 34
        },
        "id": "nacso2LF8OKC",
        "outputId": "8603fc79-4311-4200-f6cc-8c06a0826030"
      },
      "execution_count": null,
      "outputs": [
        {
          "output_type": "display_data",
          "data": {
            "text/html": [
              "1.00000000000035"
            ],
            "text/markdown": "1.00000000000035",
            "text/latex": "1.00000000000035",
            "text/plain": [
              "[1] 1"
            ]
          },
          "metadata": {}
        }
      ]
    },
    {
      "cell_type": "code",
      "source": [
        "exp(1)"
      ],
      "metadata": {
        "colab": {
          "base_uri": "https://localhost:8080/",
          "height": 34
        },
        "id": "Pb5qUvlG8W5q",
        "outputId": "825e2d1e-b743-49b2-c66e-b8215880c556"
      },
      "execution_count": null,
      "outputs": [
        {
          "output_type": "display_data",
          "data": {
            "text/html": [
              "2.71828182845905"
            ],
            "text/markdown": "2.71828182845905",
            "text/latex": "2.71828182845905",
            "text/plain": [
              "[1] 2.718282"
            ]
          },
          "metadata": {}
        }
      ]
    },
    {
      "cell_type": "markdown",
      "source": [
        "**Integer Division (%/%):** This operator performs division and then returns the largest integer value less than or equal to the result."
      ],
      "metadata": {
        "id": "XcAu-ZiL9cLu"
      }
    },
    {
      "cell_type": "code",
      "source": [
        "10 %/% 3"
      ],
      "metadata": {
        "colab": {
          "base_uri": "https://localhost:8080/",
          "height": 34
        },
        "id": "cnwex9qf9dDV",
        "outputId": "8ad70d61-4571-46a8-ff35-64589590a5cc"
      },
      "execution_count": null,
      "outputs": [
        {
          "output_type": "display_data",
          "data": {
            "text/html": [
              "3"
            ],
            "text/markdown": "3",
            "text/latex": "3",
            "text/plain": [
              "[1] 3"
            ]
          },
          "metadata": {}
        }
      ]
    },
    {
      "cell_type": "markdown",
      "source": [
        "**Modulus (%%):** This operator performs division and then returns the remainder."
      ],
      "metadata": {
        "id": "0Ni4eYv39niu"
      }
    },
    {
      "cell_type": "code",
      "source": [
        "10 %% 3"
      ],
      "metadata": {
        "colab": {
          "base_uri": "https://localhost:8080/",
          "height": 34
        },
        "id": "W5KCtvKc9mpT",
        "outputId": "df6b4b02-ad91-48ce-da36-5730a046623f"
      },
      "execution_count": null,
      "outputs": [
        {
          "output_type": "display_data",
          "data": {
            "text/html": [
              "1"
            ],
            "text/markdown": "1",
            "text/latex": "1",
            "text/plain": [
              "[1] 1"
            ]
          },
          "metadata": {}
        }
      ]
    },
    {
      "cell_type": "markdown",
      "source": [
        "**Square root (sqrt):** This function returns the square root of its argument."
      ],
      "metadata": {
        "id": "BF2M8y6l99_D"
      }
    },
    {
      "cell_type": "code",
      "source": [
        "sqrt(4)"
      ],
      "metadata": {
        "colab": {
          "base_uri": "https://localhost:8080/",
          "height": 34
        },
        "id": "Q6SNXFCA9yVq",
        "outputId": "bb7c856f-bfda-4c76-95ef-8dc2e261929c"
      },
      "execution_count": null,
      "outputs": [
        {
          "output_type": "display_data",
          "data": {
            "text/html": [
              "2"
            ],
            "text/markdown": "2",
            "text/latex": "2",
            "text/plain": [
              "[1] 2"
            ]
          },
          "metadata": {}
        }
      ]
    },
    {
      "cell_type": "markdown",
      "source": [
        "***This is only for square root. To calculate the nth root of a number, you can use the principle that the nth root of a number x is equivalent to x raised to the power of 1/n."
      ],
      "metadata": {
        "id": "HrXIOU76-6Sq"
      }
    },
    {
      "cell_type": "markdown",
      "source": [
        "For example: $\\sqrt[5]{32}$"
      ],
      "metadata": {
        "id": "srTmLKVE_sJc"
      }
    },
    {
      "cell_type": "code",
      "source": [
        "32^(1/5)"
      ],
      "metadata": {
        "colab": {
          "base_uri": "https://localhost:8080/",
          "height": 34
        },
        "id": "FdhFtFQr_VV8",
        "outputId": "9a619000-cc49-45a3-cde9-a45feb20a29b"
      },
      "execution_count": null,
      "outputs": [
        {
          "output_type": "display_data",
          "data": {
            "text/html": [
              "2"
            ],
            "text/markdown": "2",
            "text/latex": "2",
            "text/plain": [
              "[1] 2"
            ]
          },
          "metadata": {}
        }
      ]
    },
    {
      "cell_type": "markdown",
      "source": [
        "**Absolute value (abs):** This function returns the absolute value of its argument."
      ],
      "metadata": {
        "id": "XTv-20XJ-I0h"
      }
    },
    {
      "cell_type": "code",
      "source": [
        "abs(-7)"
      ],
      "metadata": {
        "colab": {
          "base_uri": "https://localhost:8080/",
          "height": 34
        },
        "id": "hM-blQnF-d3x",
        "outputId": "d315e2d8-2027-43d2-acaa-d3905354dce3"
      },
      "execution_count": null,
      "outputs": [
        {
          "output_type": "display_data",
          "data": {
            "text/html": [
              "7"
            ],
            "text/markdown": "7",
            "text/latex": "7",
            "text/plain": [
              "[1] 7"
            ]
          },
          "metadata": {}
        }
      ]
    },
    {
      "cell_type": "markdown",
      "source": [
        "Rounding (round, ceiling, floor): These functions are used for rounding numbers."
      ],
      "metadata": {
        "id": "JUrUrSTUTJit"
      }
    },
    {
      "cell_type": "code",
      "source": [
        "ceiling(2.71828)  # output: 3 is integer\n",
        "floor(2.71828)  # output: 2 is integer"
      ],
      "metadata": {
        "colab": {
          "base_uri": "https://localhost:8080/",
          "height": 69
        },
        "id": "ZwyCmC0GTRhm",
        "outputId": "a8f4766e-c3c1-48c4-f3a1-be0f52a0773f"
      },
      "execution_count": null,
      "outputs": [
        {
          "output_type": "display_data",
          "data": {
            "text/html": [
              "3.14"
            ],
            "text/markdown": "3.14",
            "text/latex": "3.14",
            "text/plain": [
              "[1] 3.14"
            ]
          },
          "metadata": {}
        },
        {
          "output_type": "display_data",
          "data": {
            "text/html": [
              "3"
            ],
            "text/markdown": "3",
            "text/latex": "3",
            "text/plain": [
              "[1] 3"
            ]
          },
          "metadata": {}
        },
        {
          "output_type": "display_data",
          "data": {
            "text/html": [
              "2"
            ],
            "text/markdown": "2",
            "text/latex": "2",
            "text/plain": [
              "[1] 2"
            ]
          },
          "metadata": {}
        }
      ]
    },
    {
      "cell_type": "markdown",
      "source": [
        "**Round:** round(pi,2), 3.14 has two decimal places"
      ],
      "metadata": {
        "id": "eQI4bX0lTy-N"
      }
    },
    {
      "cell_type": "code",
      "source": [
        "pi"
      ],
      "metadata": {
        "colab": {
          "base_uri": "https://localhost:8080/",
          "height": 34
        },
        "id": "0DVH8aVvUExB",
        "outputId": "695f2279-b5f5-4bd6-900f-138acc65cf90"
      },
      "execution_count": null,
      "outputs": [
        {
          "output_type": "display_data",
          "data": {
            "text/html": [
              "3.14159265358979"
            ],
            "text/markdown": "3.14159265358979",
            "text/latex": "3.14159265358979",
            "text/plain": [
              "[1] 3.141593"
            ]
          },
          "metadata": {}
        }
      ]
    },
    {
      "cell_type": "code",
      "source": [
        "round(pi, 2)"
      ],
      "metadata": {
        "colab": {
          "base_uri": "https://localhost:8080/",
          "height": 34
        },
        "id": "QEhZ4y3wT5IF",
        "outputId": "d162c2fb-48d3-419d-f406-a0aeb792eb71"
      },
      "execution_count": null,
      "outputs": [
        {
          "output_type": "display_data",
          "data": {
            "text/html": [
              "3.14"
            ],
            "text/markdown": "3.14",
            "text/latex": "3.14",
            "text/plain": [
              "[1] 3.14"
            ]
          },
          "metadata": {}
        }
      ]
    },
    {
      "cell_type": "markdown",
      "source": [
        "ceiling(2.71828)  # output: 3 is integer"
      ],
      "metadata": {
        "id": "Br-Ft0mWUJji"
      }
    },
    {
      "cell_type": "code",
      "source": [
        "ceiling(2.71828)"
      ],
      "metadata": {
        "colab": {
          "base_uri": "https://localhost:8080/",
          "height": 34
        },
        "id": "Lwnp8c4PUYYE",
        "outputId": "a6c37818-0dbf-4035-9d03-a08f25d52d13"
      },
      "execution_count": null,
      "outputs": [
        {
          "output_type": "display_data",
          "data": {
            "text/html": [
              "3"
            ],
            "text/markdown": "3",
            "text/latex": "3",
            "text/plain": [
              "[1] 3"
            ]
          },
          "metadata": {}
        }
      ]
    },
    {
      "cell_type": "markdown",
      "source": [
        "floor(2.71828)  # output: 2 is integer"
      ],
      "metadata": {
        "id": "ex1yCoBeUaCF"
      }
    },
    {
      "cell_type": "code",
      "source": [
        "floor(2.71828)"
      ],
      "metadata": {
        "colab": {
          "base_uri": "https://localhost:8080/",
          "height": 34
        },
        "id": "5ccN8f2xUc05",
        "outputId": "c8eaabda-af49-45ff-ac57-a1c4da35f825"
      },
      "execution_count": null,
      "outputs": [
        {
          "output_type": "display_data",
          "data": {
            "text/html": [
              "2"
            ],
            "text/markdown": "2",
            "text/latex": "2",
            "text/plain": [
              "[1] 2"
            ]
          },
          "metadata": {}
        }
      ]
    },
    {
      "cell_type": "markdown",
      "source": [
        "## ***Assigning values to variables***"
      ],
      "metadata": {
        "id": "CfTX-bpyWsft"
      }
    },
    {
      "cell_type": "markdown",
      "source": [
        "Number"
      ],
      "metadata": {
        "id": "gRpMhDBxW0tF"
      }
    },
    {
      "cell_type": "code",
      "source": [
        "iphone_price_usd <- 999"
      ],
      "metadata": {
        "id": "8d_ts1IRW4I0"
      },
      "execution_count": null,
      "outputs": []
    },
    {
      "cell_type": "code",
      "source": [
        "print(iphone_price_usd)"
      ],
      "metadata": {
        "colab": {
          "base_uri": "https://localhost:8080/"
        },
        "id": "49lJqJYeXE7T",
        "outputId": "8912b4f1-454e-4288-8145-847360a9f9ac"
      },
      "execution_count": null,
      "outputs": [
        {
          "output_type": "stream",
          "name": "stdout",
          "text": [
            "[1] 999\n"
          ]
        }
      ]
    },
    {
      "cell_type": "code",
      "source": [
        "iphone_price_usd"
      ],
      "metadata": {
        "colab": {
          "base_uri": "https://localhost:8080/",
          "height": 34
        },
        "id": "ikAMkjriXIP0",
        "outputId": "eb5ae645-6530-4e09-ee50-ed276f29401d"
      },
      "execution_count": null,
      "outputs": [
        {
          "output_type": "display_data",
          "data": {
            "text/html": [
              "999"
            ],
            "text/markdown": "999",
            "text/latex": "999",
            "text/plain": [
              "[1] 999"
            ]
          },
          "metadata": {}
        }
      ]
    },
    {
      "cell_type": "markdown",
      "source": [
        "Text"
      ],
      "metadata": {
        "id": "P_uGoH38XNCM"
      }
    },
    {
      "cell_type": "code",
      "source": [
        "hello<-\"Hello World\""
      ],
      "metadata": {
        "id": "1F0fecP6p_7t"
      },
      "execution_count": null,
      "outputs": []
    },
    {
      "cell_type": "code",
      "source": [
        "print(hello)"
      ],
      "metadata": {
        "colab": {
          "base_uri": "https://localhost:8080/"
        },
        "id": "kxo-GgVrqFeT",
        "outputId": "07262be7-1d49-4ab2-b0dd-c3ef49da72b1"
      },
      "execution_count": null,
      "outputs": [
        {
          "output_type": "stream",
          "name": "stdout",
          "text": [
            "[1] \"Hello World\"\n"
          ]
        }
      ]
    },
    {
      "cell_type": "code",
      "source": [
        "hello"
      ],
      "metadata": {
        "colab": {
          "base_uri": "https://localhost:8080/",
          "height": 34
        },
        "id": "WLcfLsx0qIWb",
        "outputId": "e8416c41-b869-40bc-b12c-49217631ebb5"
      },
      "execution_count": null,
      "outputs": [
        {
          "output_type": "display_data",
          "data": {
            "text/html": [
              "'Hello World'"
            ],
            "text/markdown": "'Hello World'",
            "text/latex": "'Hello World'",
            "text/plain": [
              "[1] \"Hello World\""
            ]
          },
          "metadata": {}
        }
      ]
    },
    {
      "cell_type": "markdown",
      "source": [
        "Boolean"
      ],
      "metadata": {
        "id": "tsujUpvisJXP"
      }
    },
    {
      "cell_type": "code",
      "source": [
        "ิbird_can_fly<-TRUE"
      ],
      "metadata": {
        "id": "Rv1Vg2k3sWtE"
      },
      "execution_count": null,
      "outputs": []
    },
    {
      "cell_type": "code",
      "source": [
        "ิbird_can_fly"
      ],
      "metadata": {
        "colab": {
          "base_uri": "https://localhost:8080/",
          "height": 34
        },
        "id": "VtbgZ4LJssWE",
        "outputId": "5a49ff02-fc97-4d7a-9c4c-6afaff583e50"
      },
      "execution_count": null,
      "outputs": [
        {
          "output_type": "display_data",
          "data": {
            "text/html": [
              "TRUE"
            ],
            "text/markdown": "TRUE",
            "text/latex": "TRUE",
            "text/plain": [
              "[1] TRUE"
            ]
          },
          "metadata": {}
        }
      ]
    },
    {
      "cell_type": "code",
      "source": [
        "rabbit_can_fly<-FALSE"
      ],
      "metadata": {
        "id": "zP54AjBqsvxz"
      },
      "execution_count": null,
      "outputs": []
    },
    {
      "cell_type": "code",
      "source": [
        "rabbit_can_fly"
      ],
      "metadata": {
        "id": "dr3SbqDps3WE",
        "outputId": "677a807f-9325-4fe9-81a7-8c2e503e1956",
        "colab": {
          "base_uri": "https://localhost:8080/",
          "height": 34
        }
      },
      "execution_count": null,
      "outputs": [
        {
          "output_type": "display_data",
          "data": {
            "text/html": [
              "FALSE"
            ],
            "text/markdown": "FALSE",
            "text/latex": "FALSE",
            "text/plain": [
              "[1] FALSE"
            ]
          },
          "metadata": {}
        }
      ]
    },
    {
      "cell_type": "markdown",
      "source": [
        "## ***Vecter***"
      ],
      "metadata": {
        "id": "dUw5MVj48pvK"
      }
    },
    {
      "cell_type": "markdown",
      "source": [
        "Vectors: a combination of multiple values (numeric, character or logical)\n",
        "\n",
        "*   Create a vector: c() for concatenate\n",
        "*   Case of missing values: NA (not available) and NaN (not a number)\n",
        "*   Calculations with vectors: max(x), min(x), range(x), length(x), sum(x), mean(x), prod(x): product of the elements in x, sd(x): standard deviation, var(x): variance, sort(x)\n",
        "*   Get a subset of a vector: my_vector[i] to get the ith element"
      ],
      "metadata": {
        "id": "ZMqGwfeKZTTW"
      }
    },
    {
      "cell_type": "markdown",
      "source": [
        "# number"
      ],
      "metadata": {
        "id": "yeri3w8ldOyR"
      }
    },
    {
      "cell_type": "code",
      "source": [
        "prime_n <- c(1,2,3,5,7,11,13)"
      ],
      "metadata": {
        "id": "wY_PLSlapCvn"
      },
      "execution_count": null,
      "outputs": []
    },
    {
      "cell_type": "code",
      "source": [
        "mean(prime_n)\n",
        "median(prime_n)\n",
        "max(prime_n)\n",
        "min(prime_n)\n",
        "sum(prime_n)"
      ],
      "metadata": {
        "id": "a_-95mEWWgO-"
      },
      "execution_count": null,
      "outputs": []
    },
    {
      "cell_type": "code",
      "source": [
        "mean(prime_n)"
      ],
      "metadata": {
        "colab": {
          "base_uri": "https://localhost:8080/",
          "height": 34
        },
        "id": "JdY0cKUTWwjz",
        "outputId": "19ebc9fd-66db-4032-d97c-e661d0697113"
      },
      "execution_count": null,
      "outputs": [
        {
          "output_type": "display_data",
          "data": {
            "text/html": [
              "6"
            ],
            "text/markdown": "6",
            "text/latex": "6",
            "text/plain": [
              "[1] 6"
            ]
          },
          "metadata": {}
        }
      ]
    },
    {
      "cell_type": "code",
      "source": [
        "median(prime_n)"
      ],
      "metadata": {
        "colab": {
          "base_uri": "https://localhost:8080/",
          "height": 34
        },
        "id": "sUuJEZJRWyG_",
        "outputId": "a1bfeb93-3e5b-4939-cd5f-0f1b825c49f1"
      },
      "execution_count": null,
      "outputs": [
        {
          "output_type": "display_data",
          "data": {
            "text/html": [
              "5"
            ],
            "text/markdown": "5",
            "text/latex": "5",
            "text/plain": [
              "[1] 5"
            ]
          },
          "metadata": {}
        }
      ]
    },
    {
      "cell_type": "code",
      "source": [
        "max(prime_n)"
      ],
      "metadata": {
        "colab": {
          "base_uri": "https://localhost:8080/",
          "height": 34
        },
        "id": "57Q-EKoRWz_t",
        "outputId": "de246493-c5b1-489a-a4f2-b625afdee8ff"
      },
      "execution_count": null,
      "outputs": [
        {
          "output_type": "display_data",
          "data": {
            "text/html": [
              "13"
            ],
            "text/markdown": "13",
            "text/latex": "13",
            "text/plain": [
              "[1] 13"
            ]
          },
          "metadata": {}
        }
      ]
    },
    {
      "cell_type": "code",
      "source": [
        "min(prime_n)"
      ],
      "metadata": {
        "colab": {
          "base_uri": "https://localhost:8080/",
          "height": 34
        },
        "id": "lh800LZtW12V",
        "outputId": "47ce0da6-dea2-42cb-9fb5-d38beca6d967"
      },
      "execution_count": null,
      "outputs": [
        {
          "output_type": "display_data",
          "data": {
            "text/html": [
              "1"
            ],
            "text/markdown": "1",
            "text/latex": "1",
            "text/plain": [
              "[1] 1"
            ]
          },
          "metadata": {}
        }
      ]
    },
    {
      "cell_type": "code",
      "source": [
        "range(prime_n)"
      ],
      "metadata": {
        "colab": {
          "base_uri": "https://localhost:8080/",
          "height": 34
        },
        "id": "VP-q_MOxaPoG",
        "outputId": "e9555dfe-c3f9-43ae-ef3a-bf2b4ec515f2"
      },
      "execution_count": null,
      "outputs": [
        {
          "output_type": "display_data",
          "data": {
            "text/html": [
              "<style>\n",
              ".list-inline {list-style: none; margin:0; padding: 0}\n",
              ".list-inline>li {display: inline-block}\n",
              ".list-inline>li:not(:last-child)::after {content: \"\\00b7\"; padding: 0 .5ex}\n",
              "</style>\n",
              "<ol class=list-inline><li>1</li><li>13</li></ol>\n"
            ],
            "text/markdown": "1. 1\n2. 13\n\n\n",
            "text/latex": "\\begin{enumerate*}\n\\item 1\n\\item 13\n\\end{enumerate*}\n",
            "text/plain": [
              "[1]  1 13"
            ]
          },
          "metadata": {}
        }
      ]
    },
    {
      "cell_type": "code",
      "source": [
        "length(prime_n)"
      ],
      "metadata": {
        "colab": {
          "base_uri": "https://localhost:8080/",
          "height": 34
        },
        "id": "0tVDiQTfaTUl",
        "outputId": "51b3b504-d0f9-4eab-8fb2-38cadd169d79"
      },
      "execution_count": null,
      "outputs": [
        {
          "output_type": "display_data",
          "data": {
            "text/html": [
              "7"
            ],
            "text/markdown": "7",
            "text/latex": "7",
            "text/plain": [
              "[1] 7"
            ]
          },
          "metadata": {}
        }
      ]
    },
    {
      "cell_type": "code",
      "source": [
        "sum(prime_n)"
      ],
      "metadata": {
        "colab": {
          "base_uri": "https://localhost:8080/",
          "height": 34
        },
        "id": "wc9WQCqRW36n",
        "outputId": "0ed001fb-8c79-455c-f16c-021a5c1349a0"
      },
      "execution_count": null,
      "outputs": [
        {
          "output_type": "display_data",
          "data": {
            "text/html": [
              "42"
            ],
            "text/markdown": "42",
            "text/latex": "42",
            "text/plain": [
              "[1] 42"
            ]
          },
          "metadata": {}
        }
      ]
    },
    {
      "cell_type": "code",
      "source": [
        "prod(prime_n)"
      ],
      "metadata": {
        "colab": {
          "base_uri": "https://localhost:8080/",
          "height": 34
        },
        "id": "NZA-BNucW704",
        "outputId": "c5e56a0c-32d4-42e3-eb14-a69b7407405b"
      },
      "execution_count": null,
      "outputs": [
        {
          "output_type": "display_data",
          "data": {
            "text/html": [
              "30030"
            ],
            "text/markdown": "30030",
            "text/latex": "30030",
            "text/plain": [
              "[1] 30030"
            ]
          },
          "metadata": {}
        }
      ]
    },
    {
      "cell_type": "code",
      "source": [
        "sd(prime_n)"
      ],
      "metadata": {
        "colab": {
          "base_uri": "https://localhost:8080/",
          "height": 34
        },
        "id": "gxszg6AdaXuG",
        "outputId": "5ed4a911-7e5a-4b55-863d-403d3be7ba9a"
      },
      "execution_count": null,
      "outputs": [
        {
          "output_type": "display_data",
          "data": {
            "text/html": [
              "4.58257569495584"
            ],
            "text/markdown": "4.58257569495584",
            "text/latex": "4.58257569495584",
            "text/plain": [
              "[1] 4.582576"
            ]
          },
          "metadata": {}
        }
      ]
    },
    {
      "cell_type": "code",
      "source": [
        "var(prime_n)"
      ],
      "metadata": {
        "colab": {
          "base_uri": "https://localhost:8080/",
          "height": 34
        },
        "id": "VhdBiCFGaZNz",
        "outputId": "4c4193f0-46fc-4bb1-9b78-145150d623cb"
      },
      "execution_count": null,
      "outputs": [
        {
          "output_type": "display_data",
          "data": {
            "text/html": [
              "21"
            ],
            "text/markdown": "21",
            "text/latex": "21",
            "text/plain": [
              "[1] 21"
            ]
          },
          "metadata": {}
        }
      ]
    },
    {
      "cell_type": "code",
      "source": [
        "sqrt(var(prime_n)) == sd(prime_n)"
      ],
      "metadata": {
        "colab": {
          "base_uri": "https://localhost:8080/",
          "height": 34
        },
        "id": "yoelY8xtabl2",
        "outputId": "a733164b-7187-41d4-bbc3-4af9cec25736"
      },
      "execution_count": null,
      "outputs": [
        {
          "output_type": "display_data",
          "data": {
            "text/html": [
              "TRUE"
            ],
            "text/markdown": "TRUE",
            "text/latex": "TRUE",
            "text/plain": [
              "[1] TRUE"
            ]
          },
          "metadata": {}
        }
      ]
    },
    {
      "cell_type": "code",
      "source": [
        "sort(prime_n,decreasing=FALSE)"
      ],
      "metadata": {
        "colab": {
          "base_uri": "https://localhost:8080/",
          "height": 34
        },
        "id": "TCeu9Mkqak50",
        "outputId": "eb3793b7-e429-44b7-eaaa-ceaa0393adb7"
      },
      "execution_count": null,
      "outputs": [
        {
          "output_type": "display_data",
          "data": {
            "text/html": [
              "<style>\n",
              ".list-inline {list-style: none; margin:0; padding: 0}\n",
              ".list-inline>li {display: inline-block}\n",
              ".list-inline>li:not(:last-child)::after {content: \"\\00b7\"; padding: 0 .5ex}\n",
              "</style>\n",
              "<ol class=list-inline><li>1</li><li>2</li><li>3</li><li>5</li><li>7</li><li>11</li><li>13</li></ol>\n"
            ],
            "text/markdown": "1. 1\n2. 2\n3. 3\n4. 5\n5. 7\n6. 11\n7. 13\n\n\n",
            "text/latex": "\\begin{enumerate*}\n\\item 1\n\\item 2\n\\item 3\n\\item 5\n\\item 7\n\\item 11\n\\item 13\n\\end{enumerate*}\n",
            "text/plain": [
              "[1]  1  2  3  5  7 11 13"
            ]
          },
          "metadata": {}
        }
      ]
    },
    {
      "cell_type": "code",
      "source": [
        "sort(prime_n,decreasing=TRUE)"
      ],
      "metadata": {
        "colab": {
          "base_uri": "https://localhost:8080/",
          "height": 34
        },
        "id": "PFQKlkdZa29_",
        "outputId": "a90d968b-bb15-4514-93ef-b6f48f34c7ac"
      },
      "execution_count": null,
      "outputs": [
        {
          "output_type": "display_data",
          "data": {
            "text/html": [
              "<style>\n",
              ".list-inline {list-style: none; margin:0; padding: 0}\n",
              ".list-inline>li {display: inline-block}\n",
              ".list-inline>li:not(:last-child)::after {content: \"\\00b7\"; padding: 0 .5ex}\n",
              "</style>\n",
              "<ol class=list-inline><li>13</li><li>11</li><li>7</li><li>5</li><li>3</li><li>2</li><li>1</li></ol>\n"
            ],
            "text/markdown": "1. 13\n2. 11\n3. 7\n4. 5\n5. 3\n6. 2\n7. 1\n\n\n",
            "text/latex": "\\begin{enumerate*}\n\\item 13\n\\item 11\n\\item 7\n\\item 5\n\\item 3\n\\item 2\n\\item 1\n\\end{enumerate*}\n",
            "text/plain": [
              "[1] 13 11  7  5  3  2  1"
            ]
          },
          "metadata": {}
        }
      ]
    },
    {
      "cell_type": "code",
      "source": [
        "class(prime_n)"
      ],
      "metadata": {
        "colab": {
          "base_uri": "https://localhost:8080/",
          "height": 34
        },
        "id": "OKQIIWICbC02",
        "outputId": "7dac9344-d946-4194-e93e-1f5228f90c00"
      },
      "execution_count": null,
      "outputs": [
        {
          "output_type": "display_data",
          "data": {
            "text/html": [
              "'numeric'"
            ],
            "text/markdown": "'numeric'",
            "text/latex": "'numeric'",
            "text/plain": [
              "[1] \"numeric\""
            ]
          },
          "metadata": {}
        }
      ]
    },
    {
      "cell_type": "code",
      "source": [
        "prime_n[1]+prime_n[2]"
      ],
      "metadata": {
        "colab": {
          "base_uri": "https://localhost:8080/",
          "height": 34
        },
        "id": "_wq-Uo4ocLEc",
        "outputId": "1ab4c056-9249-43b1-8211-46f72be9829d"
      },
      "execution_count": null,
      "outputs": [
        {
          "output_type": "display_data",
          "data": {
            "text/html": [
              "3"
            ],
            "text/markdown": "3",
            "text/latex": "3",
            "text/plain": [
              "[1] 3"
            ]
          },
          "metadata": {}
        }
      ]
    },
    {
      "cell_type": "code",
      "source": [
        "add_text<-c(prime_n,\"Hello World\")\n",
        "print(add_text)"
      ],
      "metadata": {
        "colab": {
          "base_uri": "https://localhost:8080/"
        },
        "id": "qvb05GLsbIJz",
        "outputId": "b32506f4-d84f-4f7e-b838-f1c6394cf555"
      },
      "execution_count": null,
      "outputs": [
        {
          "output_type": "stream",
          "name": "stdout",
          "text": [
            "[1] \"1\"           \"2\"           \"3\"           \"5\"           \"7\"          \n",
            "[6] \"11\"          \"13\"          \"Hello World\"\n"
          ]
        }
      ]
    },
    {
      "cell_type": "code",
      "source": [
        "class(add_text)"
      ],
      "metadata": {
        "colab": {
          "base_uri": "https://localhost:8080/",
          "height": 34
        },
        "id": "ZnNEA9jNblfL",
        "outputId": "247c9509-3ccf-42a7-8766-6319ad137036"
      },
      "execution_count": null,
      "outputs": [
        {
          "output_type": "display_data",
          "data": {
            "text/html": [
              "'character'"
            ],
            "text/markdown": "'character'",
            "text/latex": "'character'",
            "text/plain": [
              "[1] \"character\""
            ]
          },
          "metadata": {}
        }
      ]
    },
    {
      "cell_type": "code",
      "source": [
        "add_text[1]+add_text[2]"
      ],
      "metadata": {
        "colab": {
          "base_uri": "https://localhost:8080/",
          "height": 34
        },
        "id": "9QOOmnTXcbyU",
        "outputId": "73199017-958d-457b-a629-089c8e684d2a"
      },
      "execution_count": null,
      "outputs": [
        {
          "output_type": "display_data",
          "data": {
            "text/html": [
              "3"
            ],
            "text/markdown": "3",
            "text/latex": "3",
            "text/plain": [
              "[1] 3"
            ]
          },
          "metadata": {}
        }
      ]
    },
    {
      "cell_type": "code",
      "source": [
        "add_text[7]+add_text[8]"
      ],
      "metadata": {
        "colab": {
          "base_uri": "https://localhost:8080/",
          "height": 34
        },
        "id": "a7Xpsb54cn28",
        "outputId": "ffd08bed-78d9-410e-b792-1f02cf8083cb"
      },
      "execution_count": null,
      "outputs": [
        {
          "output_type": "display_data",
          "data": {
            "text/html": [
              "&lt;NA&gt;"
            ],
            "text/markdown": "&lt;NA&gt;",
            "text/latex": "<NA>",
            "text/plain": [
              "[1] NA"
            ]
          },
          "metadata": {}
        }
      ]
    },
    {
      "cell_type": "code",
      "source": [
        "sum(add_text)"
      ],
      "metadata": {
        "colab": {
          "base_uri": "https://localhost:8080/",
          "height": 34
        },
        "id": "XWxUKT4zcvHs",
        "outputId": "e0129f98-93e3-4abd-c65a-8e9be30244bf"
      },
      "execution_count": null,
      "outputs": [
        {
          "output_type": "display_data",
          "data": {
            "text/html": [
              "&lt;NA&gt;"
            ],
            "text/markdown": "&lt;NA&gt;",
            "text/latex": "<NA>",
            "text/plain": [
              "[1] NA"
            ]
          },
          "metadata": {}
        }
      ]
    },
    {
      "cell_type": "code",
      "source": [
        "min(add_text)"
      ],
      "metadata": {
        "colab": {
          "base_uri": "https://localhost:8080/",
          "height": 34
        },
        "id": "ye24eJwfczXz",
        "outputId": "793ff798-e263-43d4-9820-fa8b2873fd9a"
      },
      "execution_count": null,
      "outputs": [
        {
          "output_type": "display_data",
          "data": {
            "text/html": [
              "&lt;NA&gt;"
            ],
            "text/markdown": "&lt;NA&gt;",
            "text/latex": "<NA>",
            "text/plain": [
              "[1] NA"
            ]
          },
          "metadata": {}
        }
      ]
    },
    {
      "cell_type": "code",
      "source": [
        "add_text<-as.numeric(add_text)\n",
        "print(add_text)"
      ],
      "metadata": {
        "colab": {
          "base_uri": "https://localhost:8080/"
        },
        "id": "498WMLXMbQMb",
        "outputId": "b6543048-8cdd-4ece-f422-94b2ea5a42bd"
      },
      "execution_count": null,
      "outputs": [
        {
          "output_type": "stream",
          "name": "stdout",
          "text": [
            "[1]  1  2  3  5  7 11 13 NA\n"
          ]
        }
      ]
    },
    {
      "cell_type": "code",
      "source": [
        "sum(add_text)"
      ],
      "metadata": {
        "colab": {
          "base_uri": "https://localhost:8080/",
          "height": 34
        },
        "id": "hELekawxc8Ed",
        "outputId": "1606ccad-8896-47d8-e33f-4c6d55370680"
      },
      "execution_count": null,
      "outputs": [
        {
          "output_type": "display_data",
          "data": {
            "text/html": [
              "&lt;NA&gt;"
            ],
            "text/markdown": "&lt;NA&gt;",
            "text/latex": "<NA>",
            "text/plain": [
              "[1] NA"
            ]
          },
          "metadata": {}
        }
      ]
    },
    {
      "cell_type": "code",
      "source": [
        "sum(add_text,na.rm=TRUE)"
      ],
      "metadata": {
        "colab": {
          "base_uri": "https://localhost:8080/",
          "height": 34
        },
        "id": "TrX3liVudA-E",
        "outputId": "17fb5a12-b7a3-4bbb-d2bc-4e722b5cdfb2"
      },
      "execution_count": null,
      "outputs": [
        {
          "output_type": "display_data",
          "data": {
            "text/html": [
              "42"
            ],
            "text/markdown": "42",
            "text/latex": "42",
            "text/plain": [
              "[1] 42"
            ]
          },
          "metadata": {}
        }
      ]
    },
    {
      "cell_type": "markdown",
      "source": [
        "**Text**"
      ],
      "metadata": {
        "id": "PF0lGXL8dUEL"
      }
    },
    {
      "cell_type": "markdown",
      "source": [
        "For example; ICD-10"
      ],
      "metadata": {
        "id": "gGOc_viDp9ku"
      }
    },
    {
      "cell_type": "code",
      "source": [
        "icd10<-c(\"I252\", \"Z955\", \"I48\", \"E789\", \"E789\", \"E876\", \"E119\",\n",
        "            \"I10\", \"E789\", \"E119\", \"E789\", \"I500\", \"E119\", \"E789\", \"I10\",\n",
        "            \"I10\", \"E789\", \"A419\", \"E119\", \"I251\", \"E119\", \"E119\", \"E789\",\n",
        "            \"E119\", \"E789\", \"E119\", \"E789\", \"E789\", \"E789\", \"E789\", \"E119\",\n",
        "            \"I10\", \"E149\", \"E119\", \"E119\", \"E119\", \"I251\", \"E119\", \"E789\",\n",
        "            \"I10\", \"E119\", \"A099\", \"E119\", \"E119\", \"B24\", \"E785\", \"Q220\",\n",
        "            \"E789\", \"E119\", \"I420\", \"E789\", NA, \"I251\", \"I251\", \"E119\",\n",
        "            \"E789\", \"E119\", \"E149\", \"E876\", \"E119\", \"E119\", \"I10\", \"E119\",\n",
        "            \"E789\", \"E059\", \"E789\", \"A099\", \"I251\", NA, \"E789\", \"E789\",\n",
        "            \"E119\", NA, \"I10\", \"I694\", \"E149\", \"E789\", NA, \"E789\",\n",
        "            \"I340\", \"E789\", \"I10\", \"E119\", NA, \"E149\", \"E789\", \"I259\",\n",
        "            \"E119\", \"E119\", \"E789\", NA, NA, \"E789\", \"E789\", \"D649\",\n",
        "            \"C509\", \"E785\", \"E789\", \"E119\", \"E785\", NA, NA, \"E785\",\n",
        "            NA, \"E119\", \"I10\", \"B171\", \"Z716\", \"E789\", \"E789\", \"D62\",\n",
        "            \"E789\", \"E789\", \"E872\", \"E119\", \"D638\", \"E789\", \"E119\", \"E789\",\n",
        "            NA, \"E789\", \"T811\", \"J40\", \"I251\", NA, \"E780\", NA,\n",
        "            \"E789\", \"E119\", \"C189\", \"E119\", \"E119\", \"E119\", \"I200\", \"Q250\",\n",
        "            \"I10\", \"E119\", \"E789\", \"T810\", NA, \"E789\", \"E789\", NA,\n",
        "            \"I255\", \"E119\", \"I251\", \"I10\", \"I10\", \"E119\", NA, \"E119\",\n",
        "            \"E789\", \"E782\", \"R570\", \"I10\", NA, \"E149\", \"E785\", \"E789\",\n",
        "            \"I10\", NA, NA, \"E119\", \"E785\", \"I500\", \"E119\", \"E785\",\n",
        "            \"E119\", \"E789\", \"E789\", \"E789\", \"D649\", \"E149\", \"E119\", NA,\n",
        "            \"I500\", \"I10\", \"E789\", \"E119\", \"E871\", \"E781\", \"E833\", \"E780\",\n",
        "            \"I251\", \"E789\", NA, \"I251\", NA, \"D649\", \"E119\", NA,\n",
        "            \"I10\", \"E789\", \"I652\", \"I119\", \"E119\", \"E789\", \"I200\", \"E780\",\n",
        "            \"B181\", \"E119\", \"J960\", \"E119\", \"E149\", \"E119\", \"B909\", \"E059\",\n",
        "            \"E119\", \"I255\", \"E789\", \"E789\", NA, NA, \"E782\", \"E119\",\n",
        "            \"I251\", \"E785\", \"E789\", \"E119\", NA, \"E780\", \"E789\", \"E119\",\n",
        "            NA, \"E833\", \"I10\", \"I48\", \"E119\", \"E119\", \"E119\", \"E119\",\n",
        "            \"E119\", \"E112\", \"E789\", \"E119\", \"C679\", \"A419\", \"E789\", \"E119\",\n",
        "            \"E050\", \"I251\", \"I10\", \"F209\", \"I10\", \"E789\", \"D509\", \"I351\",\n",
        "            \"E119\", \"I340\", \"I251\", \"I251\", \"E119\", \"E119\", \"E119\", \"E149\",\n",
        "            \"E789\", \"I255\", \"E119\", \"E119\", \"I251\", \"I251\", \"E112\",\n",
        "            \"E119\", \"E785\", \"E119\", \"I251\", \"I10\", \"I259\", \"E119\",\n",
        "            \"I251\", \"I500\", \"I251\", \"I251\", \"E785\", \"E112\", \"E785\", \"I259\",\n",
        "            \"E785\", \"E112\", \"I10\", \"I10\", \"E112\", \"I10\", \"E112\", \"I251\",\n",
        "            \"E119\", \"I10\", \"E785\", \"E112\", \"I251\", \"I251\", \"E785\", \"E112\",\n",
        "            \"E785\", \"E119\", \"I251\", \"E112\", \"E785\", \"E785\", \"E119\",\n",
        "            \"E119\", \"E112\", \"E785\", \"I251\", \"I10\", \"E112\", \"E785\", \"I10\",\n",
        "            \"I251\", \"E785\", \"E112\", \"E785\", \"I251\", \"E119\", \"E112\",\n",
        "            \"I10\", \"I251\", \"E785\", \"E785\", \"E112\", \"I10\", \"E785\", \"E112\",\n",
        "            \"E112\", \"E112\", \"E785\", \"E785\", \"E785\", \"I251\", \"I10\", \"E112\",\n",
        "            \"E112\", \"E112\", \"E112\", \"E112\", \"E112\", \"E112\", \"E785\", \"E785\",\n",
        "            \"E785\", \"E785\", \"E785\", \"E785\", \"E785\", \"E785\", \"E785\", \"E785\")"
      ],
      "metadata": {
        "id": "L3Df77fVpzBi"
      },
      "execution_count": null,
      "outputs": []
    },
    {
      "cell_type": "markdown",
      "source": [
        "tabulation"
      ],
      "metadata": {
        "id": "USm9PnfJtWFc"
      }
    },
    {
      "cell_type": "code",
      "source": [
        "tab1(icd10)"
      ],
      "metadata": {
        "colab": {
          "base_uri": "https://localhost:8080/",
          "height": 1000
        },
        "id": "uaM28ZuZtcXw",
        "outputId": "44cfbafd-1dec-4c62-8560-d5adcf38f4f4"
      },
      "execution_count": null,
      "outputs": [
        {
          "output_type": "display_data",
          "data": {
            "text/html": [
              "<dl>\n",
              "\t<dt>$first.line</dt>\n",
              "\t\t<dd>'icd10 : \\n'</dd>\n",
              "\t<dt>$output.table</dt>\n",
              "\t\t<dd><table class=\"dataframe\">\n",
              "<caption>A matrix: 53 × 3 of type dbl</caption>\n",
              "<thead>\n",
              "\t<tr><th></th><th scope=col>Frequency</th><th scope=col>  %(NA+)</th><th scope=col>  %(NA-)</th></tr>\n",
              "</thead>\n",
              "<tbody>\n",
              "\t<tr><th scope=row>A099</th><td>  2</td><td>  0.6</td><td>  0.6</td></tr>\n",
              "\t<tr><th scope=row>A419</th><td>  2</td><td>  0.6</td><td>  0.6</td></tr>\n",
              "\t<tr><th scope=row>B171</th><td>  1</td><td>  0.3</td><td>  0.3</td></tr>\n",
              "\t<tr><th scope=row>B181</th><td>  1</td><td>  0.3</td><td>  0.3</td></tr>\n",
              "\t<tr><th scope=row>B24</th><td>  1</td><td>  0.3</td><td>  0.3</td></tr>\n",
              "\t<tr><th scope=row>B909</th><td>  1</td><td>  0.3</td><td>  0.3</td></tr>\n",
              "\t<tr><th scope=row>C189</th><td>  1</td><td>  0.3</td><td>  0.3</td></tr>\n",
              "\t<tr><th scope=row>C509</th><td>  1</td><td>  0.3</td><td>  0.3</td></tr>\n",
              "\t<tr><th scope=row>C679</th><td>  1</td><td>  0.3</td><td>  0.3</td></tr>\n",
              "\t<tr><th scope=row>D509</th><td>  1</td><td>  0.3</td><td>  0.3</td></tr>\n",
              "\t<tr><th scope=row>D62</th><td>  1</td><td>  0.3</td><td>  0.3</td></tr>\n",
              "\t<tr><th scope=row>D638</th><td>  1</td><td>  0.3</td><td>  0.3</td></tr>\n",
              "\t<tr><th scope=row>D649</th><td>  3</td><td>  0.9</td><td>  0.9</td></tr>\n",
              "\t<tr><th scope=row>E050</th><td>  1</td><td>  0.3</td><td>  0.3</td></tr>\n",
              "\t<tr><th scope=row>E059</th><td>  2</td><td>  0.6</td><td>  0.6</td></tr>\n",
              "\t<tr><th scope=row>E112</th><td> 24</td><td>  6.9</td><td>  7.5</td></tr>\n",
              "\t<tr><th scope=row>E119</th><td> 73</td><td> 21.0</td><td> 22.8</td></tr>\n",
              "\t<tr><th scope=row>E149</th><td>  8</td><td>  2.3</td><td>  2.5</td></tr>\n",
              "\t<tr><th scope=row>E780</th><td>  4</td><td>  1.2</td><td>  1.2</td></tr>\n",
              "\t<tr><th scope=row>E781</th><td>  1</td><td>  0.3</td><td>  0.3</td></tr>\n",
              "\t<tr><th scope=row>E782</th><td>  2</td><td>  0.6</td><td>  0.6</td></tr>\n",
              "\t<tr><th scope=row>E785</th><td> 37</td><td> 10.7</td><td> 11.6</td></tr>\n",
              "\t<tr><th scope=row>E789</th><td> 56</td><td> 16.1</td><td> 17.5</td></tr>\n",
              "\t<tr><th scope=row>E833</th><td>  2</td><td>  0.6</td><td>  0.6</td></tr>\n",
              "\t<tr><th scope=row>E871</th><td>  1</td><td>  0.3</td><td>  0.3</td></tr>\n",
              "\t<tr><th scope=row>E872</th><td>  1</td><td>  0.3</td><td>  0.3</td></tr>\n",
              "\t<tr><th scope=row>E876</th><td>  2</td><td>  0.6</td><td>  0.6</td></tr>\n",
              "\t<tr><th scope=row>F209</th><td>  1</td><td>  0.3</td><td>  0.3</td></tr>\n",
              "\t<tr><th scope=row>I10</th><td> 29</td><td>  8.4</td><td>  9.1</td></tr>\n",
              "\t<tr><th scope=row>I119</th><td>  1</td><td>  0.3</td><td>  0.3</td></tr>\n",
              "\t<tr><th scope=row>I200</th><td>  2</td><td>  0.6</td><td>  0.6</td></tr>\n",
              "\t<tr><th scope=row>I251</th><td> 28</td><td>  8.1</td><td>  8.8</td></tr>\n",
              "\t<tr><th scope=row>I252</th><td>  1</td><td>  0.3</td><td>  0.3</td></tr>\n",
              "\t<tr><th scope=row>I255</th><td>  3</td><td>  0.9</td><td>  0.9</td></tr>\n",
              "\t<tr><th scope=row>I259</th><td>  3</td><td>  0.9</td><td>  0.9</td></tr>\n",
              "\t<tr><th scope=row>I340</th><td>  2</td><td>  0.6</td><td>  0.6</td></tr>\n",
              "\t<tr><th scope=row>I351</th><td>  1</td><td>  0.3</td><td>  0.3</td></tr>\n",
              "\t<tr><th scope=row>I420</th><td>  1</td><td>  0.3</td><td>  0.3</td></tr>\n",
              "\t<tr><th scope=row>I48</th><td>  2</td><td>  0.6</td><td>  0.6</td></tr>\n",
              "\t<tr><th scope=row>I500</th><td>  4</td><td>  1.2</td><td>  1.2</td></tr>\n",
              "\t<tr><th scope=row>I652</th><td>  1</td><td>  0.3</td><td>  0.3</td></tr>\n",
              "\t<tr><th scope=row>I694</th><td>  1</td><td>  0.3</td><td>  0.3</td></tr>\n",
              "\t<tr><th scope=row>J40</th><td>  1</td><td>  0.3</td><td>  0.3</td></tr>\n",
              "\t<tr><th scope=row>J960</th><td>  1</td><td>  0.3</td><td>  0.3</td></tr>\n",
              "\t<tr><th scope=row>Q220</th><td>  1</td><td>  0.3</td><td>  0.3</td></tr>\n",
              "\t<tr><th scope=row>Q250</th><td>  1</td><td>  0.3</td><td>  0.3</td></tr>\n",
              "\t<tr><th scope=row>R570</th><td>  1</td><td>  0.3</td><td>  0.3</td></tr>\n",
              "\t<tr><th scope=row>T810</th><td>  1</td><td>  0.3</td><td>  0.3</td></tr>\n",
              "\t<tr><th scope=row>T811</th><td>  1</td><td>  0.3</td><td>  0.3</td></tr>\n",
              "\t<tr><th scope=row>Z716</th><td>  1</td><td>  0.3</td><td>  0.3</td></tr>\n",
              "\t<tr><th scope=row>Z955</th><td>  1</td><td>  0.3</td><td>  0.3</td></tr>\n",
              "\t<tr><th scope=row>NA</th><td> 27</td><td>  7.8</td><td>  0.0</td></tr>\n",
              "\t<tr><th scope=row>  Total</th><td>347</td><td>100.0</td><td>100.0</td></tr>\n",
              "</tbody>\n",
              "</table>\n",
              "</dd>\n",
              "</dl>\n"
            ],
            "text/markdown": "$first.line\n:   'icd10 : \\n'\n$output.table\n:   \nA matrix: 53 × 3 of type dbl\n\n| <!--/--> | Frequency |   %(NA+) |   %(NA-) |\n|---|---|---|---|\n| A099 |   2 |   0.6 |   0.6 |\n| A419 |   2 |   0.6 |   0.6 |\n| B171 |   1 |   0.3 |   0.3 |\n| B181 |   1 |   0.3 |   0.3 |\n| B24 |   1 |   0.3 |   0.3 |\n| B909 |   1 |   0.3 |   0.3 |\n| C189 |   1 |   0.3 |   0.3 |\n| C509 |   1 |   0.3 |   0.3 |\n| C679 |   1 |   0.3 |   0.3 |\n| D509 |   1 |   0.3 |   0.3 |\n| D62 |   1 |   0.3 |   0.3 |\n| D638 |   1 |   0.3 |   0.3 |\n| D649 |   3 |   0.9 |   0.9 |\n| E050 |   1 |   0.3 |   0.3 |\n| E059 |   2 |   0.6 |   0.6 |\n| E112 |  24 |   6.9 |   7.5 |\n| E119 |  73 |  21.0 |  22.8 |\n| E149 |   8 |   2.3 |   2.5 |\n| E780 |   4 |   1.2 |   1.2 |\n| E781 |   1 |   0.3 |   0.3 |\n| E782 |   2 |   0.6 |   0.6 |\n| E785 |  37 |  10.7 |  11.6 |\n| E789 |  56 |  16.1 |  17.5 |\n| E833 |   2 |   0.6 |   0.6 |\n| E871 |   1 |   0.3 |   0.3 |\n| E872 |   1 |   0.3 |   0.3 |\n| E876 |   2 |   0.6 |   0.6 |\n| F209 |   1 |   0.3 |   0.3 |\n| I10 |  29 |   8.4 |   9.1 |\n| I119 |   1 |   0.3 |   0.3 |\n| I200 |   2 |   0.6 |   0.6 |\n| I251 |  28 |   8.1 |   8.8 |\n| I252 |   1 |   0.3 |   0.3 |\n| I255 |   3 |   0.9 |   0.9 |\n| I259 |   3 |   0.9 |   0.9 |\n| I340 |   2 |   0.6 |   0.6 |\n| I351 |   1 |   0.3 |   0.3 |\n| I420 |   1 |   0.3 |   0.3 |\n| I48 |   2 |   0.6 |   0.6 |\n| I500 |   4 |   1.2 |   1.2 |\n| I652 |   1 |   0.3 |   0.3 |\n| I694 |   1 |   0.3 |   0.3 |\n| J40 |   1 |   0.3 |   0.3 |\n| J960 |   1 |   0.3 |   0.3 |\n| Q220 |   1 |   0.3 |   0.3 |\n| Q250 |   1 |   0.3 |   0.3 |\n| R570 |   1 |   0.3 |   0.3 |\n| T810 |   1 |   0.3 |   0.3 |\n| T811 |   1 |   0.3 |   0.3 |\n| Z716 |   1 |   0.3 |   0.3 |\n| Z955 |   1 |   0.3 |   0.3 |\n| NA |  27 |   7.8 |   0.0 |\n|   Total | 347 | 100.0 | 100.0 |\n\n\n\n\n",
            "text/latex": "\\begin{description}\n\\item[\\$first.line] 'icd10 : \\textbackslash{}n'\n\\item[\\$output.table] A matrix: 53 × 3 of type dbl\n\\begin{tabular}{r|lll}\n  & Frequency &   \\%(NA+) &   \\%(NA-)\\\\\n\\hline\n\tA099 &   2 &   0.6 &   0.6\\\\\n\tA419 &   2 &   0.6 &   0.6\\\\\n\tB171 &   1 &   0.3 &   0.3\\\\\n\tB181 &   1 &   0.3 &   0.3\\\\\n\tB24 &   1 &   0.3 &   0.3\\\\\n\tB909 &   1 &   0.3 &   0.3\\\\\n\tC189 &   1 &   0.3 &   0.3\\\\\n\tC509 &   1 &   0.3 &   0.3\\\\\n\tC679 &   1 &   0.3 &   0.3\\\\\n\tD509 &   1 &   0.3 &   0.3\\\\\n\tD62 &   1 &   0.3 &   0.3\\\\\n\tD638 &   1 &   0.3 &   0.3\\\\\n\tD649 &   3 &   0.9 &   0.9\\\\\n\tE050 &   1 &   0.3 &   0.3\\\\\n\tE059 &   2 &   0.6 &   0.6\\\\\n\tE112 &  24 &   6.9 &   7.5\\\\\n\tE119 &  73 &  21.0 &  22.8\\\\\n\tE149 &   8 &   2.3 &   2.5\\\\\n\tE780 &   4 &   1.2 &   1.2\\\\\n\tE781 &   1 &   0.3 &   0.3\\\\\n\tE782 &   2 &   0.6 &   0.6\\\\\n\tE785 &  37 &  10.7 &  11.6\\\\\n\tE789 &  56 &  16.1 &  17.5\\\\\n\tE833 &   2 &   0.6 &   0.6\\\\\n\tE871 &   1 &   0.3 &   0.3\\\\\n\tE872 &   1 &   0.3 &   0.3\\\\\n\tE876 &   2 &   0.6 &   0.6\\\\\n\tF209 &   1 &   0.3 &   0.3\\\\\n\tI10 &  29 &   8.4 &   9.1\\\\\n\tI119 &   1 &   0.3 &   0.3\\\\\n\tI200 &   2 &   0.6 &   0.6\\\\\n\tI251 &  28 &   8.1 &   8.8\\\\\n\tI252 &   1 &   0.3 &   0.3\\\\\n\tI255 &   3 &   0.9 &   0.9\\\\\n\tI259 &   3 &   0.9 &   0.9\\\\\n\tI340 &   2 &   0.6 &   0.6\\\\\n\tI351 &   1 &   0.3 &   0.3\\\\\n\tI420 &   1 &   0.3 &   0.3\\\\\n\tI48 &   2 &   0.6 &   0.6\\\\\n\tI500 &   4 &   1.2 &   1.2\\\\\n\tI652 &   1 &   0.3 &   0.3\\\\\n\tI694 &   1 &   0.3 &   0.3\\\\\n\tJ40 &   1 &   0.3 &   0.3\\\\\n\tJ960 &   1 &   0.3 &   0.3\\\\\n\tQ220 &   1 &   0.3 &   0.3\\\\\n\tQ250 &   1 &   0.3 &   0.3\\\\\n\tR570 &   1 &   0.3 &   0.3\\\\\n\tT810 &   1 &   0.3 &   0.3\\\\\n\tT811 &   1 &   0.3 &   0.3\\\\\n\tZ716 &   1 &   0.3 &   0.3\\\\\n\tZ955 &   1 &   0.3 &   0.3\\\\\n\tNA &  27 &   7.8 &   0.0\\\\\n\t  Total & 347 & 100.0 & 100.0\\\\\n\\end{tabular}\n\n\\end{description}\n",
            "text/plain": [
              "icd10 : \n",
              "        Frequency   %(NA+)   %(NA-)\n",
              "A099            2      0.6      0.6\n",
              "A419            2      0.6      0.6\n",
              "B171            1      0.3      0.3\n",
              "B181            1      0.3      0.3\n",
              "B24             1      0.3      0.3\n",
              "B909            1      0.3      0.3\n",
              "C189            1      0.3      0.3\n",
              "C509            1      0.3      0.3\n",
              "C679            1      0.3      0.3\n",
              "D509            1      0.3      0.3\n",
              "D62             1      0.3      0.3\n",
              "D638            1      0.3      0.3\n",
              "D649            3      0.9      0.9\n",
              "E050            1      0.3      0.3\n",
              "E059            2      0.6      0.6\n",
              "E112           24      6.9      7.5\n",
              "E119           73     21.0     22.8\n",
              "E149            8      2.3      2.5\n",
              "E780            4      1.2      1.2\n",
              "E781            1      0.3      0.3\n",
              "E782            2      0.6      0.6\n",
              "E785           37     10.7     11.6\n",
              "E789           56     16.1     17.5\n",
              "E833            2      0.6      0.6\n",
              "E871            1      0.3      0.3\n",
              "E872            1      0.3      0.3\n",
              "E876            2      0.6      0.6\n",
              "F209            1      0.3      0.3\n",
              "I10            29      8.4      9.1\n",
              "I119            1      0.3      0.3\n",
              "I200            2      0.6      0.6\n",
              "I251           28      8.1      8.8\n",
              "I252            1      0.3      0.3\n",
              "I255            3      0.9      0.9\n",
              "I259            3      0.9      0.9\n",
              "I340            2      0.6      0.6\n",
              "I351            1      0.3      0.3\n",
              "I420            1      0.3      0.3\n",
              "I48             2      0.6      0.6\n",
              "I500            4      1.2      1.2\n",
              "I652            1      0.3      0.3\n",
              "I694            1      0.3      0.3\n",
              "J40             1      0.3      0.3\n",
              "J960            1      0.3      0.3\n",
              "Q220            1      0.3      0.3\n",
              "Q250            1      0.3      0.3\n",
              "R570            1      0.3      0.3\n",
              "T810            1      0.3      0.3\n",
              "T811            1      0.3      0.3\n",
              "Z716            1      0.3      0.3\n",
              "Z955            1      0.3      0.3\n",
              "<NA>           27      7.8      0.0\n",
              "  Total       347    100.0    100.0"
            ]
          },
          "metadata": {}
        },
        {
          "output_type": "display_data",
          "data": {
            "text/plain": [
              "Plot with title “Distribution of icd10”"
            ],
            "image/png": "[encoded data removed]"
          },
          "metadata": {
            "image/png": {
              "width": 420,
              "height": 420
            }
          }
        }
      ]
    },
    {
      "cell_type": "markdown",
      "source": [
        "Identify hypertension: ICD-10 = I10"
      ],
      "metadata": {
        "id": "EV_oizGJt6ei"
      }
    },
    {
      "cell_type": "code",
      "source": [
        "hypertension<-str_detect(icd10,\"I10\")\n",
        "print(hypertension)"
      ],
      "metadata": {
        "colab": {
          "base_uri": "https://localhost:8080/"
        },
        "id": "CYYsazHtt89w",
        "outputId": "25f9b03b-7b38-46cd-c642-bb0f10e10a7d"
      },
      "execution_count": null,
      "outputs": [
        {
          "output_type": "stream",
          "name": "stdout",
          "text": [
            "  [1] FALSE FALSE FALSE FALSE FALSE FALSE FALSE  TRUE FALSE FALSE FALSE FALSE\n",
            " [13] FALSE FALSE  TRUE  TRUE FALSE FALSE FALSE FALSE FALSE FALSE FALSE FALSE\n",
            " [25] FALSE FALSE FALSE FALSE FALSE FALSE FALSE  TRUE FALSE FALSE FALSE FALSE\n",
            " [37] FALSE FALSE FALSE  TRUE FALSE FALSE FALSE FALSE FALSE FALSE FALSE FALSE\n",
            " [49] FALSE FALSE FALSE    NA FALSE FALSE FALSE FALSE FALSE FALSE FALSE FALSE\n",
            " [61] FALSE  TRUE FALSE FALSE FALSE FALSE FALSE FALSE    NA FALSE FALSE FALSE\n",
            " [73]    NA  TRUE FALSE FALSE FALSE    NA FALSE FALSE FALSE  TRUE FALSE    NA\n",
            " [85] FALSE FALSE FALSE FALSE FALSE FALSE    NA    NA FALSE FALSE FALSE FALSE\n",
            " [97] FALSE FALSE FALSE FALSE    NA    NA FALSE    NA FALSE  TRUE FALSE FALSE\n",
            "[109] FALSE FALSE FALSE FALSE FALSE FALSE FALSE FALSE FALSE FALSE FALSE    NA\n",
            "[121] FALSE FALSE FALSE FALSE    NA FALSE    NA FALSE FALSE FALSE FALSE FALSE\n",
            "[133] FALSE FALSE FALSE  TRUE FALSE FALSE FALSE    NA FALSE FALSE    NA FALSE\n",
            "[145] FALSE FALSE  TRUE  TRUE FALSE    NA FALSE FALSE FALSE FALSE  TRUE    NA\n",
            "[157] FALSE FALSE FALSE  TRUE    NA    NA FALSE FALSE FALSE FALSE FALSE FALSE\n",
            "[169] FALSE FALSE FALSE FALSE FALSE FALSE    NA FALSE  TRUE FALSE FALSE FALSE\n",
            "[181] FALSE FALSE FALSE FALSE FALSE    NA FALSE    NA FALSE FALSE    NA  TRUE\n",
            "[193] FALSE FALSE FALSE FALSE FALSE FALSE FALSE FALSE FALSE FALSE FALSE FALSE\n",
            "[205] FALSE FALSE FALSE FALSE FALSE FALSE FALSE    NA    NA FALSE FALSE FALSE\n",
            "[217] FALSE FALSE FALSE    NA FALSE FALSE FALSE    NA FALSE  TRUE FALSE FALSE\n",
            "[229] FALSE FALSE FALSE FALSE FALSE FALSE FALSE FALSE FALSE FALSE FALSE FALSE\n",
            "[241] FALSE  TRUE FALSE  TRUE FALSE FALSE FALSE FALSE FALSE FALSE FALSE FALSE\n",
            "[253] FALSE FALSE FALSE FALSE FALSE FALSE FALSE FALSE FALSE FALSE FALSE FALSE\n",
            "[265] FALSE FALSE  TRUE FALSE FALSE FALSE FALSE FALSE FALSE FALSE FALSE FALSE\n",
            "[277] FALSE FALSE FALSE  TRUE  TRUE FALSE  TRUE FALSE FALSE FALSE  TRUE FALSE\n",
            "[289] FALSE FALSE FALSE FALSE FALSE FALSE FALSE FALSE FALSE FALSE FALSE FALSE\n",
            "[301] FALSE FALSE FALSE FALSE  TRUE FALSE FALSE  TRUE FALSE FALSE FALSE FALSE\n",
            "[313] FALSE FALSE FALSE  TRUE FALSE FALSE FALSE FALSE  TRUE FALSE FALSE FALSE\n",
            "[325] FALSE FALSE FALSE FALSE FALSE  TRUE FALSE FALSE FALSE FALSE FALSE FALSE\n",
            "[337] FALSE FALSE FALSE FALSE FALSE FALSE FALSE FALSE FALSE FALSE FALSE\n"
          ]
        }
      ]
    },
    {
      "cell_type": "markdown",
      "source": [
        "For the booleans, TRUE = 1, and FALSE = 0"
      ],
      "metadata": {
        "id": "bQxPe9ZRu8k2"
      }
    },
    {
      "cell_type": "code",
      "source": [
        "sum(hypertension)"
      ],
      "metadata": {
        "colab": {
          "base_uri": "https://localhost:8080/",
          "height": 34
        },
        "id": "bjYaOWMju0Ch",
        "outputId": "0dc629e4-0a5b-4ed5-ed6c-21f59196184a"
      },
      "execution_count": null,
      "outputs": [
        {
          "output_type": "display_data",
          "data": {
            "text/html": [
              "&lt;NA&gt;"
            ],
            "text/markdown": "&lt;NA&gt;",
            "text/latex": "<NA>",
            "text/plain": [
              "[1] NA"
            ]
          },
          "metadata": {}
        }
      ]
    },
    {
      "cell_type": "markdown",
      "source": [
        "Remember!!! Whenever you have any NA in a vector, don't forget to specify na.rm = TRUE, otherwise it will return NA."
      ],
      "metadata": {
        "id": "glIUmEjFvHWE"
      }
    },
    {
      "cell_type": "code",
      "source": [
        "is.na(hypertension)"
      ],
      "metadata": {
        "colab": {
          "base_uri": "https://localhost:8080/",
          "height": 225
        },
        "id": "jycx9rSswPvY",
        "outputId": "85951c94-d39a-4cc0-f7a5-f8153d192d88"
      },
      "execution_count": null,
      "outputs": [
        {
          "output_type": "display_data",
          "data": {
            "text/html": [
              "<style>\n",
              ".list-inline {list-style: none; margin:0; padding: 0}\n",
              ".list-inline>li {display: inline-block}\n",
              ".list-inline>li:not(:last-child)::after {content: \"\\00b7\"; padding: 0 .5ex}\n",
              "</style>\n",
              "<ol class=list-inline><li>FALSE</li><li>FALSE</li><li>FALSE</li><li>FALSE</li><li>FALSE</li><li>FALSE</li><li>FALSE</li><li>FALSE</li><li>FALSE</li><li>FALSE</li><li>FALSE</li><li>FALSE</li><li>FALSE</li><li>FALSE</li><li>FALSE</li><li>FALSE</li><li>FALSE</li><li>FALSE</li><li>FALSE</li><li>FALSE</li><li>FALSE</li><li>FALSE</li><li>FALSE</li><li>FALSE</li><li>FALSE</li><li>FALSE</li><li>FALSE</li><li>FALSE</li><li>FALSE</li><li>FALSE</li><li>FALSE</li><li>FALSE</li><li>FALSE</li><li>FALSE</li><li>FALSE</li><li>FALSE</li><li>FALSE</li><li>FALSE</li><li>FALSE</li><li>FALSE</li><li>FALSE</li><li>FALSE</li><li>FALSE</li><li>FALSE</li><li>FALSE</li><li>FALSE</li><li>FALSE</li><li>FALSE</li><li>FALSE</li><li>FALSE</li><li>FALSE</li><li>TRUE</li><li>FALSE</li><li>FALSE</li><li>FALSE</li><li>FALSE</li><li>FALSE</li><li>FALSE</li><li>FALSE</li><li>FALSE</li><li>FALSE</li><li>FALSE</li><li>FALSE</li><li>FALSE</li><li>FALSE</li><li>FALSE</li><li>FALSE</li><li>FALSE</li><li>TRUE</li><li>FALSE</li><li>FALSE</li><li>FALSE</li><li>TRUE</li><li>FALSE</li><li>FALSE</li><li>FALSE</li><li>FALSE</li><li>TRUE</li><li>FALSE</li><li>FALSE</li><li>FALSE</li><li>FALSE</li><li>FALSE</li><li>TRUE</li><li>FALSE</li><li>FALSE</li><li>FALSE</li><li>FALSE</li><li>FALSE</li><li>FALSE</li><li>TRUE</li><li>TRUE</li><li>FALSE</li><li>FALSE</li><li>FALSE</li><li>FALSE</li><li>FALSE</li><li>FALSE</li><li>FALSE</li><li>FALSE</li><li>TRUE</li><li>TRUE</li><li>FALSE</li><li>TRUE</li><li>FALSE</li><li>FALSE</li><li>FALSE</li><li>FALSE</li><li>FALSE</li><li>FALSE</li><li>FALSE</li><li>FALSE</li><li>FALSE</li><li>FALSE</li><li>FALSE</li><li>FALSE</li><li>FALSE</li><li>FALSE</li><li>FALSE</li><li>TRUE</li><li>FALSE</li><li>FALSE</li><li>FALSE</li><li>FALSE</li><li>TRUE</li><li>FALSE</li><li>TRUE</li><li>FALSE</li><li>FALSE</li><li>FALSE</li><li>FALSE</li><li>FALSE</li><li>FALSE</li><li>FALSE</li><li>FALSE</li><li>FALSE</li><li>FALSE</li><li>FALSE</li><li>FALSE</li><li>TRUE</li><li>FALSE</li><li>FALSE</li><li>TRUE</li><li>FALSE</li><li>FALSE</li><li>FALSE</li><li>FALSE</li><li>FALSE</li><li>FALSE</li><li>TRUE</li><li>FALSE</li><li>FALSE</li><li>FALSE</li><li>FALSE</li><li>FALSE</li><li>TRUE</li><li>FALSE</li><li>FALSE</li><li>FALSE</li><li>FALSE</li><li>TRUE</li><li>TRUE</li><li>FALSE</li><li>FALSE</li><li>FALSE</li><li>FALSE</li><li>FALSE</li><li>FALSE</li><li>FALSE</li><li>FALSE</li><li>FALSE</li><li>FALSE</li><li>FALSE</li><li>FALSE</li><li>TRUE</li><li>FALSE</li><li>FALSE</li><li>FALSE</li><li>FALSE</li><li>FALSE</li><li>FALSE</li><li>FALSE</li><li>FALSE</li><li>FALSE</li><li>FALSE</li><li>TRUE</li><li>FALSE</li><li>TRUE</li><li>FALSE</li><li>FALSE</li><li>TRUE</li><li>FALSE</li><li>FALSE</li><li>FALSE</li><li>FALSE</li><li>FALSE</li><li>FALSE</li><li>FALSE</li><li>FALSE</li><li>FALSE</li><li>FALSE</li><li>FALSE</li><li>FALSE</li><li>FALSE</li><li>FALSE</li><li>FALSE</li><li>FALSE</li><li>FALSE</li><li>FALSE</li><li>FALSE</li><li>FALSE</li><li>TRUE</li><li>TRUE</li><li>FALSE</li><li>FALSE</li><li>FALSE</li><li>FALSE</li><li>FALSE</li><li>FALSE</li><li>TRUE</li><li>FALSE</li><li>FALSE</li><li>FALSE</li><li>TRUE</li><li>FALSE</li><li>FALSE</li><li>FALSE</li><li>FALSE</li><li>FALSE</li><li>FALSE</li><li>FALSE</li><li>FALSE</li><li>FALSE</li><li>FALSE</li><li>FALSE</li><li>FALSE</li><li>FALSE</li><li>FALSE</li><li>FALSE</li><li>FALSE</li><li>FALSE</li><li>FALSE</li><li>FALSE</li><li>FALSE</li><li>FALSE</li><li>FALSE</li><li>FALSE</li><li>FALSE</li><li>FALSE</li><li>FALSE</li><li>FALSE</li><li>FALSE</li><li>FALSE</li><li>FALSE</li><li>FALSE</li><li>FALSE</li><li>FALSE</li><li>FALSE</li><li>FALSE</li><li>FALSE</li><li>FALSE</li><li>FALSE</li><li>FALSE</li><li>FALSE</li><li>FALSE</li><li>FALSE</li><li>FALSE</li><li>FALSE</li><li>FALSE</li><li>FALSE</li><li>FALSE</li><li>FALSE</li><li>FALSE</li><li>FALSE</li><li>FALSE</li><li>FALSE</li><li>FALSE</li><li>FALSE</li><li>FALSE</li><li>FALSE</li><li>FALSE</li><li>FALSE</li><li>FALSE</li><li>FALSE</li><li>FALSE</li><li>FALSE</li><li>FALSE</li><li>FALSE</li><li>FALSE</li><li>FALSE</li><li>FALSE</li><li>FALSE</li><li>FALSE</li><li>FALSE</li><li>FALSE</li><li>FALSE</li><li>FALSE</li><li>FALSE</li><li>FALSE</li><li>FALSE</li><li>FALSE</li><li>FALSE</li><li>FALSE</li><li>FALSE</li><li>FALSE</li><li>FALSE</li><li>FALSE</li><li>FALSE</li><li>FALSE</li><li>FALSE</li><li>FALSE</li><li>FALSE</li><li>FALSE</li><li>FALSE</li><li>FALSE</li><li>FALSE</li><li>FALSE</li><li>FALSE</li><li>FALSE</li><li>FALSE</li><li>FALSE</li><li>FALSE</li><li>FALSE</li><li>FALSE</li><li>FALSE</li><li>FALSE</li><li>FALSE</li><li>FALSE</li><li>FALSE</li><li>FALSE</li><li>FALSE</li><li>FALSE</li><li>FALSE</li><li>FALSE</li><li>FALSE</li><li>FALSE</li><li>FALSE</li><li>FALSE</li><li>FALSE</li><li>FALSE</li><li>FALSE</li><li>FALSE</li><li>FALSE</li><li>FALSE</li><li>FALSE</li><li>FALSE</li><li>FALSE</li></ol>\n"
            ],
            "text/markdown": "1. FALSE\n2. FALSE\n3. FALSE\n4. FALSE\n5. FALSE\n6. FALSE\n7. FALSE\n8. FALSE\n9. FALSE\n10. FALSE\n11. FALSE\n12. FALSE\n13. FALSE\n14. FALSE\n15. FALSE\n16. FALSE\n17. FALSE\n18. FALSE\n19. FALSE\n20. FALSE\n21. FALSE\n22. FALSE\n23. FALSE\n24. FALSE\n25. FALSE\n26. FALSE\n27. FALSE\n28. FALSE\n29. FALSE\n30. FALSE\n31. FALSE\n32. FALSE\n33. FALSE\n34. FALSE\n35. FALSE\n36. FALSE\n37. FALSE\n38. FALSE\n39. FALSE\n40. FALSE\n41. FALSE\n42. FALSE\n43. FALSE\n44. FALSE\n45. FALSE\n46. FALSE\n47. FALSE\n48. FALSE\n49. FALSE\n50. FALSE\n51. FALSE\n52. TRUE\n53. FALSE\n54. FALSE\n55. FALSE\n56. FALSE\n57. FALSE\n58. FALSE\n59. FALSE\n60. FALSE\n61. FALSE\n62. FALSE\n63. FALSE\n64. FALSE\n65. FALSE\n66. FALSE\n67. FALSE\n68. FALSE\n69. TRUE\n70. FALSE\n71. FALSE\n72. FALSE\n73. TRUE\n74. FALSE\n75. FALSE\n76. FALSE\n77. FALSE\n78. TRUE\n79. FALSE\n80. FALSE\n81. FALSE\n82. FALSE\n83. FALSE\n84. TRUE\n85. FALSE\n86. FALSE\n87. FALSE\n88. FALSE\n89. FALSE\n90. FALSE\n91. TRUE\n92. TRUE\n93. FALSE\n94. FALSE\n95. FALSE\n96. FALSE\n97. FALSE\n98. FALSE\n99. FALSE\n100. FALSE\n101. TRUE\n102. TRUE\n103. FALSE\n104. TRUE\n105. FALSE\n106. FALSE\n107. FALSE\n108. FALSE\n109. FALSE\n110. FALSE\n111. FALSE\n112. FALSE\n113. FALSE\n114. FALSE\n115. FALSE\n116. FALSE\n117. FALSE\n118. FALSE\n119. FALSE\n120. TRUE\n121. FALSE\n122. FALSE\n123. FALSE\n124. FALSE\n125. TRUE\n126. FALSE\n127. TRUE\n128. FALSE\n129. FALSE\n130. FALSE\n131. FALSE\n132. FALSE\n133. FALSE\n134. FALSE\n135. FALSE\n136. FALSE\n137. FALSE\n138. FALSE\n139. FALSE\n140. TRUE\n141. FALSE\n142. FALSE\n143. TRUE\n144. FALSE\n145. FALSE\n146. FALSE\n147. FALSE\n148. FALSE\n149. FALSE\n150. TRUE\n151. FALSE\n152. FALSE\n153. FALSE\n154. FALSE\n155. FALSE\n156. TRUE\n157. FALSE\n158. FALSE\n159. FALSE\n160. FALSE\n161. TRUE\n162. TRUE\n163. FALSE\n164. FALSE\n165. FALSE\n166. FALSE\n167. FALSE\n168. FALSE\n169. FALSE\n170. FALSE\n171. FALSE\n172. FALSE\n173. FALSE\n174. FALSE\n175. TRUE\n176. FALSE\n177. FALSE\n178. FALSE\n179. FALSE\n180. FALSE\n181. FALSE\n182. FALSE\n183. FALSE\n184. FALSE\n185. FALSE\n186. TRUE\n187. FALSE\n188. TRUE\n189. FALSE\n190. FALSE\n191. TRUE\n192. FALSE\n193. FALSE\n194. FALSE\n195. FALSE\n196. FALSE\n197. FALSE\n198. FALSE\n199. FALSE\n200. FALSE\n201. FALSE\n202. FALSE\n203. FALSE\n204. FALSE\n205. FALSE\n206. FALSE\n207. FALSE\n208. FALSE\n209. FALSE\n210. FALSE\n211. FALSE\n212. TRUE\n213. TRUE\n214. FALSE\n215. FALSE\n216. FALSE\n217. FALSE\n218. FALSE\n219. FALSE\n220. TRUE\n221. FALSE\n222. FALSE\n223. FALSE\n224. TRUE\n225. FALSE\n226. FALSE\n227. FALSE\n228. FALSE\n229. FALSE\n230. FALSE\n231. FALSE\n232. FALSE\n233. FALSE\n234. FALSE\n235. FALSE\n236. FALSE\n237. FALSE\n238. FALSE\n239. FALSE\n240. FALSE\n241. FALSE\n242. FALSE\n243. FALSE\n244. FALSE\n245. FALSE\n246. FALSE\n247. FALSE\n248. FALSE\n249. FALSE\n250. FALSE\n251. FALSE\n252. FALSE\n253. FALSE\n254. FALSE\n255. FALSE\n256. FALSE\n257. FALSE\n258. FALSE\n259. FALSE\n260. FALSE\n261. FALSE\n262. FALSE\n263. FALSE\n264. FALSE\n265. FALSE\n266. FALSE\n267. FALSE\n268. FALSE\n269. FALSE\n270. FALSE\n271. FALSE\n272. FALSE\n273. FALSE\n274. FALSE\n275. FALSE\n276. FALSE\n277. FALSE\n278. FALSE\n279. FALSE\n280. FALSE\n281. FALSE\n282. FALSE\n283. FALSE\n284. FALSE\n285. FALSE\n286. FALSE\n287. FALSE\n288. FALSE\n289. FALSE\n290. FALSE\n291. FALSE\n292. FALSE\n293. FALSE\n294. FALSE\n295. FALSE\n296. FALSE\n297. FALSE\n298. FALSE\n299. FALSE\n300. FALSE\n301. FALSE\n302. FALSE\n303. FALSE\n304. FALSE\n305. FALSE\n306. FALSE\n307. FALSE\n308. FALSE\n309. FALSE\n310. FALSE\n311. FALSE\n312. FALSE\n313. FALSE\n314. FALSE\n315. FALSE\n316. FALSE\n317. FALSE\n318. FALSE\n319. FALSE\n320. FALSE\n321. FALSE\n322. FALSE\n323. FALSE\n324. FALSE\n325. FALSE\n326. FALSE\n327. FALSE\n328. FALSE\n329. FALSE\n330. FALSE\n331. FALSE\n332. FALSE\n333. FALSE\n334. FALSE\n335. FALSE\n336. FALSE\n337. FALSE\n338. FALSE\n339. FALSE\n340. FALSE\n341. FALSE\n342. FALSE\n343. FALSE\n344. FALSE\n345. FALSE\n346. FALSE\n347. FALSE\n\n\n",
            "text/latex": "\\begin{enumerate*}\n\\item FALSE\n\\item FALSE\n\\item FALSE\n\\item FALSE\n\\item FALSE\n\\item FALSE\n\\item FALSE\n\\item FALSE\n\\item FALSE\n\\item FALSE\n\\item FALSE\n\\item FALSE\n\\item FALSE\n\\item FALSE\n\\item FALSE\n\\item FALSE\n\\item FALSE\n\\item FALSE\n\\item FALSE\n\\item FALSE\n\\item FALSE\n\\item FALSE\n\\item FALSE\n\\item FALSE\n\\item FALSE\n\\item FALSE\n\\item FALSE\n\\item FALSE\n\\item FALSE\n\\item FALSE\n\\item FALSE\n\\item FALSE\n\\item FALSE\n\\item FALSE\n\\item FALSE\n\\item FALSE\n\\item FALSE\n\\item FALSE\n\\item FALSE\n\\item FALSE\n\\item FALSE\n\\item FALSE\n\\item FALSE\n\\item FALSE\n\\item FALSE\n\\item FALSE\n\\item FALSE\n\\item FALSE\n\\item FALSE\n\\item FALSE\n\\item FALSE\n\\item TRUE\n\\item FALSE\n\\item FALSE\n\\item FALSE\n\\item FALSE\n\\item FALSE\n\\item FALSE\n\\item FALSE\n\\item FALSE\n\\item FALSE\n\\item FALSE\n\\item FALSE\n\\item FALSE\n\\item FALSE\n\\item FALSE\n\\item FALSE\n\\item FALSE\n\\item TRUE\n\\item FALSE\n\\item FALSE\n\\item FALSE\n\\item TRUE\n\\item FALSE\n\\item FALSE\n\\item FALSE\n\\item FALSE\n\\item TRUE\n\\item FALSE\n\\item FALSE\n\\item FALSE\n\\item FALSE\n\\item FALSE\n\\item TRUE\n\\item FALSE\n\\item FALSE\n\\item FALSE\n\\item FALSE\n\\item FALSE\n\\item FALSE\n\\item TRUE\n\\item TRUE\n\\item FALSE\n\\item FALSE\n\\item FALSE\n\\item FALSE\n\\item FALSE\n\\item FALSE\n\\item FALSE\n\\item FALSE\n\\item TRUE\n\\item TRUE\n\\item FALSE\n\\item TRUE\n\\item FALSE\n\\item FALSE\n\\item FALSE\n\\item FALSE\n\\item FALSE\n\\item FALSE\n\\item FALSE\n\\item FALSE\n\\item FALSE\n\\item FALSE\n\\item FALSE\n\\item FALSE\n\\item FALSE\n\\item FALSE\n\\item FALSE\n\\item TRUE\n\\item FALSE\n\\item FALSE\n\\item FALSE\n\\item FALSE\n\\item TRUE\n\\item FALSE\n\\item TRUE\n\\item FALSE\n\\item FALSE\n\\item FALSE\n\\item FALSE\n\\item FALSE\n\\item FALSE\n\\item FALSE\n\\item FALSE\n\\item FALSE\n\\item FALSE\n\\item FALSE\n\\item FALSE\n\\item TRUE\n\\item FALSE\n\\item FALSE\n\\item TRUE\n\\item FALSE\n\\item FALSE\n\\item FALSE\n\\item FALSE\n\\item FALSE\n\\item FALSE\n\\item TRUE\n\\item FALSE\n\\item FALSE\n\\item FALSE\n\\item FALSE\n\\item FALSE\n\\item TRUE\n\\item FALSE\n\\item FALSE\n\\item FALSE\n\\item FALSE\n\\item TRUE\n\\item TRUE\n\\item FALSE\n\\item FALSE\n\\item FALSE\n\\item FALSE\n\\item FALSE\n\\item FALSE\n\\item FALSE\n\\item FALSE\n\\item FALSE\n\\item FALSE\n\\item FALSE\n\\item FALSE\n\\item TRUE\n\\item FALSE\n\\item FALSE\n\\item FALSE\n\\item FALSE\n\\item FALSE\n\\item FALSE\n\\item FALSE\n\\item FALSE\n\\item FALSE\n\\item FALSE\n\\item TRUE\n\\item FALSE\n\\item TRUE\n\\item FALSE\n\\item FALSE\n\\item TRUE\n\\item FALSE\n\\item FALSE\n\\item FALSE\n\\item FALSE\n\\item FALSE\n\\item FALSE\n\\item FALSE\n\\item FALSE\n\\item FALSE\n\\item FALSE\n\\item FALSE\n\\item FALSE\n\\item FALSE\n\\item FALSE\n\\item FALSE\n\\item FALSE\n\\item FALSE\n\\item FALSE\n\\item FALSE\n\\item FALSE\n\\item TRUE\n\\item TRUE\n\\item FALSE\n\\item FALSE\n\\item FALSE\n\\item FALSE\n\\item FALSE\n\\item FALSE\n\\item TRUE\n\\item FALSE\n\\item FALSE\n\\item FALSE\n\\item TRUE\n\\item FALSE\n\\item FALSE\n\\item FALSE\n\\item FALSE\n\\item FALSE\n\\item FALSE\n\\item FALSE\n\\item FALSE\n\\item FALSE\n\\item FALSE\n\\item FALSE\n\\item FALSE\n\\item FALSE\n\\item FALSE\n\\item FALSE\n\\item FALSE\n\\item FALSE\n\\item FALSE\n\\item FALSE\n\\item FALSE\n\\item FALSE\n\\item FALSE\n\\item FALSE\n\\item FALSE\n\\item FALSE\n\\item FALSE\n\\item FALSE\n\\item FALSE\n\\item FALSE\n\\item FALSE\n\\item FALSE\n\\item FALSE\n\\item FALSE\n\\item FALSE\n\\item FALSE\n\\item FALSE\n\\item FALSE\n\\item FALSE\n\\item FALSE\n\\item FALSE\n\\item FALSE\n\\item FALSE\n\\item FALSE\n\\item FALSE\n\\item FALSE\n\\item FALSE\n\\item FALSE\n\\item FALSE\n\\item FALSE\n\\item FALSE\n\\item FALSE\n\\item FALSE\n\\item FALSE\n\\item FALSE\n\\item FALSE\n\\item FALSE\n\\item FALSE\n\\item FALSE\n\\item FALSE\n\\item FALSE\n\\item FALSE\n\\item FALSE\n\\item FALSE\n\\item FALSE\n\\item FALSE\n\\item FALSE\n\\item FALSE\n\\item FALSE\n\\item FALSE\n\\item FALSE\n\\item FALSE\n\\item FALSE\n\\item FALSE\n\\item FALSE\n\\item FALSE\n\\item FALSE\n\\item FALSE\n\\item FALSE\n\\item FALSE\n\\item FALSE\n\\item FALSE\n\\item FALSE\n\\item FALSE\n\\item FALSE\n\\item FALSE\n\\item FALSE\n\\item FALSE\n\\item FALSE\n\\item FALSE\n\\item FALSE\n\\item FALSE\n\\item FALSE\n\\item FALSE\n\\item FALSE\n\\item FALSE\n\\item FALSE\n\\item FALSE\n\\item FALSE\n\\item FALSE\n\\item FALSE\n\\item FALSE\n\\item FALSE\n\\item FALSE\n\\item FALSE\n\\item FALSE\n\\item FALSE\n\\item FALSE\n\\item FALSE\n\\item FALSE\n\\item FALSE\n\\item FALSE\n\\item FALSE\n\\item FALSE\n\\item FALSE\n\\item FALSE\n\\item FALSE\n\\item FALSE\n\\item FALSE\n\\item FALSE\n\\item FALSE\n\\item FALSE\n\\item FALSE\n\\item FALSE\n\\end{enumerate*}\n",
            "text/plain": [
              "  [1] FALSE FALSE FALSE FALSE FALSE FALSE FALSE FALSE FALSE FALSE FALSE FALSE\n",
              " [13] FALSE FALSE FALSE FALSE FALSE FALSE FALSE FALSE FALSE FALSE FALSE FALSE\n",
              " [25] FALSE FALSE FALSE FALSE FALSE FALSE FALSE FALSE FALSE FALSE FALSE FALSE\n",
              " [37] FALSE FALSE FALSE FALSE FALSE FALSE FALSE FALSE FALSE FALSE FALSE FALSE\n",
              " [49] FALSE FALSE FALSE  TRUE FALSE FALSE FALSE FALSE FALSE FALSE FALSE FALSE\n",
              " [61] FALSE FALSE FALSE FALSE FALSE FALSE FALSE FALSE  TRUE FALSE FALSE FALSE\n",
              " [73]  TRUE FALSE FALSE FALSE FALSE  TRUE FALSE FALSE FALSE FALSE FALSE  TRUE\n",
              " [85] FALSE FALSE FALSE FALSE FALSE FALSE  TRUE  TRUE FALSE FALSE FALSE FALSE\n",
              " [97] FALSE FALSE FALSE FALSE  TRUE  TRUE FALSE  TRUE FALSE FALSE FALSE FALSE\n",
              "[109] FALSE FALSE FALSE FALSE FALSE FALSE FALSE FALSE FALSE FALSE FALSE  TRUE\n",
              "[121] FALSE FALSE FALSE FALSE  TRUE FALSE  TRUE FALSE FALSE FALSE FALSE FALSE\n",
              "[133] FALSE FALSE FALSE FALSE FALSE FALSE FALSE  TRUE FALSE FALSE  TRUE FALSE\n",
              "[145] FALSE FALSE FALSE FALSE FALSE  TRUE FALSE FALSE FALSE FALSE FALSE  TRUE\n",
              "[157] FALSE FALSE FALSE FALSE  TRUE  TRUE FALSE FALSE FALSE FALSE FALSE FALSE\n",
              "[169] FALSE FALSE FALSE FALSE FALSE FALSE  TRUE FALSE FALSE FALSE FALSE FALSE\n",
              "[181] FALSE FALSE FALSE FALSE FALSE  TRUE FALSE  TRUE FALSE FALSE  TRUE FALSE\n",
              "[193] FALSE FALSE FALSE FALSE FALSE FALSE FALSE FALSE FALSE FALSE FALSE FALSE\n",
              "[205] FALSE FALSE FALSE FALSE FALSE FALSE FALSE  TRUE  TRUE FALSE FALSE FALSE\n",
              "[217] FALSE FALSE FALSE  TRUE FALSE FALSE FALSE  TRUE FALSE FALSE FALSE FALSE\n",
              "[229] FALSE FALSE FALSE FALSE FALSE FALSE FALSE FALSE FALSE FALSE FALSE FALSE\n",
              "[241] FALSE FALSE FALSE FALSE FALSE FALSE FALSE FALSE FALSE FALSE FALSE FALSE\n",
              "[253] FALSE FALSE FALSE FALSE FALSE FALSE FALSE FALSE FALSE FALSE FALSE FALSE\n",
              "[265] FALSE FALSE FALSE FALSE FALSE FALSE FALSE FALSE FALSE FALSE FALSE FALSE\n",
              "[277] FALSE FALSE FALSE FALSE FALSE FALSE FALSE FALSE FALSE FALSE FALSE FALSE\n",
              "[289] FALSE FALSE FALSE FALSE FALSE FALSE FALSE FALSE FALSE FALSE FALSE FALSE\n",
              "[301] FALSE FALSE FALSE FALSE FALSE FALSE FALSE FALSE FALSE FALSE FALSE FALSE\n",
              "[313] FALSE FALSE FALSE FALSE FALSE FALSE FALSE FALSE FALSE FALSE FALSE FALSE\n",
              "[325] FALSE FALSE FALSE FALSE FALSE FALSE FALSE FALSE FALSE FALSE FALSE FALSE\n",
              "[337] FALSE FALSE FALSE FALSE FALSE FALSE FALSE FALSE FALSE FALSE FALSE"
            ]
          },
          "metadata": {}
        }
      ]
    },
    {
      "cell_type": "code",
      "source": [
        "sum(is.na(hypertension))"
      ],
      "metadata": {
        "colab": {
          "base_uri": "https://localhost:8080/",
          "height": 34
        },
        "id": "heyrfrnrwJEu",
        "outputId": "5a1af026-d703-4c5a-86d6-bc28bbdac02a"
      },
      "execution_count": null,
      "outputs": [
        {
          "output_type": "display_data",
          "data": {
            "text/html": [
              "27"
            ],
            "text/markdown": "27",
            "text/latex": "27",
            "text/plain": [
              "[1] 27"
            ]
          },
          "metadata": {}
        }
      ]
    },
    {
      "cell_type": "code",
      "source": [
        "sum(hypertension, na.rm = TRUE)"
      ],
      "metadata": {
        "colab": {
          "base_uri": "https://localhost:8080/",
          "height": 34
        },
        "id": "p1tGMDE3vc9B",
        "outputId": "ed48c90e-f68f-4cec-e364-6e97cdbcd7ad"
      },
      "execution_count": null,
      "outputs": [
        {
          "output_type": "display_data",
          "data": {
            "text/html": [
              "29"
            ],
            "text/markdown": "29",
            "text/latex": "29",
            "text/plain": [
              "[1] 29"
            ]
          },
          "metadata": {}
        }
      ]
    },
    {
      "cell_type": "code",
      "source": [
        "sum(hypertension==FALSE, na.rm = TRUE)"
      ],
      "metadata": {
        "colab": {
          "base_uri": "https://localhost:8080/",
          "height": 34
        },
        "id": "iZhAflktwn9C",
        "outputId": "93fd40ec-40de-4867-a0b0-f1c323fb9a50"
      },
      "execution_count": null,
      "outputs": [
        {
          "output_type": "display_data",
          "data": {
            "text/html": [
              "291"
            ],
            "text/markdown": "291",
            "text/latex": "291",
            "text/plain": [
              "[1] 291"
            ]
          },
          "metadata": {}
        }
      ]
    },
    {
      "cell_type": "code",
      "source": [
        "length(hypertension)"
      ],
      "metadata": {
        "colab": {
          "base_uri": "https://localhost:8080/",
          "height": 34
        },
        "id": "ek-ZuYfewuuY",
        "outputId": "1e9b7737-1d41-42b3-fcf8-a64e35799d79"
      },
      "execution_count": null,
      "outputs": [
        {
          "output_type": "display_data",
          "data": {
            "text/html": [
              "347"
            ],
            "text/markdown": "347",
            "text/latex": "347",
            "text/plain": [
              "[1] 347"
            ]
          },
          "metadata": {}
        }
      ]
    },
    {
      "cell_type": "markdown",
      "source": [
        "If you want to replace NA, use replace_na(vector, \"the value to replace NA\"), for example; replace NA with FALSE"
      ],
      "metadata": {
        "id": "dc908XKmvrtn"
      }
    },
    {
      "cell_type": "code",
      "source": [
        "hypertension<-replace_na(hypertension,FALSE)"
      ],
      "metadata": {
        "id": "2uImmtuiwXnK"
      },
      "execution_count": null,
      "outputs": []
    },
    {
      "cell_type": "code",
      "source": [
        "print(hypertension)"
      ],
      "metadata": {
        "colab": {
          "base_uri": "https://localhost:8080/"
        },
        "id": "vQ1HsZ6fw9hB",
        "outputId": "1146943c-ca79-4660-c21b-f82021ec51d5"
      },
      "execution_count": null,
      "outputs": [
        {
          "output_type": "stream",
          "name": "stdout",
          "text": [
            "  [1] FALSE FALSE FALSE FALSE FALSE FALSE FALSE  TRUE FALSE FALSE FALSE FALSE\n",
            " [13] FALSE FALSE  TRUE  TRUE FALSE FALSE FALSE FALSE FALSE FALSE FALSE FALSE\n",
            " [25] FALSE FALSE FALSE FALSE FALSE FALSE FALSE  TRUE FALSE FALSE FALSE FALSE\n",
            " [37] FALSE FALSE FALSE  TRUE FALSE FALSE FALSE FALSE FALSE FALSE FALSE FALSE\n",
            " [49] FALSE FALSE FALSE FALSE FALSE FALSE FALSE FALSE FALSE FALSE FALSE FALSE\n",
            " [61] FALSE  TRUE FALSE FALSE FALSE FALSE FALSE FALSE FALSE FALSE FALSE FALSE\n",
            " [73] FALSE  TRUE FALSE FALSE FALSE FALSE FALSE FALSE FALSE  TRUE FALSE FALSE\n",
            " [85] FALSE FALSE FALSE FALSE FALSE FALSE FALSE FALSE FALSE FALSE FALSE FALSE\n",
            " [97] FALSE FALSE FALSE FALSE FALSE FALSE FALSE FALSE FALSE  TRUE FALSE FALSE\n",
            "[109] FALSE FALSE FALSE FALSE FALSE FALSE FALSE FALSE FALSE FALSE FALSE FALSE\n",
            "[121] FALSE FALSE FALSE FALSE FALSE FALSE FALSE FALSE FALSE FALSE FALSE FALSE\n",
            "[133] FALSE FALSE FALSE  TRUE FALSE FALSE FALSE FALSE FALSE FALSE FALSE FALSE\n",
            "[145] FALSE FALSE  TRUE  TRUE FALSE FALSE FALSE FALSE FALSE FALSE  TRUE FALSE\n",
            "[157] FALSE FALSE FALSE  TRUE FALSE FALSE FALSE FALSE FALSE FALSE FALSE FALSE\n",
            "[169] FALSE FALSE FALSE FALSE FALSE FALSE FALSE FALSE  TRUE FALSE FALSE FALSE\n",
            "[181] FALSE FALSE FALSE FALSE FALSE FALSE FALSE FALSE FALSE FALSE FALSE  TRUE\n",
            "[193] FALSE FALSE FALSE FALSE FALSE FALSE FALSE FALSE FALSE FALSE FALSE FALSE\n",
            "[205] FALSE FALSE FALSE FALSE FALSE FALSE FALSE FALSE FALSE FALSE FALSE FALSE\n",
            "[217] FALSE FALSE FALSE FALSE FALSE FALSE FALSE FALSE FALSE  TRUE FALSE FALSE\n",
            "[229] FALSE FALSE FALSE FALSE FALSE FALSE FALSE FALSE FALSE FALSE FALSE FALSE\n",
            "[241] FALSE  TRUE FALSE  TRUE FALSE FALSE FALSE FALSE FALSE FALSE FALSE FALSE\n",
            "[253] FALSE FALSE FALSE FALSE FALSE FALSE FALSE FALSE FALSE FALSE FALSE FALSE\n",
            "[265] FALSE FALSE  TRUE FALSE FALSE FALSE FALSE FALSE FALSE FALSE FALSE FALSE\n",
            "[277] FALSE FALSE FALSE  TRUE  TRUE FALSE  TRUE FALSE FALSE FALSE  TRUE FALSE\n",
            "[289] FALSE FALSE FALSE FALSE FALSE FALSE FALSE FALSE FALSE FALSE FALSE FALSE\n",
            "[301] FALSE FALSE FALSE FALSE  TRUE FALSE FALSE  TRUE FALSE FALSE FALSE FALSE\n",
            "[313] FALSE FALSE FALSE  TRUE FALSE FALSE FALSE FALSE  TRUE FALSE FALSE FALSE\n",
            "[325] FALSE FALSE FALSE FALSE FALSE  TRUE FALSE FALSE FALSE FALSE FALSE FALSE\n",
            "[337] FALSE FALSE FALSE FALSE FALSE FALSE FALSE FALSE FALSE FALSE FALSE\n"
          ]
        }
      ]
    },
    {
      "cell_type": "code",
      "source": [
        "sum(is.na(hypertension))"
      ],
      "metadata": {
        "colab": {
          "base_uri": "https://localhost:8080/",
          "height": 34
        },
        "id": "oPBN5CJfxrSI",
        "outputId": "7aa9541b-612b-497a-8462-26bf34e55bb4"
      },
      "execution_count": null,
      "outputs": [
        {
          "output_type": "display_data",
          "data": {
            "text/html": [
              "0"
            ],
            "text/markdown": "0",
            "text/latex": "0",
            "text/plain": [
              "[1] 0"
            ]
          },
          "metadata": {}
        }
      ]
    },
    {
      "cell_type": "code",
      "source": [
        "sum(hypertension)"
      ],
      "metadata": {
        "colab": {
          "base_uri": "https://localhost:8080/",
          "height": 34
        },
        "id": "44dIwHbhxEOG",
        "outputId": "6bfde445-c579-409b-c9c7-53de13d88eac"
      },
      "execution_count": null,
      "outputs": [
        {
          "output_type": "display_data",
          "data": {
            "text/html": [
              "29"
            ],
            "text/markdown": "29",
            "text/latex": "29",
            "text/plain": [
              "[1] 29"
            ]
          },
          "metadata": {}
        }
      ]
    },
    {
      "cell_type": "code",
      "source": [
        "sum(hypertension==FALSE)"
      ],
      "metadata": {
        "colab": {
          "base_uri": "https://localhost:8080/",
          "height": 34
        },
        "id": "xUeuKpdAxzzw",
        "outputId": "13a9bc42-34dc-4e58-e120-234bdfad9233"
      },
      "execution_count": null,
      "outputs": [
        {
          "output_type": "display_data",
          "data": {
            "text/html": [
              "318"
            ],
            "text/markdown": "318",
            "text/latex": "318",
            "text/plain": [
              "[1] 318"
            ]
          },
          "metadata": {}
        }
      ]
    },
    {
      "cell_type": "markdown",
      "source": [
        "## **Boolean operations**"
      ],
      "metadata": {
        "id": "ZtgGpkW9pM2n"
      }
    },
    {
      "cell_type": "markdown",
      "source": [
        "Boolean operations in R work in a similar way to other programming languages. Here are the basic Boolean operators in R:"
      ],
      "metadata": {
        "id": "x-eKVMntyIQf"
      }
    },
    {
      "cell_type": "markdown",
      "source": [
        "**AND Operator (&):** Returns TRUE if both the operands (inputs) are TRUE."
      ],
      "metadata": {
        "id": "ugXaA-0DyM-V"
      }
    },
    {
      "cell_type": "code",
      "source": [
        "c(TRUE, FALSE, TRUE) & c(TRUE, TRUE, FALSE)"
      ],
      "metadata": {
        "colab": {
          "base_uri": "https://localhost:8080/",
          "height": 34
        },
        "id": "vDyrF-9_pZOZ",
        "outputId": "685e7ad8-1368-4709-c1be-60e3d0df830d"
      },
      "execution_count": null,
      "outputs": [
        {
          "output_type": "display_data",
          "data": {
            "text/html": [
              "<style>\n",
              ".list-inline {list-style: none; margin:0; padding: 0}\n",
              ".list-inline>li {display: inline-block}\n",
              ".list-inline>li:not(:last-child)::after {content: \"\\00b7\"; padding: 0 .5ex}\n",
              "</style>\n",
              "<ol class=list-inline><li>TRUE</li><li>FALSE</li><li>FALSE</li></ol>\n"
            ],
            "text/markdown": "1. TRUE\n2. FALSE\n3. FALSE\n\n\n",
            "text/latex": "\\begin{enumerate*}\n\\item TRUE\n\\item FALSE\n\\item FALSE\n\\end{enumerate*}\n",
            "text/plain": [
              "[1]  TRUE FALSE FALSE"
            ]
          },
          "metadata": {}
        }
      ]
    },
    {
      "cell_type": "markdown",
      "source": [
        "**OR Operator (|):** Returns TRUE if either or both of the operands are TRUE"
      ],
      "metadata": {
        "id": "kz_kIlozzBtc"
      }
    },
    {
      "cell_type": "code",
      "source": [
        "c(TRUE, FALSE, TRUE) | c(FALSE, FALSE, TRUE)"
      ],
      "metadata": {
        "colab": {
          "base_uri": "https://localhost:8080/",
          "height": 34
        },
        "id": "JV0iR5i-zIoA",
        "outputId": "b3a926c6-51a1-44cf-badf-b8d8208efc74"
      },
      "execution_count": null,
      "outputs": [
        {
          "output_type": "display_data",
          "data": {
            "text/html": [
              "<style>\n",
              ".list-inline {list-style: none; margin:0; padding: 0}\n",
              ".list-inline>li {display: inline-block}\n",
              ".list-inline>li:not(:last-child)::after {content: \"\\00b7\"; padding: 0 .5ex}\n",
              "</style>\n",
              "<ol class=list-inline><li>TRUE</li><li>FALSE</li><li>TRUE</li></ol>\n"
            ],
            "text/markdown": "1. TRUE\n2. FALSE\n3. TRUE\n\n\n",
            "text/latex": "\\begin{enumerate*}\n\\item TRUE\n\\item FALSE\n\\item TRUE\n\\end{enumerate*}\n",
            "text/plain": [
              "[1]  TRUE FALSE  TRUE"
            ]
          },
          "metadata": {}
        }
      ]
    },
    {
      "cell_type": "markdown",
      "source": [
        "**NOT Operator (!):** Returns TRUE if the operand is FALSE and vice versa."
      ],
      "metadata": {
        "id": "j3jRNl7GzVIv"
      }
    },
    {
      "cell_type": "code",
      "source": [
        "!c(TRUE, FALSE, TRUE)"
      ],
      "metadata": {
        "colab": {
          "base_uri": "https://localhost:8080/",
          "height": 34
        },
        "id": "XpAcGLVhpfOg",
        "outputId": "ea3970de-d883-4740-c982-4b53eb9dfcd1"
      },
      "execution_count": null,
      "outputs": [
        {
          "output_type": "display_data",
          "data": {
            "text/html": [
              "<style>\n",
              ".list-inline {list-style: none; margin:0; padding: 0}\n",
              ".list-inline>li {display: inline-block}\n",
              ".list-inline>li:not(:last-child)::after {content: \"\\00b7\"; padding: 0 .5ex}\n",
              "</style>\n",
              "<ol class=list-inline><li>FALSE</li><li>TRUE</li><li>FALSE</li></ol>\n"
            ],
            "text/markdown": "1. FALSE\n2. TRUE\n3. FALSE\n\n\n",
            "text/latex": "\\begin{enumerate*}\n\\item FALSE\n\\item TRUE\n\\item FALSE\n\\end{enumerate*}\n",
            "text/plain": [
              "[1] FALSE  TRUE FALSE"
            ]
          },
          "metadata": {}
        }
      ]
    },
    {
      "cell_type": "markdown",
      "source": [
        "**Equality (==):** Returns TRUE if the operands are equal."
      ],
      "metadata": {
        "id": "3ORztzaRzeSs"
      }
    },
    {
      "cell_type": "code",
      "source": [
        "5 == 5"
      ],
      "metadata": {
        "colab": {
          "base_uri": "https://localhost:8080/",
          "height": 34
        },
        "id": "0AkOm_JLznpQ",
        "outputId": "8a37c5ee-257d-4299-8956-9bbf064e0f4d"
      },
      "execution_count": null,
      "outputs": [
        {
          "output_type": "display_data",
          "data": {
            "text/html": [
              "TRUE"
            ],
            "text/markdown": "TRUE",
            "text/latex": "TRUE",
            "text/plain": [
              "[1] TRUE"
            ]
          },
          "metadata": {}
        }
      ]
    },
    {
      "cell_type": "code",
      "source": [
        "c(3,7,8,6,7,9) == c(1,7,8,5,3,9)"
      ],
      "metadata": {
        "colab": {
          "base_uri": "https://localhost:8080/",
          "height": 34
        },
        "id": "R2UgdHMSzqz3",
        "outputId": "13893030-1049-4aa2-ced5-d21a4a83e3ed"
      },
      "execution_count": null,
      "outputs": [
        {
          "output_type": "display_data",
          "data": {
            "text/html": [
              "<style>\n",
              ".list-inline {list-style: none; margin:0; padding: 0}\n",
              ".list-inline>li {display: inline-block}\n",
              ".list-inline>li:not(:last-child)::after {content: \"\\00b7\"; padding: 0 .5ex}\n",
              "</style>\n",
              "<ol class=list-inline><li>FALSE</li><li>TRUE</li><li>TRUE</li><li>FALSE</li><li>FALSE</li><li>TRUE</li></ol>\n"
            ],
            "text/markdown": "1. FALSE\n2. TRUE\n3. TRUE\n4. FALSE\n5. FALSE\n6. TRUE\n\n\n",
            "text/latex": "\\begin{enumerate*}\n\\item FALSE\n\\item TRUE\n\\item TRUE\n\\item FALSE\n\\item FALSE\n\\item TRUE\n\\end{enumerate*}\n",
            "text/plain": [
              "[1] FALSE  TRUE  TRUE FALSE FALSE  TRUE"
            ]
          },
          "metadata": {}
        }
      ]
    },
    {
      "cell_type": "markdown",
      "source": [
        "The lengths of 2 vectors must be equal, other wise the result will be limited it length as the shorter one."
      ],
      "metadata": {
        "id": "ijR22vrdz1Gv"
      }
    },
    {
      "cell_type": "code",
      "source": [
        "c(3,7,8,6,7,9) == c(1,7,8,5,3)"
      ],
      "metadata": {
        "colab": {
          "base_uri": "https://localhost:8080/",
          "height": 69
        },
        "id": "4pjtKoTlz9ZP",
        "outputId": "5e08b874-91d4-4c85-b52e-3f72119d58ec"
      },
      "execution_count": null,
      "outputs": [
        {
          "output_type": "stream",
          "name": "stderr",
          "text": [
            "Warning message in c(3, 7, 8, 6, 7, 9) == c(1, 7, 8, 5, 3):\n",
            "“longer object length is not a multiple of shorter object length”\n"
          ]
        },
        {
          "output_type": "display_data",
          "data": {
            "text/html": [
              "<style>\n",
              ".list-inline {list-style: none; margin:0; padding: 0}\n",
              ".list-inline>li {display: inline-block}\n",
              ".list-inline>li:not(:last-child)::after {content: \"\\00b7\"; padding: 0 .5ex}\n",
              "</style>\n",
              "<ol class=list-inline><li>FALSE</li><li>TRUE</li><li>TRUE</li><li>FALSE</li><li>FALSE</li><li>FALSE</li></ol>\n"
            ],
            "text/markdown": "1. FALSE\n2. TRUE\n3. TRUE\n4. FALSE\n5. FALSE\n6. FALSE\n\n\n",
            "text/latex": "\\begin{enumerate*}\n\\item FALSE\n\\item TRUE\n\\item TRUE\n\\item FALSE\n\\item FALSE\n\\item FALSE\n\\end{enumerate*}\n",
            "text/plain": [
              "[1] FALSE  TRUE  TRUE FALSE FALSE FALSE"
            ]
          },
          "metadata": {}
        }
      ]
    },
    {
      "cell_type": "markdown",
      "source": [
        "**Inequality (!=):** Returns TRUE if the operands are not equal."
      ],
      "metadata": {
        "id": "KFbAr3uX0yhK"
      }
    },
    {
      "cell_type": "code",
      "source": [
        "5 != 5"
      ],
      "metadata": {
        "colab": {
          "base_uri": "https://localhost:8080/",
          "height": 34
        },
        "id": "sRoN1sxz0z8W",
        "outputId": "27dddfc7-f29f-4990-a69f-cad23e47c831"
      },
      "execution_count": null,
      "outputs": [
        {
          "output_type": "display_data",
          "data": {
            "text/html": [
              "FALSE"
            ],
            "text/markdown": "FALSE",
            "text/latex": "FALSE",
            "text/plain": [
              "[1] FALSE"
            ]
          },
          "metadata": {}
        }
      ]
    },
    {
      "cell_type": "markdown",
      "source": [
        "**Less than (<):** Returns TRUE if the left operand is less than the right operand."
      ],
      "metadata": {
        "id": "B5TnONjR-e-5"
      }
    },
    {
      "cell_type": "code",
      "source": [
        "5 < 10"
      ],
      "metadata": {
        "colab": {
          "base_uri": "https://localhost:8080/",
          "height": 34
        },
        "id": "aDy7Agg1-hqY",
        "outputId": "133c9f98-54ed-4d7e-c798-f606ba1a9526"
      },
      "execution_count": null,
      "outputs": [
        {
          "output_type": "display_data",
          "data": {
            "text/html": [
              "TRUE"
            ],
            "text/markdown": "TRUE",
            "text/latex": "TRUE",
            "text/plain": [
              "[1] TRUE"
            ]
          },
          "metadata": {}
        }
      ]
    },
    {
      "cell_type": "markdown",
      "source": [
        "**Greater than (>):** Returns TRUE if the left operand is greater than the right operand."
      ],
      "metadata": {
        "id": "fqL8oOA9-noU"
      }
    },
    {
      "cell_type": "code",
      "source": [
        "10 > 5"
      ],
      "metadata": {
        "colab": {
          "base_uri": "https://localhost:8080/",
          "height": 34
        },
        "id": "HPApi99_-q1p",
        "outputId": "f48969d1-0ce0-4cf6-9281-6d3c4a85bc9f"
      },
      "execution_count": null,
      "outputs": [
        {
          "output_type": "display_data",
          "data": {
            "text/html": [
              "TRUE"
            ],
            "text/markdown": "TRUE",
            "text/latex": "TRUE",
            "text/plain": [
              "[1] TRUE"
            ]
          },
          "metadata": {}
        }
      ]
    },
    {
      "cell_type": "markdown",
      "source": [
        "**Less than or equal to (<=):** Returns TRUE if the left operand is less than or equal to the right operand."
      ],
      "metadata": {
        "id": "214aXdtJ-wiH"
      }
    },
    {
      "cell_type": "code",
      "source": [
        "5 <= 5"
      ],
      "metadata": {
        "colab": {
          "base_uri": "https://localhost:8080/",
          "height": 34
        },
        "id": "fany10Uc-z-a",
        "outputId": "e2c23e98-f635-438a-acaf-2bc425d274d3"
      },
      "execution_count": null,
      "outputs": [
        {
          "output_type": "display_data",
          "data": {
            "text/html": [
              "TRUE"
            ],
            "text/markdown": "TRUE",
            "text/latex": "TRUE",
            "text/plain": [
              "[1] TRUE"
            ]
          },
          "metadata": {}
        }
      ]
    },
    {
      "cell_type": "markdown",
      "source": [
        "**Greater than or equal to (>=):** Returns TRUE if the left operand is greater than or equal to the right operand."
      ],
      "metadata": {
        "id": "quuk6BqD-2Cd"
      }
    },
    {
      "cell_type": "code",
      "source": [
        "5 >= 5"
      ],
      "metadata": {
        "colab": {
          "base_uri": "https://localhost:8080/",
          "height": 34
        },
        "id": "SUzNKJ1c-6tA",
        "outputId": "88a5b107-6359-40ff-d345-e814af477e0f"
      },
      "execution_count": null,
      "outputs": [
        {
          "output_type": "display_data",
          "data": {
            "text/html": [
              "TRUE"
            ],
            "text/markdown": "TRUE",
            "text/latex": "TRUE",
            "text/plain": [
              "[1] TRUE"
            ]
          },
          "metadata": {}
        }
      ]
    },
    {
      "cell_type": "markdown",
      "source": [
        "## **Dataframe**"
      ],
      "metadata": {
        "id": "KbZh_QkXFtWd"
      }
    },
    {
      "cell_type": "markdown",
      "source": [
        "A dataframe in R is a list of vectors of the same length. It is a two-dimensional table where each column contains values of one variable, and each row contains one set of values from each column.\n",
        "\n",
        "Here are some key characteristics of dataframes in R:\n",
        "\n",
        "\n",
        "1.   Different data types: Columns in R dataframes can hold different types of data, such as integers, numeric (real numbers), characters, factors, etc. This flexibility is a key advantage over matrices in R where all elements must be of the same data type.\n",
        "2.   Size mutability: R dataframes can be extended. You can add or remove rows and columns.\n",
        "3.   Labelled axes: Both rows and columns in R dataframes can have labels. This allows for easier data manipulation and referencing.\n",
        "4.   Arithmetic operations: R dataframes support complex mathematical and statistical operations, which can be applied column-wise or row-wise.\n",
        "5.   Dataframe operations: Various functions are available in R for manipulating dataframes. For instance, you can merge, sort, subset, and reshape dataframes."
      ],
      "metadata": {
        "id": "aQto3Ht_GEC-"
      }
    },
    {
      "cell_type": "markdown",
      "source": [
        "Here's a simple example of creating a dataframe in R:"
      ],
      "metadata": {
        "id": "6jObpqUOGpn3"
      }
    },
    {
      "cell_type": "code",
      "source": [
        "patient_id <- c(101, 102, 103, 104, 105)\n",
        "birthdate <- c(\"1958-02-17\", \"1977-05-22\", \"1951-12-13\", \"1964-07-11\", \"1985-11-30\")\n",
        "sex <- c(\"Male\", \"Female\", \"Female\", \"Male\", \"Female\")\n",
        "condition <- c(\"Hypertension\", \"Diabetes\", \"Hypertension\", \"Heart Disease\", \"Healthy\")\n",
        "treatment <- c(\"Medication\", \"Insulin\", \"Medication\", \"Surgery\", \"None\")\n",
        "diagnosis_date <- c(\"2020-06-15\", \"2019-04-23\", \"2018-10-30\", \"2021-02-08\", \"2023-01-01\")\n",
        "\n",
        "patient_data <- data.frame(patient_id, birthdate, sex, condition, treatment, diagnosis_date)\n",
        "\n",
        "print(patient_data)"
      ],
      "metadata": {
        "colab": {
          "base_uri": "https://localhost:8080/"
        },
        "id": "ItqZOIrLGqrT",
        "outputId": "2ea4b78d-2b70-404c-d448-cce9377bf313"
      },
      "execution_count": null,
      "outputs": [
        {
          "output_type": "stream",
          "name": "stdout",
          "text": [
            "  patient_id  birthdate    sex     condition  treatment diagnosis_date\n",
            "1        101 1958-02-17   Male  Hypertension Medication     2020-06-15\n",
            "2        102 1977-05-22 Female      Diabetes    Insulin     2019-04-23\n",
            "3        103 1951-12-13 Female  Hypertension Medication     2018-10-30\n",
            "4        104 1964-07-11   Male Heart Disease    Surgery     2021-02-08\n",
            "5        105 1985-11-30 Female       Healthy       None     2023-01-01\n"
          ]
        }
      ]
    },
    {
      "cell_type": "markdown",
      "source": [
        "filter the rows"
      ],
      "metadata": {
        "id": "pzeajt7LHkdi"
      }
    },
    {
      "cell_type": "code",
      "source": [
        "patient_data[patient_data$sex==\"Male\",]"
      ],
      "metadata": {
        "colab": {
          "base_uri": "https://localhost:8080/",
          "height": 161
        },
        "id": "WdzthxaSHtPb",
        "outputId": "d33476ed-b51f-49a9-96b5-868227589b8f"
      },
      "execution_count": null,
      "outputs": [
        {
          "output_type": "display_data",
          "data": {
            "text/html": [
              "<table class=\"dataframe\">\n",
              "<caption>A data.frame: 2 × 6</caption>\n",
              "<thead>\n",
              "\t<tr><th></th><th scope=col>patient_id</th><th scope=col>birthdate</th><th scope=col>sex</th><th scope=col>condition</th><th scope=col>treatment</th><th scope=col>diagnosis_date</th></tr>\n",
              "\t<tr><th></th><th scope=col>&lt;dbl&gt;</th><th scope=col>&lt;chr&gt;</th><th scope=col>&lt;chr&gt;</th><th scope=col>&lt;chr&gt;</th><th scope=col>&lt;chr&gt;</th><th scope=col>&lt;chr&gt;</th></tr>\n",
              "</thead>\n",
              "<tbody>\n",
              "\t<tr><th scope=row>1</th><td>101</td><td>1958-02-17</td><td>Male</td><td>Hypertension </td><td>Medication</td><td>2020-06-15</td></tr>\n",
              "\t<tr><th scope=row>4</th><td>104</td><td>1964-07-11</td><td>Male</td><td>Heart Disease</td><td>Surgery   </td><td>2021-02-08</td></tr>\n",
              "</tbody>\n",
              "</table>\n"
            ],
            "text/markdown": "\nA data.frame: 2 × 6\n\n| <!--/--> | patient_id &lt;dbl&gt; | birthdate &lt;chr&gt; | sex &lt;chr&gt; | condition &lt;chr&gt; | treatment &lt;chr&gt; | diagnosis_date &lt;chr&gt; |\n|---|---|---|---|---|---|---|\n| 1 | 101 | 1958-02-17 | Male | Hypertension  | Medication | 2020-06-15 |\n| 4 | 104 | 1964-07-11 | Male | Heart Disease | Surgery    | 2021-02-08 |\n\n",
            "text/latex": "A data.frame: 2 × 6\n\\begin{tabular}{r|llllll}\n  & patient\\_id & birthdate & sex & condition & treatment & diagnosis\\_date\\\\\n  & <dbl> & <chr> & <chr> & <chr> & <chr> & <chr>\\\\\n\\hline\n\t1 & 101 & 1958-02-17 & Male & Hypertension  & Medication & 2020-06-15\\\\\n\t4 & 104 & 1964-07-11 & Male & Heart Disease & Surgery    & 2021-02-08\\\\\n\\end{tabular}\n",
            "text/plain": [
              "  patient_id birthdate  sex  condition     treatment  diagnosis_date\n",
              "1 101        1958-02-17 Male Hypertension  Medication 2020-06-15    \n",
              "4 104        1964-07-11 Male Heart Disease Surgery    2021-02-08    "
            ]
          },
          "metadata": {}
        }
      ]
    },
    {
      "cell_type": "code",
      "source": [
        "patient_data[c(1,4),]"
      ],
      "metadata": {
        "colab": {
          "base_uri": "https://localhost:8080/",
          "height": 161
        },
        "id": "i4Utl5tpIVnx",
        "outputId": "9f951990-13e6-4808-ae51-4b49ae8e63ca"
      },
      "execution_count": null,
      "outputs": [
        {
          "output_type": "display_data",
          "data": {
            "text/html": [
              "<table class=\"dataframe\">\n",
              "<caption>A data.frame: 2 × 6</caption>\n",
              "<thead>\n",
              "\t<tr><th></th><th scope=col>patient_id</th><th scope=col>birthdate</th><th scope=col>sex</th><th scope=col>condition</th><th scope=col>treatment</th><th scope=col>diagnosis_date</th></tr>\n",
              "\t<tr><th></th><th scope=col>&lt;dbl&gt;</th><th scope=col>&lt;chr&gt;</th><th scope=col>&lt;chr&gt;</th><th scope=col>&lt;chr&gt;</th><th scope=col>&lt;chr&gt;</th><th scope=col>&lt;chr&gt;</th></tr>\n",
              "</thead>\n",
              "<tbody>\n",
              "\t<tr><th scope=row>1</th><td>101</td><td>1958-02-17</td><td>Male</td><td>Hypertension </td><td>Medication</td><td>2020-06-15</td></tr>\n",
              "\t<tr><th scope=row>4</th><td>104</td><td>1964-07-11</td><td>Male</td><td>Heart Disease</td><td>Surgery   </td><td>2021-02-08</td></tr>\n",
              "</tbody>\n",
              "</table>\n"
            ],
            "text/markdown": "\nA data.frame: 2 × 6\n\n| <!--/--> | patient_id &lt;dbl&gt; | birthdate &lt;chr&gt; | sex &lt;chr&gt; | condition &lt;chr&gt; | treatment &lt;chr&gt; | diagnosis_date &lt;chr&gt; |\n|---|---|---|---|---|---|---|\n| 1 | 101 | 1958-02-17 | Male | Hypertension  | Medication | 2020-06-15 |\n| 4 | 104 | 1964-07-11 | Male | Heart Disease | Surgery    | 2021-02-08 |\n\n",
            "text/latex": "A data.frame: 2 × 6\n\\begin{tabular}{r|llllll}\n  & patient\\_id & birthdate & sex & condition & treatment & diagnosis\\_date\\\\\n  & <dbl> & <chr> & <chr> & <chr> & <chr> & <chr>\\\\\n\\hline\n\t1 & 101 & 1958-02-17 & Male & Hypertension  & Medication & 2020-06-15\\\\\n\t4 & 104 & 1964-07-11 & Male & Heart Disease & Surgery    & 2021-02-08\\\\\n\\end{tabular}\n",
            "text/plain": [
              "  patient_id birthdate  sex  condition     treatment  diagnosis_date\n",
              "1 101        1958-02-17 Male Hypertension  Medication 2020-06-15    \n",
              "4 104        1964-07-11 Male Heart Disease Surgery    2021-02-08    "
            ]
          },
          "metadata": {}
        }
      ]
    },
    {
      "cell_type": "markdown",
      "source": [
        "filter the columns"
      ],
      "metadata": {
        "id": "2iIRjC4XISrw"
      }
    },
    {
      "cell_type": "markdown",
      "source": [
        "*each column = 1 vector"
      ],
      "metadata": {
        "id": "NfpuI3VKKxlt"
      }
    },
    {
      "cell_type": "code",
      "source": [
        "patient_data[,c(\"patient_id\",\"birthdate\",\"sex\")]"
      ],
      "metadata": {
        "colab": {
          "base_uri": "https://localhost:8080/",
          "height": 255
        },
        "id": "9NxYYGrHH4Ye",
        "outputId": "b01244b4-4300-49c6-cdbf-b22a5ad490e3"
      },
      "execution_count": null,
      "outputs": [
        {
          "output_type": "display_data",
          "data": {
            "text/html": [
              "<table class=\"dataframe\">\n",
              "<caption>A data.frame: 5 × 3</caption>\n",
              "<thead>\n",
              "\t<tr><th scope=col>patient_id</th><th scope=col>birthdate</th><th scope=col>sex</th></tr>\n",
              "\t<tr><th scope=col>&lt;dbl&gt;</th><th scope=col>&lt;chr&gt;</th><th scope=col>&lt;chr&gt;</th></tr>\n",
              "</thead>\n",
              "<tbody>\n",
              "\t<tr><td>101</td><td>1958-02-17</td><td>Male  </td></tr>\n",
              "\t<tr><td>102</td><td>1977-05-22</td><td>Female</td></tr>\n",
              "\t<tr><td>103</td><td>1951-12-13</td><td>Female</td></tr>\n",
              "\t<tr><td>104</td><td>1964-07-11</td><td>Male  </td></tr>\n",
              "\t<tr><td>105</td><td>1985-11-30</td><td>Female</td></tr>\n",
              "</tbody>\n",
              "</table>\n"
            ],
            "text/markdown": "\nA data.frame: 5 × 3\n\n| patient_id &lt;dbl&gt; | birthdate &lt;chr&gt; | sex &lt;chr&gt; |\n|---|---|---|\n| 101 | 1958-02-17 | Male   |\n| 102 | 1977-05-22 | Female |\n| 103 | 1951-12-13 | Female |\n| 104 | 1964-07-11 | Male   |\n| 105 | 1985-11-30 | Female |\n\n",
            "text/latex": "A data.frame: 5 × 3\n\\begin{tabular}{lll}\n patient\\_id & birthdate & sex\\\\\n <dbl> & <chr> & <chr>\\\\\n\\hline\n\t 101 & 1958-02-17 & Male  \\\\\n\t 102 & 1977-05-22 & Female\\\\\n\t 103 & 1951-12-13 & Female\\\\\n\t 104 & 1964-07-11 & Male  \\\\\n\t 105 & 1985-11-30 & Female\\\\\n\\end{tabular}\n",
            "text/plain": [
              "  patient_id birthdate  sex   \n",
              "1 101        1958-02-17 Male  \n",
              "2 102        1977-05-22 Female\n",
              "3 103        1951-12-13 Female\n",
              "4 104        1964-07-11 Male  \n",
              "5 105        1985-11-30 Female"
            ]
          },
          "metadata": {}
        }
      ]
    },
    {
      "cell_type": "code",
      "source": [
        "patient_data[,c(1,2,3)]"
      ],
      "metadata": {
        "colab": {
          "base_uri": "https://localhost:8080/",
          "height": 255
        },
        "id": "C64oFAbUIHQx",
        "outputId": "b5656f6d-b3ba-420c-c26d-9067cb039e94"
      },
      "execution_count": null,
      "outputs": [
        {
          "output_type": "display_data",
          "data": {
            "text/html": [
              "<table class=\"dataframe\">\n",
              "<caption>A data.frame: 5 × 3</caption>\n",
              "<thead>\n",
              "\t<tr><th scope=col>patient_id</th><th scope=col>birthdate</th><th scope=col>sex</th></tr>\n",
              "\t<tr><th scope=col>&lt;dbl&gt;</th><th scope=col>&lt;chr&gt;</th><th scope=col>&lt;chr&gt;</th></tr>\n",
              "</thead>\n",
              "<tbody>\n",
              "\t<tr><td>101</td><td>1958-02-17</td><td>Male  </td></tr>\n",
              "\t<tr><td>102</td><td>1977-05-22</td><td>Female</td></tr>\n",
              "\t<tr><td>103</td><td>1951-12-13</td><td>Female</td></tr>\n",
              "\t<tr><td>104</td><td>1964-07-11</td><td>Male  </td></tr>\n",
              "\t<tr><td>105</td><td>1985-11-30</td><td>Female</td></tr>\n",
              "</tbody>\n",
              "</table>\n"
            ],
            "text/markdown": "\nA data.frame: 5 × 3\n\n| patient_id &lt;dbl&gt; | birthdate &lt;chr&gt; | sex &lt;chr&gt; |\n|---|---|---|\n| 101 | 1958-02-17 | Male   |\n| 102 | 1977-05-22 | Female |\n| 103 | 1951-12-13 | Female |\n| 104 | 1964-07-11 | Male   |\n| 105 | 1985-11-30 | Female |\n\n",
            "text/latex": "A data.frame: 5 × 3\n\\begin{tabular}{lll}\n patient\\_id & birthdate & sex\\\\\n <dbl> & <chr> & <chr>\\\\\n\\hline\n\t 101 & 1958-02-17 & Male  \\\\\n\t 102 & 1977-05-22 & Female\\\\\n\t 103 & 1951-12-13 & Female\\\\\n\t 104 & 1964-07-11 & Male  \\\\\n\t 105 & 1985-11-30 & Female\\\\\n\\end{tabular}\n",
            "text/plain": [
              "  patient_id birthdate  sex   \n",
              "1 101        1958-02-17 Male  \n",
              "2 102        1977-05-22 Female\n",
              "3 103        1951-12-13 Female\n",
              "4 104        1964-07-11 Male  \n",
              "5 105        1985-11-30 Female"
            ]
          },
          "metadata": {}
        }
      ]
    },
    {
      "cell_type": "code",
      "source": [
        "patient_data[,1:3]"
      ],
      "metadata": {
        "colab": {
          "base_uri": "https://localhost:8080/",
          "height": 255
        },
        "id": "WQjZZZTBINdH",
        "outputId": "a1c9e534-d30b-4020-a583-d9bd9b84cde8"
      },
      "execution_count": null,
      "outputs": [
        {
          "output_type": "display_data",
          "data": {
            "text/html": [
              "<table class=\"dataframe\">\n",
              "<caption>A data.frame: 5 × 3</caption>\n",
              "<thead>\n",
              "\t<tr><th scope=col>patient_id</th><th scope=col>birthdate</th><th scope=col>sex</th></tr>\n",
              "\t<tr><th scope=col>&lt;dbl&gt;</th><th scope=col>&lt;chr&gt;</th><th scope=col>&lt;chr&gt;</th></tr>\n",
              "</thead>\n",
              "<tbody>\n",
              "\t<tr><td>101</td><td>1958-02-17</td><td>Male  </td></tr>\n",
              "\t<tr><td>102</td><td>1977-05-22</td><td>Female</td></tr>\n",
              "\t<tr><td>103</td><td>1951-12-13</td><td>Female</td></tr>\n",
              "\t<tr><td>104</td><td>1964-07-11</td><td>Male  </td></tr>\n",
              "\t<tr><td>105</td><td>1985-11-30</td><td>Female</td></tr>\n",
              "</tbody>\n",
              "</table>\n"
            ],
            "text/markdown": "\nA data.frame: 5 × 3\n\n| patient_id &lt;dbl&gt; | birthdate &lt;chr&gt; | sex &lt;chr&gt; |\n|---|---|---|\n| 101 | 1958-02-17 | Male   |\n| 102 | 1977-05-22 | Female |\n| 103 | 1951-12-13 | Female |\n| 104 | 1964-07-11 | Male   |\n| 105 | 1985-11-30 | Female |\n\n",
            "text/latex": "A data.frame: 5 × 3\n\\begin{tabular}{lll}\n patient\\_id & birthdate & sex\\\\\n <dbl> & <chr> & <chr>\\\\\n\\hline\n\t 101 & 1958-02-17 & Male  \\\\\n\t 102 & 1977-05-22 & Female\\\\\n\t 103 & 1951-12-13 & Female\\\\\n\t 104 & 1964-07-11 & Male  \\\\\n\t 105 & 1985-11-30 & Female\\\\\n\\end{tabular}\n",
            "text/plain": [
              "  patient_id birthdate  sex   \n",
              "1 101        1958-02-17 Male  \n",
              "2 102        1977-05-22 Female\n",
              "3 103        1951-12-13 Female\n",
              "4 104        1964-07-11 Male  \n",
              "5 105        1985-11-30 Female"
            ]
          },
          "metadata": {}
        }
      ]
    },
    {
      "cell_type": "markdown",
      "source": [
        "## **Date**"
      ],
      "metadata": {
        "id": "5RsAcmiQInHP"
      }
    },
    {
      "cell_type": "markdown",
      "source": [
        "**Convert character to date**"
      ],
      "metadata": {
        "id": "fz1VGkVrJlbg"
      }
    },
    {
      "cell_type": "markdown",
      "source": [
        "Use lubridate package"
      ],
      "metadata": {
        "id": "JXnpnt8VI4rv"
      }
    },
    {
      "cell_type": "markdown",
      "source": [
        "Identify pattern whether it is ymd, mdy, or dmy and use the fit pattern."
      ],
      "metadata": {
        "id": "3Lch8jAgI9_I"
      }
    },
    {
      "cell_type": "markdown",
      "source": [
        "For birthdate in the example: 1958-02-17 is y-m-d, so you can use ymd()"
      ],
      "metadata": {
        "id": "vOJB-6THJQqx"
      }
    },
    {
      "cell_type": "code",
      "source": [
        "patient_data$birthdate<-ymd(patient_data$birthdate)"
      ],
      "metadata": {
        "id": "aqUCFFqQIunJ"
      },
      "execution_count": null,
      "outputs": []
    },
    {
      "cell_type": "code",
      "source": [
        "patient_data$diagnosis_date<-ymd(patient_data$diagnosis_date)"
      ],
      "metadata": {
        "id": "baJZaHdxJshY"
      },
      "execution_count": null,
      "outputs": []
    },
    {
      "cell_type": "markdown",
      "source": [
        "**Time difference**"
      ],
      "metadata": {
        "id": "wZRswlFVJz8J"
      }
    },
    {
      "cell_type": "markdown",
      "source": [
        "\n",
        "If you want to compute the time difference between the diagnosis date and the birth date for age (years) of each patient, you can do it like this:"
      ],
      "metadata": {
        "id": "flScNKhAKBFv"
      }
    },
    {
      "cell_type": "code",
      "source": [
        "patient_data$age<-floor(interval(patient_data$birthdate,patient_data$diagnosis_date)/duration(365.25,\"days\"))"
      ],
      "metadata": {
        "id": "GzhxcwqwKKMy"
      },
      "execution_count": null,
      "outputs": []
    },
    {
      "cell_type": "code",
      "source": [
        "print(patient_data)"
      ],
      "metadata": {
        "colab": {
          "base_uri": "https://localhost:8080/"
        },
        "id": "Ag9LLJwhKfuA",
        "outputId": "34c90314-a25f-40b6-8412-3d104a93ff1c"
      },
      "execution_count": null,
      "outputs": [
        {
          "output_type": "stream",
          "name": "stdout",
          "text": [
            "  patient_id  birthdate    sex     condition  treatment diagnosis_date age\n",
            "1        101 1958-02-17   Male  Hypertension Medication     2020-06-15  62\n",
            "2        102 1977-05-22 Female      Diabetes    Insulin     2019-04-23  41\n",
            "3        103 1951-12-13 Female  Hypertension Medication     2018-10-30  66\n",
            "4        104 1964-07-11   Male Heart Disease    Surgery     2021-02-08  56\n",
            "5        105 1985-11-30 Female       Healthy       None     2023-01-01  37\n"
          ]
        }
      ]
    },
    {
      "cell_type": "markdown",
      "source": [
        "**%in% operator**"
      ],
      "metadata": {
        "id": "sYaXIDpfK_oN"
      }
    },
    {
      "cell_type": "markdown",
      "source": [
        "The %in% operator in R is a binary operator, which takes two arguments: a vector on the left and a vector on the right. It returns a logical vector that indicates if there is a match or not for its left operand. Essentially, the %in% operator is used to identify if a certain value or values are present in a set of values."
      ],
      "metadata": {
        "id": "m7t7TCTBLbbD"
      }
    },
    {
      "cell_type": "code",
      "source": [
        "v1 <- c(1, 2, 3, 4, 5)"
      ],
      "metadata": {
        "id": "UaDtW_UBLaMr"
      },
      "execution_count": 3,
      "outputs": []
    },
    {
      "cell_type": "code",
      "source": [
        "result <- c(1, 6) %in% v1"
      ],
      "metadata": {
        "id": "M7MYkEDzLiyz"
      },
      "execution_count": 4,
      "outputs": []
    },
    {
      "cell_type": "code",
      "source": [
        "print(result)"
      ],
      "metadata": {
        "colab": {
          "base_uri": "https://localhost:8080/"
        },
        "id": "5tj0UJgzL4Ac",
        "outputId": "961247b8-1a11-4c3d-ec74-7dc57f31eb76"
      },
      "execution_count": 5,
      "outputs": [
        {
          "output_type": "stream",
          "name": "stdout",
          "text": [
            "[1]  TRUE FALSE\n"
          ]
        }
      ]
    },
    {
      "cell_type": "markdown",
      "source": [
        "**Paste functions**"
      ],
      "metadata": {
        "id": "4xzYLvfCO0za"
      }
    },
    {
      "cell_type": "markdown",
      "source": [
        "The paste() function concatenates vectors after converting to characters. The paste() function includes a separator between the concatenated elements, which, by default, is a space (\" \"), but can be set to anything you specify."
      ],
      "metadata": {
        "id": "rUyg_px_PNKy"
      }
    },
    {
      "cell_type": "code",
      "source": [
        "paste(\"Hello\", \"World\")"
      ],
      "metadata": {
        "colab": {
          "base_uri": "https://localhost:8080/",
          "height": 34
        },
        "id": "cRm0vRXSPEX7",
        "outputId": "94cae965-8ab5-4c84-e478-62ba01a369dc"
      },
      "execution_count": 6,
      "outputs": [
        {
          "output_type": "display_data",
          "data": {
            "text/html": [
              "'Hello World'"
            ],
            "text/markdown": "'Hello World'",
            "text/latex": "'Hello World'",
            "text/plain": [
              "[1] \"Hello World\""
            ]
          },
          "metadata": {}
        }
      ]
    },
    {
      "cell_type": "markdown",
      "source": [
        "Here, \"Hello\" and \"World\" are concatenated with a space in between.\n",
        "\n",
        "Now, if you want to change the separator:"
      ],
      "metadata": {
        "id": "GQIepDvUPc2v"
      }
    },
    {
      "cell_type": "code",
      "source": [
        "paste(\"Hello\", \"World\", sep = \"-\")"
      ],
      "metadata": {
        "colab": {
          "base_uri": "https://localhost:8080/",
          "height": 34
        },
        "id": "YtfZ57JjPZWf",
        "outputId": "025b389b-3a67-409f-b6ac-4538d86893af"
      },
      "execution_count": 7,
      "outputs": [
        {
          "output_type": "display_data",
          "data": {
            "text/html": [
              "'Hello-World'"
            ],
            "text/markdown": "'Hello-World'",
            "text/latex": "'Hello-World'",
            "text/plain": [
              "[1] \"Hello-World\""
            ]
          },
          "metadata": {}
        }
      ]
    },
    {
      "cell_type": "markdown",
      "source": [
        "On the other hand, paste0() is a variation of paste() which doesn't include any separators."
      ],
      "metadata": {
        "id": "zkQ-S59jPgkQ"
      }
    },
    {
      "cell_type": "code",
      "source": [
        "paste0(\"Hello\", \"beautiful\", \"World\")"
      ],
      "metadata": {
        "colab": {
          "base_uri": "https://localhost:8080/",
          "height": 34
        },
        "id": "oHjLvVzFPjVt",
        "outputId": "adb40f48-d82d-4ff0-e623-2dac3fefba41"
      },
      "execution_count": 8,
      "outputs": [
        {
          "output_type": "display_data",
          "data": {
            "text/html": [
              "'HellobeautifulWorld'"
            ],
            "text/markdown": "'HellobeautifulWorld'",
            "text/latex": "'HellobeautifulWorld'",
            "text/plain": [
              "[1] \"HellobeautifulWorld\""
            ]
          },
          "metadata": {}
        }
      ]
    },
    {
      "cell_type": "markdown",
      "source": [
        "**Import data table**"
      ],
      "metadata": {
        "id": "o-8M2McwL8o5"
      }
    },
    {
      "cell_type": "markdown",
      "source": [
        "The example dataset is a data table of ICD-10 records of hospitalisation."
      ],
      "metadata": {
        "id": "9s8u3QBcRwyQ"
      }
    },
    {
      "cell_type": "code",
      "source": [
        "temp <- tempfile()\n",
        "download.file(\"https://drive.usercontent.google.com/uc?id=17JtklrQvHYmT2Omhhfi5EDdfuyk8ut8q&authuser=0&export=download\", temp)\n",
        "dat<-read.csv(temp)"
      ],
      "metadata": {
        "id": "fvyKFIiRQW5O"
      },
      "execution_count": 9,
      "outputs": []
    },
    {
      "cell_type": "code",
      "source": [
        "glimpse(dat)"
      ],
      "metadata": {
        "colab": {
          "base_uri": "https://localhost:8080/"
        },
        "id": "Zjqn90jwQgLd",
        "outputId": "0088307a-b857-47cd-ab20-75513eaa4691"
      },
      "execution_count": 10,
      "outputs": [
        {
          "output_type": "stream",
          "name": "stdout",
          "text": [
            "Rows: 534,231\n",
            "Columns: 26\n",
            "$ gen_id  \u001b[3m\u001b[90m<int>\u001b[39m\u001b[23m 96753789, 74298627, 98394326, 6444039, 75418622, 96230501, 396…\n",
            "$ sex     \u001b[3m\u001b[90m<int>\u001b[39m\u001b[23m 1, 1, 1, 1, 1, 1, 1, 1, 2, 1, 1, 1, 1, 1, 1, 1, 1, 1, 2, 2, 1,…\n",
            "$ age_y   \u001b[3m\u001b[90m<int>\u001b[39m\u001b[23m 33, 46, 49, 26, 39, 13, 41, 42, 89, 88, 70, 36, 49, 41, 52, 49…\n",
            "$ dateadm \u001b[3m\u001b[90m<int>\u001b[39m\u001b[23m 20170414, 20170702, 20170615, 20170726, 20170919, 20170909, 20…\n",
            "$ datedsc \u001b[3m\u001b[90m<int>\u001b[39m\u001b[23m 20170415, 20170703, 20170616, 20170727, 20170922, 20170911, 20…\n",
            "$ pdx     \u001b[3m\u001b[90m<chr>\u001b[39m\u001b[23m \"F100\", \"F100\", \"F100\", \"F100\", \"F100\", \"F100\", \"F100\", \"F100\"…\n",
            "$ sdx1    \u001b[3m\u001b[90m<chr>\u001b[39m\u001b[23m \"\", \"R002\", \"E873\", \"\", \"E834\", \"E86\", \"F101\", \"B909\", \"I10\", …\n",
            "$ sdx2    \u001b[3m\u001b[90m<chr>\u001b[39m\u001b[23m \"\", \"\", \"\", \"\", \"E876\", \"E871\", \"\", \"\", \"\", \"M1099\", \"\", \"E834…\n",
            "$ sdx3    \u001b[3m\u001b[90m<chr>\u001b[39m\u001b[23m \"\", \"\", \"\", \"\", \"T436\", \"E876\", \"\", \"\", \"\", \"M940\", \"\", \"E876\"…\n",
            "$ sdx4    \u001b[3m\u001b[90m<chr>\u001b[39m\u001b[23m \"\", \"\", \"\", \"\", \"Y497\", \"J029\", \"\", \"\", \"\", \"N185\", \"\", \"J189\"…\n",
            "$ sdx5    \u001b[3m\u001b[90m<chr>\u001b[39m\u001b[23m \"\", \"\", \"\", \"\", \"\", \"\", \"\", \"\", \"\", \"N40\", \"\", \"S000\", \"\", \"\",…\n",
            "$ sdx6    \u001b[3m\u001b[90m<chr>\u001b[39m\u001b[23m \"\", \"\", \"\", \"\", \"\", \"\", \"\", \"\", \"\", \"D638\", \"\", \"S0600\", \"\", \"…\n",
            "$ sdx7    \u001b[3m\u001b[90m<chr>\u001b[39m\u001b[23m \"\", \"\", \"\", \"\", \"\", \"\", \"\", \"\", \"\", \"\", \"\", \"V2859\", \"\", \"\", \"…\n",
            "$ sdx8    \u001b[3m\u001b[90m<chr>\u001b[39m\u001b[23m \"\", \"\", \"\", \"\", \"\", \"\", \"\", \"\", \"\", \"\", \"\", \"\", \"\", \"\", \"\", \"\"…\n",
            "$ sdx9    \u001b[3m\u001b[90m<chr>\u001b[39m\u001b[23m \"\", \"\", \"\", \"\", \"\", \"\", \"\", \"\", \"\", \"\", \"\", \"\", \"\", \"\", \"\", \"\"…\n",
            "$ sdx10   \u001b[3m\u001b[90m<chr>\u001b[39m\u001b[23m \"\", \"\", \"\", \"\", \"\", \"\", \"\", \"\", \"\", \"\", \"\", \"\", \"\", \"\", \"\", \"\"…\n",
            "$ sdx11   \u001b[3m\u001b[90m<chr>\u001b[39m\u001b[23m \"\", \"\", \"\", \"\", \"\", \"\", \"\", \"\", \"\", \"\", \"\", \"\", \"\", \"\", \"\", \"\"…\n",
            "$ sdx12   \u001b[3m\u001b[90m<chr>\u001b[39m\u001b[23m \"\", \"\", \"\", \"\", \"\", \"\", \"\", \"\", \"\", \"\", \"\", \"\", \"\", \"\", \"\", \"\"…\n",
            "$ sdx13   \u001b[3m\u001b[90m<chr>\u001b[39m\u001b[23m \"\", \"\", \"\", \"\", \"\", \"\", \"\", \"\", \"\", \"\", \"\", \"\", \"\", \"\", \"\", \"\"…\n",
            "$ sdx14   \u001b[3m\u001b[90m<chr>\u001b[39m\u001b[23m \"\", \"\", \"\", \"\", \"\", \"\", \"\", \"\", \"\", \"\", \"\", \"\", \"\", \"\", \"\", \"\"…\n",
            "$ sdx15   \u001b[3m\u001b[90m<chr>\u001b[39m\u001b[23m \"\", \"\", \"\", \"\", \"\", \"\", \"\", \"\", \"\", \"\", \"\", \"\", \"\", \"\", \"\", \"\"…\n",
            "$ sdx16   \u001b[3m\u001b[90m<chr>\u001b[39m\u001b[23m \"\", \"\", \"\", \"\", \"\", \"\", \"\", \"\", \"\", \"\", \"\", \"\", \"\", \"\", \"\", \"\"…\n",
            "$ sdx17   \u001b[3m\u001b[90m<chr>\u001b[39m\u001b[23m \"\", \"\", \"\", \"\", \"\", \"\", \"\", \"\", \"\", \"\", \"\", \"\", \"\", \"\", \"\", \"\"…\n",
            "$ sdx18   \u001b[3m\u001b[90m<chr>\u001b[39m\u001b[23m \"\", \"\", \"\", \"\", \"\", \"\", \"\", \"\", \"\", \"\", \"\", \"\", \"\", \"\", \"\", \"\"…\n",
            "$ sdx19   \u001b[3m\u001b[90m<chr>\u001b[39m\u001b[23m \"\", \"\", \"\", \"\", \"\", \"\", \"\", \"\", \"\", \"\", \"\", \"\", \"\", \"\", \"\", \"\"…\n",
            "$ sdx20   \u001b[3m\u001b[90m<chr>\u001b[39m\u001b[23m \"\", \"\", \"\", \"\", \"\", \"\", \"\", \"\", \"\", \"\", \"\", \"\", \"\", \"\", \"\", \"\"…\n"
          ]
        }
      ]
    },
    {
      "cell_type": "markdown",
      "source": [
        "**Dictionary**"
      ],
      "metadata": {
        "id": "PQiZFP-zQnAm"
      }
    },
    {
      "cell_type": "markdown",
      "source": [
        "\n",
        "*   1 gen_id = 1 patient\n",
        "*   Sex: 1 = Male, 2 = Female\n",
        "*   age_y: age (year)\n",
        "*   dateadm: date of admission\n",
        "*   datedsc: date of discharge\n",
        "*   pdx = primary diagnosis ICD-10\n",
        "*   sdx1-20 = secondary diagnosis ICD-10\n",
        "\n"
      ],
      "metadata": {
        "id": "HCVdNPehQrQM"
      }
    },
    {
      "cell_type": "markdown",
      "source": [
        "Were any patients re-hospitalized?"
      ],
      "metadata": {
        "id": "jbBtIpOkRnPg"
      }
    },
    {
      "cell_type": "code",
      "source": [
        "sum(duplicated(dat$gen_id))"
      ],
      "metadata": {
        "colab": {
          "base_uri": "https://localhost:8080/",
          "height": 34
        },
        "id": "W3SyRJbsSK8m",
        "outputId": "a2780f4e-a98d-46cf-b3ac-4f0c73eb70fb"
      },
      "execution_count": 11,
      "outputs": [
        {
          "output_type": "display_data",
          "data": {
            "text/html": [
              "230128"
            ],
            "text/markdown": "230128",
            "text/latex": "230128",
            "text/plain": [
              "[1] 230128"
            ]
          },
          "metadata": {}
        }
      ]
    },
    {
      "cell_type": "markdown",
      "source": [
        "ANS: yes"
      ],
      "metadata": {
        "id": "U-rBuhGaSWbX"
      }
    },
    {
      "cell_type": "markdown",
      "source": [
        "Select all patients who once hospitalised with primary dianosis of A059\n",
        "Then assign to the new data frame namely \"dat2\""
      ],
      "metadata": {
        "id": "HqToegSpS74V"
      }
    },
    {
      "cell_type": "markdown",
      "source": [
        "**Erroneous methodology !!!**"
      ],
      "metadata": {
        "id": "ThHSJEtAT8N8"
      }
    },
    {
      "cell_type": "code",
      "source": [
        "dat2<-dat[dat$pdx==\"A059\",]"
      ],
      "metadata": {
        "id": "kNC7YzAjSZFm"
      },
      "execution_count": 16,
      "outputs": []
    },
    {
      "cell_type": "code",
      "source": [
        "dat2"
      ],
      "metadata": {
        "colab": {
          "base_uri": "https://localhost:8080/",
          "height": 1000
        },
        "id": "3V60tlJHUONl",
        "outputId": "cd11b8ea-ed13-4a5e-8d37-fd1122a6d3e7"
      },
      "execution_count": 17,
      "outputs": [
        {
          "output_type": "display_data",
          "data": {
            "text/html": [
              "<table class=\"dataframe\">\n",
              "<caption>A data.frame: 178 × 26</caption>\n",
              "<thead>\n",
              "\t<tr><th></th><th scope=col>gen_id</th><th scope=col>sex</th><th scope=col>age_y</th><th scope=col>dateadm</th><th scope=col>datedsc</th><th scope=col>pdx</th><th scope=col>sdx1</th><th scope=col>sdx2</th><th scope=col>sdx3</th><th scope=col>sdx4</th><th scope=col>⋯</th><th scope=col>sdx11</th><th scope=col>sdx12</th><th scope=col>sdx13</th><th scope=col>sdx14</th><th scope=col>sdx15</th><th scope=col>sdx16</th><th scope=col>sdx17</th><th scope=col>sdx18</th><th scope=col>sdx19</th><th scope=col>sdx20</th></tr>\n",
              "\t<tr><th></th><th scope=col>&lt;int&gt;</th><th scope=col>&lt;int&gt;</th><th scope=col>&lt;int&gt;</th><th scope=col>&lt;int&gt;</th><th scope=col>&lt;int&gt;</th><th scope=col>&lt;chr&gt;</th><th scope=col>&lt;chr&gt;</th><th scope=col>&lt;chr&gt;</th><th scope=col>&lt;chr&gt;</th><th scope=col>&lt;chr&gt;</th><th scope=col>⋯</th><th scope=col>&lt;chr&gt;</th><th scope=col>&lt;chr&gt;</th><th scope=col>&lt;chr&gt;</th><th scope=col>&lt;chr&gt;</th><th scope=col>&lt;chr&gt;</th><th scope=col>&lt;chr&gt;</th><th scope=col>&lt;chr&gt;</th><th scope=col>&lt;chr&gt;</th><th scope=col>&lt;chr&gt;</th><th scope=col>&lt;chr&gt;</th></tr>\n",
              "</thead>\n",
              "<tbody>\n",
              "\t<tr><th scope=row>191262</th><td>39172988</td><td>1</td><td>68</td><td>20161107</td><td>20161108</td><td>A059</td><td>F100</td><td>I10 </td><td>    </td><td>     </td><td>⋯</td><td></td><td></td><td></td><td></td><td></td><td></td><td></td><td></td><td></td><td></td></tr>\n",
              "\t<tr><th scope=row>191799</th><td>99321145</td><td>1</td><td>52</td><td>20170308</td><td>20170310</td><td>A059</td><td>F100</td><td>R572</td><td>    </td><td>     </td><td>⋯</td><td></td><td></td><td></td><td></td><td></td><td></td><td></td><td></td><td></td><td></td></tr>\n",
              "\t<tr><th scope=row>193042</th><td>73782329</td><td>1</td><td>35</td><td>20171001</td><td>20171003</td><td>A059</td><td>F100</td><td>    </td><td>    </td><td>     </td><td>⋯</td><td></td><td></td><td></td><td></td><td></td><td></td><td></td><td></td><td></td><td></td></tr>\n",
              "\t<tr><th scope=row>193127</th><td>46186306</td><td>2</td><td>49</td><td>20180318</td><td>20180320</td><td>A059</td><td>F100</td><td>    </td><td>    </td><td>     </td><td>⋯</td><td></td><td></td><td></td><td></td><td></td><td></td><td></td><td></td><td></td><td></td></tr>\n",
              "\t<tr><th scope=row>194280</th><td> 7316029</td><td>1</td><td>48</td><td>20180123</td><td>20180124</td><td>A059</td><td>F100</td><td>Z721</td><td>    </td><td>     </td><td>⋯</td><td></td><td></td><td></td><td></td><td></td><td></td><td></td><td></td><td></td><td></td></tr>\n",
              "\t<tr><th scope=row>194600</th><td> 2388680</td><td>2</td><td>45</td><td>20190116</td><td>20190117</td><td>A059</td><td>F100</td><td>    </td><td>    </td><td>     </td><td>⋯</td><td></td><td></td><td></td><td></td><td></td><td></td><td></td><td></td><td></td><td></td></tr>\n",
              "\t<tr><th scope=row>194669</th><td>49690597</td><td>1</td><td>80</td><td>20181115</td><td>20181117</td><td>A059</td><td>F100</td><td>I10 </td><td>R730</td><td>     </td><td>⋯</td><td></td><td></td><td></td><td></td><td></td><td></td><td></td><td></td><td></td><td></td></tr>\n",
              "\t<tr><th scope=row>196068</th><td>15244476</td><td>2</td><td>46</td><td>20190121</td><td>20190124</td><td>A059</td><td>F100</td><td>    </td><td>    </td><td>     </td><td>⋯</td><td></td><td></td><td></td><td></td><td></td><td></td><td></td><td></td><td></td><td></td></tr>\n",
              "\t<tr><th scope=row>196818</th><td>69010306</td><td>2</td><td>55</td><td>20200215</td><td>20200217</td><td>A059</td><td>F100</td><td>H813</td><td>    </td><td>     </td><td>⋯</td><td></td><td></td><td></td><td></td><td></td><td></td><td></td><td></td><td></td><td></td></tr>\n",
              "\t<tr><th scope=row>197502</th><td>76655273</td><td>1</td><td>34</td><td>20200318</td><td>20200319</td><td>A059</td><td>F100</td><td>K590</td><td>K759</td><td>Y1999</td><td>⋯</td><td></td><td></td><td></td><td></td><td></td><td></td><td></td><td></td><td></td><td></td></tr>\n",
              "\t<tr><th scope=row>197710</th><td>12582755</td><td>1</td><td>18</td><td>20200505</td><td>20200509</td><td>A059</td><td>F100</td><td>    </td><td>    </td><td>     </td><td>⋯</td><td></td><td></td><td></td><td></td><td></td><td></td><td></td><td></td><td></td><td></td></tr>\n",
              "\t<tr><th scope=row>201460</th><td>85795204</td><td>2</td><td>49</td><td>20170508</td><td>20170509</td><td>A059</td><td>F101</td><td>    </td><td>    </td><td>     </td><td>⋯</td><td></td><td></td><td></td><td></td><td></td><td></td><td></td><td></td><td></td><td></td></tr>\n",
              "\t<tr><th scope=row>202550</th><td>45336482</td><td>2</td><td>35</td><td>20180106</td><td>20180107</td><td>A059</td><td>F101</td><td>    </td><td>    </td><td>     </td><td>⋯</td><td></td><td></td><td></td><td></td><td></td><td></td><td></td><td></td><td></td><td></td></tr>\n",
              "\t<tr><th scope=row>202584</th><td> 1527417</td><td>1</td><td>28</td><td>20180401</td><td>20180404</td><td>A059</td><td>F101</td><td>F103</td><td>I10 </td><td>     </td><td>⋯</td><td></td><td></td><td></td><td></td><td></td><td></td><td></td><td></td><td></td><td></td></tr>\n",
              "\t<tr><th scope=row>203184</th><td>46653168</td><td>1</td><td>42</td><td>20180920</td><td>20180922</td><td>A059</td><td>F101</td><td>    </td><td>    </td><td>     </td><td>⋯</td><td></td><td></td><td></td><td></td><td></td><td></td><td></td><td></td><td></td><td></td></tr>\n",
              "\t<tr><th scope=row>203878</th><td>62505843</td><td>1</td><td>60</td><td>20190916</td><td>20190917</td><td>A059</td><td>F101</td><td>    </td><td>    </td><td>     </td><td>⋯</td><td></td><td></td><td></td><td></td><td></td><td></td><td></td><td></td><td></td><td></td></tr>\n",
              "\t<tr><th scope=row>212350</th><td>68357145</td><td>2</td><td>43</td><td>20170418</td><td>20170420</td><td>A059</td><td>F102</td><td>K30 </td><td>    </td><td>     </td><td>⋯</td><td></td><td></td><td></td><td></td><td></td><td></td><td></td><td></td><td></td><td></td></tr>\n",
              "\t<tr><th scope=row>213561</th><td>79860082</td><td>1</td><td>55</td><td>20170729</td><td>20170802</td><td>A059</td><td>F102</td><td>    </td><td>    </td><td>     </td><td>⋯</td><td></td><td></td><td></td><td></td><td></td><td></td><td></td><td></td><td></td><td></td></tr>\n",
              "\t<tr><th scope=row>214510</th><td>69679938</td><td>1</td><td>33</td><td>20170805</td><td>20170809</td><td>A059</td><td>F102</td><td>I10 </td><td>M349</td><td>D649 </td><td>⋯</td><td></td><td></td><td></td><td></td><td></td><td></td><td></td><td></td><td></td><td></td></tr>\n",
              "\t<tr><th scope=row>215166</th><td>41705181</td><td>1</td><td>29</td><td>20170312</td><td>20170314</td><td>A059</td><td>F102</td><td>    </td><td>    </td><td>     </td><td>⋯</td><td></td><td></td><td></td><td></td><td></td><td></td><td></td><td></td><td></td><td></td></tr>\n",
              "\t<tr><th scope=row>216553</th><td>30444064</td><td>1</td><td>37</td><td>20170522</td><td>20170523</td><td>A059</td><td>F102</td><td>    </td><td>    </td><td>     </td><td>⋯</td><td></td><td></td><td></td><td></td><td></td><td></td><td></td><td></td><td></td><td></td></tr>\n",
              "\t<tr><th scope=row>217067</th><td>20457292</td><td>1</td><td>38</td><td>20170519</td><td>20170520</td><td>A059</td><td>F102</td><td>    </td><td>    </td><td>     </td><td>⋯</td><td></td><td></td><td></td><td></td><td></td><td></td><td></td><td></td><td></td><td></td></tr>\n",
              "\t<tr><th scope=row>217744</th><td>80655107</td><td>1</td><td>44</td><td>20170308</td><td>20170311</td><td>A059</td><td>F102</td><td>    </td><td>    </td><td>     </td><td>⋯</td><td></td><td></td><td></td><td></td><td></td><td></td><td></td><td></td><td></td><td></td></tr>\n",
              "\t<tr><th scope=row>218491</th><td>29384688</td><td>1</td><td>55</td><td>20170831</td><td>20170902</td><td>A059</td><td>F102</td><td>    </td><td>    </td><td>     </td><td>⋯</td><td></td><td></td><td></td><td></td><td></td><td></td><td></td><td></td><td></td><td></td></tr>\n",
              "\t<tr><th scope=row>218872</th><td>88489128</td><td>1</td><td>48</td><td>20170330</td><td>20170407</td><td>A059</td><td>F102</td><td>K729</td><td>F103</td><td>     </td><td>⋯</td><td></td><td></td><td></td><td></td><td></td><td></td><td></td><td></td><td></td><td></td></tr>\n",
              "\t<tr><th scope=row>218925</th><td>30906172</td><td>1</td><td>70</td><td>20170204</td><td>20170206</td><td>A059</td><td>F102</td><td>F103</td><td>    </td><td>     </td><td>⋯</td><td></td><td></td><td></td><td></td><td></td><td></td><td></td><td></td><td></td><td></td></tr>\n",
              "\t<tr><th scope=row>218965</th><td>16702431</td><td>1</td><td>48</td><td>20170525</td><td>20170526</td><td>A059</td><td>F102</td><td>    </td><td>    </td><td>     </td><td>⋯</td><td></td><td></td><td></td><td></td><td></td><td></td><td></td><td></td><td></td><td></td></tr>\n",
              "\t<tr><th scope=row>219393</th><td>  813828</td><td>1</td><td>30</td><td>20170609</td><td>20170610</td><td>A059</td><td>F102</td><td>    </td><td>    </td><td>     </td><td>⋯</td><td></td><td></td><td></td><td></td><td></td><td></td><td></td><td></td><td></td><td></td></tr>\n",
              "\t<tr><th scope=row>221663</th><td>43135913</td><td>1</td><td>58</td><td>20171021</td><td>20171024</td><td>A059</td><td>F102</td><td>    </td><td>    </td><td>     </td><td>⋯</td><td></td><td></td><td></td><td></td><td></td><td></td><td></td><td></td><td></td><td></td></tr>\n",
              "\t<tr><th scope=row>221924</th><td>12099039</td><td>1</td><td>63</td><td>20171229</td><td>20171230</td><td>A059</td><td>F102</td><td>    </td><td>    </td><td>     </td><td>⋯</td><td></td><td></td><td></td><td></td><td></td><td></td><td></td><td></td><td></td><td></td></tr>\n",
              "\t<tr><th scope=row>⋮</th><td>⋮</td><td>⋮</td><td>⋮</td><td>⋮</td><td>⋮</td><td>⋮</td><td>⋮</td><td>⋮</td><td>⋮</td><td>⋮</td><td>⋱</td><td>⋮</td><td>⋮</td><td>⋮</td><td>⋮</td><td>⋮</td><td>⋮</td><td>⋮</td><td>⋮</td><td>⋮</td><td>⋮</td></tr>\n",
              "\t<tr><th scope=row>409770</th><td>10433171</td><td>2</td><td>52</td><td>20190127</td><td>20190129</td><td>A059</td><td>E834</td><td>E876</td><td>F100</td><td>X4999</td><td>⋯</td><td>    </td><td></td><td></td><td></td><td></td><td></td><td></td><td></td><td></td><td></td></tr>\n",
              "\t<tr><th scope=row>417415</th><td>78868268</td><td>1</td><td>76</td><td>20180509</td><td>20180510</td><td>A059</td><td>C159</td><td>E876</td><td>F102</td><td>I259 </td><td>⋯</td><td>    </td><td></td><td></td><td></td><td></td><td></td><td></td><td></td><td></td><td></td></tr>\n",
              "\t<tr><th scope=row>422426</th><td>63017954</td><td>1</td><td>48</td><td>20190424</td><td>20190427</td><td>A059</td><td>A488</td><td>E871</td><td>F102</td><td>R571 </td><td>⋯</td><td>    </td><td></td><td></td><td></td><td></td><td></td><td></td><td></td><td></td><td></td></tr>\n",
              "\t<tr><th scope=row>431579</th><td>26926592</td><td>2</td><td>44</td><td>20201207</td><td>20201212</td><td>A059</td><td>E834</td><td>E876</td><td>F102</td><td>F320 </td><td>⋯</td><td>    </td><td></td><td></td><td></td><td></td><td></td><td></td><td></td><td></td><td></td></tr>\n",
              "\t<tr><th scope=row>440251</th><td>48518744</td><td>1</td><td>59</td><td>20170419</td><td>20170427</td><td>A059</td><td>Z721</td><td>D65 </td><td>F103</td><td>J690 </td><td>⋯</td><td>    </td><td></td><td></td><td></td><td></td><td></td><td></td><td></td><td></td><td></td></tr>\n",
              "\t<tr><th scope=row>441839</th><td>88489128</td><td>1</td><td>48</td><td>20170330</td><td>20170407</td><td>A059</td><td>F102</td><td>K729</td><td>F103</td><td>     </td><td>⋯</td><td>    </td><td></td><td></td><td></td><td></td><td></td><td></td><td></td><td></td><td></td></tr>\n",
              "\t<tr><th scope=row>443377</th><td>51383400</td><td>2</td><td>44</td><td>20180713</td><td>20180716</td><td>A059</td><td>I10 </td><td>K701</td><td>F103</td><td>     </td><td>⋯</td><td>    </td><td></td><td></td><td></td><td></td><td></td><td></td><td></td><td></td><td></td></tr>\n",
              "\t<tr><th scope=row>451991</th><td>77173722</td><td>1</td><td>63</td><td>20210107</td><td>20210125</td><td>A059</td><td>E834</td><td>E876</td><td>F103</td><td>A415 </td><td>⋯</td><td>    </td><td></td><td></td><td></td><td></td><td></td><td></td><td></td><td></td><td></td></tr>\n",
              "\t<tr><th scope=row>456886</th><td>35667073</td><td>1</td><td>61</td><td>20220616</td><td>20220620</td><td>A059</td><td>E833</td><td>E871</td><td>F103</td><td>     </td><td>⋯</td><td>    </td><td></td><td></td><td></td><td></td><td></td><td></td><td></td><td></td><td></td></tr>\n",
              "\t<tr><th scope=row>460099</th><td>47224773</td><td>1</td><td>51</td><td>20190905</td><td>20190907</td><td>A059</td><td>B24 </td><td>E876</td><td>F104</td><td>     </td><td>⋯</td><td>    </td><td></td><td></td><td></td><td></td><td></td><td></td><td></td><td></td><td></td></tr>\n",
              "\t<tr><th scope=row>463676</th><td>28003143</td><td>1</td><td>66</td><td>20180526</td><td>20180528</td><td>A059</td><td>E119</td><td>E785</td><td>F105</td><td>I10  </td><td>⋯</td><td>    </td><td></td><td></td><td></td><td></td><td></td><td></td><td></td><td></td><td></td></tr>\n",
              "\t<tr><th scope=row>465219</th><td>77521992</td><td>1</td><td>39</td><td>20210507</td><td>20210508</td><td>A059</td><td>E119</td><td>E876</td><td>F105</td><td>N179 </td><td>⋯</td><td>    </td><td></td><td></td><td></td><td></td><td></td><td></td><td></td><td></td><td></td></tr>\n",
              "\t<tr><th scope=row>465375</th><td>58701911</td><td>1</td><td>47</td><td>20220614</td><td>20220616</td><td>A059</td><td>E785</td><td>E876</td><td>F105</td><td>K746 </td><td>⋯</td><td>    </td><td></td><td></td><td></td><td></td><td></td><td></td><td></td><td></td><td></td></tr>\n",
              "\t<tr><th scope=row>468654</th><td>75172039</td><td>1</td><td>45</td><td>20170815</td><td>20170818</td><td>A059</td><td>E119</td><td>E834</td><td>E876</td><td>F103 </td><td>⋯</td><td>    </td><td></td><td></td><td></td><td></td><td></td><td></td><td></td><td></td><td></td></tr>\n",
              "\t<tr><th scope=row>473222</th><td>34627596</td><td>2</td><td>29</td><td>20171124</td><td>20171126</td><td>A059</td><td>E871</td><td>E872</td><td>E876</td><td>F102 </td><td>⋯</td><td>    </td><td></td><td></td><td></td><td></td><td></td><td></td><td></td><td></td><td></td></tr>\n",
              "\t<tr><th scope=row>481373</th><td>97057900</td><td>2</td><td>49</td><td>20200923</td><td>20200927</td><td>A059</td><td>E833</td><td>E834</td><td>E872</td><td>F102 </td><td>⋯</td><td>    </td><td></td><td></td><td></td><td></td><td></td><td></td><td></td><td></td><td></td></tr>\n",
              "\t<tr><th scope=row>490401</th><td>80653557</td><td>2</td><td>66</td><td>20201018</td><td>20201019</td><td>A059</td><td>B909</td><td>E834</td><td>E876</td><td>F102 </td><td>⋯</td><td>    </td><td></td><td></td><td></td><td></td><td></td><td></td><td></td><td></td><td></td></tr>\n",
              "\t<tr><th scope=row>493409</th><td> 8330252</td><td>1</td><td>47</td><td>20211221</td><td>20211222</td><td>A059</td><td>B909</td><td>D649</td><td>E876</td><td>F102 </td><td>⋯</td><td>Z115</td><td></td><td></td><td></td><td></td><td></td><td></td><td></td><td></td><td></td></tr>\n",
              "\t<tr><th scope=row>497727</th><td>56200959</td><td>1</td><td>53</td><td>20170224</td><td>20170225</td><td>A059</td><td>D509</td><td>E112</td><td>E871</td><td>E876 </td><td>⋯</td><td>    </td><td></td><td></td><td></td><td></td><td></td><td></td><td></td><td></td><td></td></tr>\n",
              "\t<tr><th scope=row>500668</th><td>34627596</td><td>2</td><td>29</td><td>20171124</td><td>20171126</td><td>A059</td><td>E871</td><td>E872</td><td>E876</td><td>F102 </td><td>⋯</td><td>    </td><td></td><td></td><td></td><td></td><td></td><td></td><td></td><td></td><td></td></tr>\n",
              "\t<tr><th scope=row>502374</th><td>92302099</td><td>1</td><td>41</td><td>20190914</td><td>20190921</td><td>A059</td><td>E86 </td><td>E871</td><td>E872</td><td>E876 </td><td>⋯</td><td>    </td><td></td><td></td><td></td><td></td><td></td><td></td><td></td><td></td><td></td></tr>\n",
              "\t<tr><th scope=row>507914</th><td>92812073</td><td>1</td><td>35</td><td>20210206</td><td>20210208</td><td>A059</td><td>E119</td><td>E789</td><td>E871</td><td>E875 </td><td>⋯</td><td>    </td><td></td><td></td><td></td><td></td><td></td><td></td><td></td><td></td><td></td></tr>\n",
              "\t<tr><th scope=row>511055</th><td> 8330252</td><td>1</td><td>47</td><td>20211221</td><td>20211222</td><td>A059</td><td>B909</td><td>D649</td><td>E876</td><td>F102 </td><td>⋯</td><td>Z115</td><td></td><td></td><td></td><td></td><td></td><td></td><td></td><td></td><td></td></tr>\n",
              "\t<tr><th scope=row>512154</th><td> 9752135</td><td>1</td><td>48</td><td>20220401</td><td>20220405</td><td>A059</td><td>D649</td><td>E119</td><td>E789</td><td>E871 </td><td>⋯</td><td>Z115</td><td></td><td></td><td></td><td></td><td></td><td></td><td></td><td></td><td></td></tr>\n",
              "\t<tr><th scope=row>514313</th><td>14940189</td><td>2</td><td>46</td><td>20170401</td><td>20170404</td><td>A059</td><td>B909</td><td>D696</td><td>E876</td><td>K760 </td><td>⋯</td><td>    </td><td></td><td></td><td></td><td></td><td></td><td></td><td></td><td></td><td></td></tr>\n",
              "\t<tr><th scope=row>517251</th><td>45529509</td><td>1</td><td>50</td><td>20200518</td><td>20200520</td><td>A059</td><td>E119</td><td>E789</td><td>I10 </td><td>K701 </td><td>⋯</td><td>    </td><td></td><td></td><td></td><td></td><td></td><td></td><td></td><td></td><td></td></tr>\n",
              "\t<tr><th scope=row>518959</th><td>26926592</td><td>2</td><td>44</td><td>20201207</td><td>20201212</td><td>A059</td><td>E834</td><td>E876</td><td>F102</td><td>F320 </td><td>⋯</td><td>    </td><td></td><td></td><td></td><td></td><td></td><td></td><td></td><td></td><td></td></tr>\n",
              "\t<tr><th scope=row>526907</th><td>82516448</td><td>1</td><td>68</td><td>20170303</td><td>20170317</td><td>A059</td><td>A415</td><td>B780</td><td>K703</td><td>N179 </td><td>⋯</td><td>R572</td><td></td><td></td><td></td><td></td><td></td><td></td><td></td><td></td><td></td></tr>\n",
              "\t<tr><th scope=row>529719</th><td> 4750939</td><td>1</td><td>42</td><td>20170103</td><td>20170106</td><td>A059</td><td>D696</td><td>E834</td><td>E835</td><td>E871 </td><td>⋯</td><td>    </td><td></td><td></td><td></td><td></td><td></td><td></td><td></td><td></td><td></td></tr>\n",
              "\t<tr><th scope=row>531317</th><td> 9752135</td><td>1</td><td>48</td><td>20220401</td><td>20220405</td><td>A059</td><td>D649</td><td>E119</td><td>E789</td><td>E871 </td><td>⋯</td><td>Z115</td><td></td><td></td><td></td><td></td><td></td><td></td><td></td><td></td><td></td></tr>\n",
              "</tbody>\n",
              "</table>\n"
            ],
            "text/markdown": "\nA data.frame: 178 × 26\n\n| <!--/--> | gen_id &lt;int&gt; | sex &lt;int&gt; | age_y &lt;int&gt; | dateadm &lt;int&gt; | datedsc &lt;int&gt; | pdx &lt;chr&gt; | sdx1 &lt;chr&gt; | sdx2 &lt;chr&gt; | sdx3 &lt;chr&gt; | sdx4 &lt;chr&gt; | ⋯ ⋯ | sdx11 &lt;chr&gt; | sdx12 &lt;chr&gt; | sdx13 &lt;chr&gt; | sdx14 &lt;chr&gt; | sdx15 &lt;chr&gt; | sdx16 &lt;chr&gt; | sdx17 &lt;chr&gt; | sdx18 &lt;chr&gt; | sdx19 &lt;chr&gt; | sdx20 &lt;chr&gt; |\n|---|---|---|---|---|---|---|---|---|---|---|---|---|---|---|---|---|---|---|---|---|---|\n| 191262 | 39172988 | 1 | 68 | 20161107 | 20161108 | A059 | F100 | I10  | <!----> | <!----> | ⋯ | <!----> | <!----> | <!----> | <!----> | <!----> | <!----> | <!----> | <!----> | <!----> | <!----> |\n| 191799 | 99321145 | 1 | 52 | 20170308 | 20170310 | A059 | F100 | R572 | <!----> | <!----> | ⋯ | <!----> | <!----> | <!----> | <!----> | <!----> | <!----> | <!----> | <!----> | <!----> | <!----> |\n| 193042 | 73782329 | 1 | 35 | 20171001 | 20171003 | A059 | F100 | <!----> | <!----> | <!----> | ⋯ | <!----> | <!----> | <!----> | <!----> | <!----> | <!----> | <!----> | <!----> | <!----> | <!----> |\n| 193127 | 46186306 | 2 | 49 | 20180318 | 20180320 | A059 | F100 | <!----> | <!----> | <!----> | ⋯ | <!----> | <!----> | <!----> | <!----> | <!----> | <!----> | <!----> | <!----> | <!----> | <!----> |\n| 194280 |  7316029 | 1 | 48 | 20180123 | 20180124 | A059 | F100 | Z721 | <!----> | <!----> | ⋯ | <!----> | <!----> | <!----> | <!----> | <!----> | <!----> | <!----> | <!----> | <!----> | <!----> |\n| 194600 |  2388680 | 2 | 45 | 20190116 | 20190117 | A059 | F100 | <!----> | <!----> | <!----> | ⋯ | <!----> | <!----> | <!----> | <!----> | <!----> | <!----> | <!----> | <!----> | <!----> | <!----> |\n| 194669 | 49690597 | 1 | 80 | 20181115 | 20181117 | A059 | F100 | I10  | R730 | <!----> | ⋯ | <!----> | <!----> | <!----> | <!----> | <!----> | <!----> | <!----> | <!----> | <!----> | <!----> |\n| 196068 | 15244476 | 2 | 46 | 20190121 | 20190124 | A059 | F100 | <!----> | <!----> | <!----> | ⋯ | <!----> | <!----> | <!----> | <!----> | <!----> | <!----> | <!----> | <!----> | <!----> | <!----> |\n| 196818 | 69010306 | 2 | 55 | 20200215 | 20200217 | A059 | F100 | H813 | <!----> | <!----> | ⋯ | <!----> | <!----> | <!----> | <!----> | <!----> | <!----> | <!----> | <!----> | <!----> | <!----> |\n| 197502 | 76655273 | 1 | 34 | 20200318 | 20200319 | A059 | F100 | K590 | K759 | Y1999 | ⋯ | <!----> | <!----> | <!----> | <!----> | <!----> | <!----> | <!----> | <!----> | <!----> | <!----> |\n| 197710 | 12582755 | 1 | 18 | 20200505 | 20200509 | A059 | F100 | <!----> | <!----> | <!----> | ⋯ | <!----> | <!----> | <!----> | <!----> | <!----> | <!----> | <!----> | <!----> | <!----> | <!----> |\n| 201460 | 85795204 | 2 | 49 | 20170508 | 20170509 | A059 | F101 | <!----> | <!----> | <!----> | ⋯ | <!----> | <!----> | <!----> | <!----> | <!----> | <!----> | <!----> | <!----> | <!----> | <!----> |\n| 202550 | 45336482 | 2 | 35 | 20180106 | 20180107 | A059 | F101 | <!----> | <!----> | <!----> | ⋯ | <!----> | <!----> | <!----> | <!----> | <!----> | <!----> | <!----> | <!----> | <!----> | <!----> |\n| 202584 |  1527417 | 1 | 28 | 20180401 | 20180404 | A059 | F101 | F103 | I10  | <!----> | ⋯ | <!----> | <!----> | <!----> | <!----> | <!----> | <!----> | <!----> | <!----> | <!----> | <!----> |\n| 203184 | 46653168 | 1 | 42 | 20180920 | 20180922 | A059 | F101 | <!----> | <!----> | <!----> | ⋯ | <!----> | <!----> | <!----> | <!----> | <!----> | <!----> | <!----> | <!----> | <!----> | <!----> |\n| 203878 | 62505843 | 1 | 60 | 20190916 | 20190917 | A059 | F101 | <!----> | <!----> | <!----> | ⋯ | <!----> | <!----> | <!----> | <!----> | <!----> | <!----> | <!----> | <!----> | <!----> | <!----> |\n| 212350 | 68357145 | 2 | 43 | 20170418 | 20170420 | A059 | F102 | K30  | <!----> | <!----> | ⋯ | <!----> | <!----> | <!----> | <!----> | <!----> | <!----> | <!----> | <!----> | <!----> | <!----> |\n| 213561 | 79860082 | 1 | 55 | 20170729 | 20170802 | A059 | F102 | <!----> | <!----> | <!----> | ⋯ | <!----> | <!----> | <!----> | <!----> | <!----> | <!----> | <!----> | <!----> | <!----> | <!----> |\n| 214510 | 69679938 | 1 | 33 | 20170805 | 20170809 | A059 | F102 | I10  | M349 | D649  | ⋯ | <!----> | <!----> | <!----> | <!----> | <!----> | <!----> | <!----> | <!----> | <!----> | <!----> |\n| 215166 | 41705181 | 1 | 29 | 20170312 | 20170314 | A059 | F102 | <!----> | <!----> | <!----> | ⋯ | <!----> | <!----> | <!----> | <!----> | <!----> | <!----> | <!----> | <!----> | <!----> | <!----> |\n| 216553 | 30444064 | 1 | 37 | 20170522 | 20170523 | A059 | F102 | <!----> | <!----> | <!----> | ⋯ | <!----> | <!----> | <!----> | <!----> | <!----> | <!----> | <!----> | <!----> | <!----> | <!----> |\n| 217067 | 20457292 | 1 | 38 | 20170519 | 20170520 | A059 | F102 | <!----> | <!----> | <!----> | ⋯ | <!----> | <!----> | <!----> | <!----> | <!----> | <!----> | <!----> | <!----> | <!----> | <!----> |\n| 217744 | 80655107 | 1 | 44 | 20170308 | 20170311 | A059 | F102 | <!----> | <!----> | <!----> | ⋯ | <!----> | <!----> | <!----> | <!----> | <!----> | <!----> | <!----> | <!----> | <!----> | <!----> |\n| 218491 | 29384688 | 1 | 55 | 20170831 | 20170902 | A059 | F102 | <!----> | <!----> | <!----> | ⋯ | <!----> | <!----> | <!----> | <!----> | <!----> | <!----> | <!----> | <!----> | <!----> | <!----> |\n| 218872 | 88489128 | 1 | 48 | 20170330 | 20170407 | A059 | F102 | K729 | F103 | <!----> | ⋯ | <!----> | <!----> | <!----> | <!----> | <!----> | <!----> | <!----> | <!----> | <!----> | <!----> |\n| 218925 | 30906172 | 1 | 70 | 20170204 | 20170206 | A059 | F102 | F103 | <!----> | <!----> | ⋯ | <!----> | <!----> | <!----> | <!----> | <!----> | <!----> | <!----> | <!----> | <!----> | <!----> |\n| 218965 | 16702431 | 1 | 48 | 20170525 | 20170526 | A059 | F102 | <!----> | <!----> | <!----> | ⋯ | <!----> | <!----> | <!----> | <!----> | <!----> | <!----> | <!----> | <!----> | <!----> | <!----> |\n| 219393 |   813828 | 1 | 30 | 20170609 | 20170610 | A059 | F102 | <!----> | <!----> | <!----> | ⋯ | <!----> | <!----> | <!----> | <!----> | <!----> | <!----> | <!----> | <!----> | <!----> | <!----> |\n| 221663 | 43135913 | 1 | 58 | 20171021 | 20171024 | A059 | F102 | <!----> | <!----> | <!----> | ⋯ | <!----> | <!----> | <!----> | <!----> | <!----> | <!----> | <!----> | <!----> | <!----> | <!----> |\n| 221924 | 12099039 | 1 | 63 | 20171229 | 20171230 | A059 | F102 | <!----> | <!----> | <!----> | ⋯ | <!----> | <!----> | <!----> | <!----> | <!----> | <!----> | <!----> | <!----> | <!----> | <!----> |\n| ⋮ | ⋮ | ⋮ | ⋮ | ⋮ | ⋮ | ⋮ | ⋮ | ⋮ | ⋮ | ⋮ | ⋱ | ⋮ | ⋮ | ⋮ | ⋮ | ⋮ | ⋮ | ⋮ | ⋮ | ⋮ | ⋮ |\n| 409770 | 10433171 | 2 | 52 | 20190127 | 20190129 | A059 | E834 | E876 | F100 | X4999 | ⋯ | <!----> | <!----> | <!----> | <!----> | <!----> | <!----> | <!----> | <!----> | <!----> | <!----> |\n| 417415 | 78868268 | 1 | 76 | 20180509 | 20180510 | A059 | C159 | E876 | F102 | I259  | ⋯ | <!----> | <!----> | <!----> | <!----> | <!----> | <!----> | <!----> | <!----> | <!----> | <!----> |\n| 422426 | 63017954 | 1 | 48 | 20190424 | 20190427 | A059 | A488 | E871 | F102 | R571  | ⋯ | <!----> | <!----> | <!----> | <!----> | <!----> | <!----> | <!----> | <!----> | <!----> | <!----> |\n| 431579 | 26926592 | 2 | 44 | 20201207 | 20201212 | A059 | E834 | E876 | F102 | F320  | ⋯ | <!----> | <!----> | <!----> | <!----> | <!----> | <!----> | <!----> | <!----> | <!----> | <!----> |\n| 440251 | 48518744 | 1 | 59 | 20170419 | 20170427 | A059 | Z721 | D65  | F103 | J690  | ⋯ | <!----> | <!----> | <!----> | <!----> | <!----> | <!----> | <!----> | <!----> | <!----> | <!----> |\n| 441839 | 88489128 | 1 | 48 | 20170330 | 20170407 | A059 | F102 | K729 | F103 | <!----> | ⋯ | <!----> | <!----> | <!----> | <!----> | <!----> | <!----> | <!----> | <!----> | <!----> | <!----> |\n| 443377 | 51383400 | 2 | 44 | 20180713 | 20180716 | A059 | I10  | K701 | F103 | <!----> | ⋯ | <!----> | <!----> | <!----> | <!----> | <!----> | <!----> | <!----> | <!----> | <!----> | <!----> |\n| 451991 | 77173722 | 1 | 63 | 20210107 | 20210125 | A059 | E834 | E876 | F103 | A415  | ⋯ | <!----> | <!----> | <!----> | <!----> | <!----> | <!----> | <!----> | <!----> | <!----> | <!----> |\n| 456886 | 35667073 | 1 | 61 | 20220616 | 20220620 | A059 | E833 | E871 | F103 | <!----> | ⋯ | <!----> | <!----> | <!----> | <!----> | <!----> | <!----> | <!----> | <!----> | <!----> | <!----> |\n| 460099 | 47224773 | 1 | 51 | 20190905 | 20190907 | A059 | B24  | E876 | F104 | <!----> | ⋯ | <!----> | <!----> | <!----> | <!----> | <!----> | <!----> | <!----> | <!----> | <!----> | <!----> |\n| 463676 | 28003143 | 1 | 66 | 20180526 | 20180528 | A059 | E119 | E785 | F105 | I10   | ⋯ | <!----> | <!----> | <!----> | <!----> | <!----> | <!----> | <!----> | <!----> | <!----> | <!----> |\n| 465219 | 77521992 | 1 | 39 | 20210507 | 20210508 | A059 | E119 | E876 | F105 | N179  | ⋯ | <!----> | <!----> | <!----> | <!----> | <!----> | <!----> | <!----> | <!----> | <!----> | <!----> |\n| 465375 | 58701911 | 1 | 47 | 20220614 | 20220616 | A059 | E785 | E876 | F105 | K746  | ⋯ | <!----> | <!----> | <!----> | <!----> | <!----> | <!----> | <!----> | <!----> | <!----> | <!----> |\n| 468654 | 75172039 | 1 | 45 | 20170815 | 20170818 | A059 | E119 | E834 | E876 | F103  | ⋯ | <!----> | <!----> | <!----> | <!----> | <!----> | <!----> | <!----> | <!----> | <!----> | <!----> |\n| 473222 | 34627596 | 2 | 29 | 20171124 | 20171126 | A059 | E871 | E872 | E876 | F102  | ⋯ | <!----> | <!----> | <!----> | <!----> | <!----> | <!----> | <!----> | <!----> | <!----> | <!----> |\n| 481373 | 97057900 | 2 | 49 | 20200923 | 20200927 | A059 | E833 | E834 | E872 | F102  | ⋯ | <!----> | <!----> | <!----> | <!----> | <!----> | <!----> | <!----> | <!----> | <!----> | <!----> |\n| 490401 | 80653557 | 2 | 66 | 20201018 | 20201019 | A059 | B909 | E834 | E876 | F102  | ⋯ | <!----> | <!----> | <!----> | <!----> | <!----> | <!----> | <!----> | <!----> | <!----> | <!----> |\n| 493409 |  8330252 | 1 | 47 | 20211221 | 20211222 | A059 | B909 | D649 | E876 | F102  | ⋯ | Z115 | <!----> | <!----> | <!----> | <!----> | <!----> | <!----> | <!----> | <!----> | <!----> |\n| 497727 | 56200959 | 1 | 53 | 20170224 | 20170225 | A059 | D509 | E112 | E871 | E876  | ⋯ | <!----> | <!----> | <!----> | <!----> | <!----> | <!----> | <!----> | <!----> | <!----> | <!----> |\n| 500668 | 34627596 | 2 | 29 | 20171124 | 20171126 | A059 | E871 | E872 | E876 | F102  | ⋯ | <!----> | <!----> | <!----> | <!----> | <!----> | <!----> | <!----> | <!----> | <!----> | <!----> |\n| 502374 | 92302099 | 1 | 41 | 20190914 | 20190921 | A059 | E86  | E871 | E872 | E876  | ⋯ | <!----> | <!----> | <!----> | <!----> | <!----> | <!----> | <!----> | <!----> | <!----> | <!----> |\n| 507914 | 92812073 | 1 | 35 | 20210206 | 20210208 | A059 | E119 | E789 | E871 | E875  | ⋯ | <!----> | <!----> | <!----> | <!----> | <!----> | <!----> | <!----> | <!----> | <!----> | <!----> |\n| 511055 |  8330252 | 1 | 47 | 20211221 | 20211222 | A059 | B909 | D649 | E876 | F102  | ⋯ | Z115 | <!----> | <!----> | <!----> | <!----> | <!----> | <!----> | <!----> | <!----> | <!----> |\n| 512154 |  9752135 | 1 | 48 | 20220401 | 20220405 | A059 | D649 | E119 | E789 | E871  | ⋯ | Z115 | <!----> | <!----> | <!----> | <!----> | <!----> | <!----> | <!----> | <!----> | <!----> |\n| 514313 | 14940189 | 2 | 46 | 20170401 | 20170404 | A059 | B909 | D696 | E876 | K760  | ⋯ | <!----> | <!----> | <!----> | <!----> | <!----> | <!----> | <!----> | <!----> | <!----> | <!----> |\n| 517251 | 45529509 | 1 | 50 | 20200518 | 20200520 | A059 | E119 | E789 | I10  | K701  | ⋯ | <!----> | <!----> | <!----> | <!----> | <!----> | <!----> | <!----> | <!----> | <!----> | <!----> |\n| 518959 | 26926592 | 2 | 44 | 20201207 | 20201212 | A059 | E834 | E876 | F102 | F320  | ⋯ | <!----> | <!----> | <!----> | <!----> | <!----> | <!----> | <!----> | <!----> | <!----> | <!----> |\n| 526907 | 82516448 | 1 | 68 | 20170303 | 20170317 | A059 | A415 | B780 | K703 | N179  | ⋯ | R572 | <!----> | <!----> | <!----> | <!----> | <!----> | <!----> | <!----> | <!----> | <!----> |\n| 529719 |  4750939 | 1 | 42 | 20170103 | 20170106 | A059 | D696 | E834 | E835 | E871  | ⋯ | <!----> | <!----> | <!----> | <!----> | <!----> | <!----> | <!----> | <!----> | <!----> | <!----> |\n| 531317 |  9752135 | 1 | 48 | 20220401 | 20220405 | A059 | D649 | E119 | E789 | E871  | ⋯ | Z115 | <!----> | <!----> | <!----> | <!----> | <!----> | <!----> | <!----> | <!----> | <!----> |\n\n",
            "text/latex": "A data.frame: 178 × 26\n\\begin{tabular}{r|lllllllllllllllllllll}\n  & gen\\_id & sex & age\\_y & dateadm & datedsc & pdx & sdx1 & sdx2 & sdx3 & sdx4 & ⋯ & sdx11 & sdx12 & sdx13 & sdx14 & sdx15 & sdx16 & sdx17 & sdx18 & sdx19 & sdx20\\\\\n  & <int> & <int> & <int> & <int> & <int> & <chr> & <chr> & <chr> & <chr> & <chr> & ⋯ & <chr> & <chr> & <chr> & <chr> & <chr> & <chr> & <chr> & <chr> & <chr> & <chr>\\\\\n\\hline\n\t191262 & 39172988 & 1 & 68 & 20161107 & 20161108 & A059 & F100 & I10  &      &       & ⋯ &  &  &  &  &  &  &  &  &  & \\\\\n\t191799 & 99321145 & 1 & 52 & 20170308 & 20170310 & A059 & F100 & R572 &      &       & ⋯ &  &  &  &  &  &  &  &  &  & \\\\\n\t193042 & 73782329 & 1 & 35 & 20171001 & 20171003 & A059 & F100 &      &      &       & ⋯ &  &  &  &  &  &  &  &  &  & \\\\\n\t193127 & 46186306 & 2 & 49 & 20180318 & 20180320 & A059 & F100 &      &      &       & ⋯ &  &  &  &  &  &  &  &  &  & \\\\\n\t194280 &  7316029 & 1 & 48 & 20180123 & 20180124 & A059 & F100 & Z721 &      &       & ⋯ &  &  &  &  &  &  &  &  &  & \\\\\n\t194600 &  2388680 & 2 & 45 & 20190116 & 20190117 & A059 & F100 &      &      &       & ⋯ &  &  &  &  &  &  &  &  &  & \\\\\n\t194669 & 49690597 & 1 & 80 & 20181115 & 20181117 & A059 & F100 & I10  & R730 &       & ⋯ &  &  &  &  &  &  &  &  &  & \\\\\n\t196068 & 15244476 & 2 & 46 & 20190121 & 20190124 & A059 & F100 &      &      &       & ⋯ &  &  &  &  &  &  &  &  &  & \\\\\n\t196818 & 69010306 & 2 & 55 & 20200215 & 20200217 & A059 & F100 & H813 &      &       & ⋯ &  &  &  &  &  &  &  &  &  & \\\\\n\t197502 & 76655273 & 1 & 34 & 20200318 & 20200319 & A059 & F100 & K590 & K759 & Y1999 & ⋯ &  &  &  &  &  &  &  &  &  & \\\\\n\t197710 & 12582755 & 1 & 18 & 20200505 & 20200509 & A059 & F100 &      &      &       & ⋯ &  &  &  &  &  &  &  &  &  & \\\\\n\t201460 & 85795204 & 2 & 49 & 20170508 & 20170509 & A059 & F101 &      &      &       & ⋯ &  &  &  &  &  &  &  &  &  & \\\\\n\t202550 & 45336482 & 2 & 35 & 20180106 & 20180107 & A059 & F101 &      &      &       & ⋯ &  &  &  &  &  &  &  &  &  & \\\\\n\t202584 &  1527417 & 1 & 28 & 20180401 & 20180404 & A059 & F101 & F103 & I10  &       & ⋯ &  &  &  &  &  &  &  &  &  & \\\\\n\t203184 & 46653168 & 1 & 42 & 20180920 & 20180922 & A059 & F101 &      &      &       & ⋯ &  &  &  &  &  &  &  &  &  & \\\\\n\t203878 & 62505843 & 1 & 60 & 20190916 & 20190917 & A059 & F101 &      &      &       & ⋯ &  &  &  &  &  &  &  &  &  & \\\\\n\t212350 & 68357145 & 2 & 43 & 20170418 & 20170420 & A059 & F102 & K30  &      &       & ⋯ &  &  &  &  &  &  &  &  &  & \\\\\n\t213561 & 79860082 & 1 & 55 & 20170729 & 20170802 & A059 & F102 &      &      &       & ⋯ &  &  &  &  &  &  &  &  &  & \\\\\n\t214510 & 69679938 & 1 & 33 & 20170805 & 20170809 & A059 & F102 & I10  & M349 & D649  & ⋯ &  &  &  &  &  &  &  &  &  & \\\\\n\t215166 & 41705181 & 1 & 29 & 20170312 & 20170314 & A059 & F102 &      &      &       & ⋯ &  &  &  &  &  &  &  &  &  & \\\\\n\t216553 & 30444064 & 1 & 37 & 20170522 & 20170523 & A059 & F102 &      &      &       & ⋯ &  &  &  &  &  &  &  &  &  & \\\\\n\t217067 & 20457292 & 1 & 38 & 20170519 & 20170520 & A059 & F102 &      &      &       & ⋯ &  &  &  &  &  &  &  &  &  & \\\\\n\t217744 & 80655107 & 1 & 44 & 20170308 & 20170311 & A059 & F102 &      &      &       & ⋯ &  &  &  &  &  &  &  &  &  & \\\\\n\t218491 & 29384688 & 1 & 55 & 20170831 & 20170902 & A059 & F102 &      &      &       & ⋯ &  &  &  &  &  &  &  &  &  & \\\\\n\t218872 & 88489128 & 1 & 48 & 20170330 & 20170407 & A059 & F102 & K729 & F103 &       & ⋯ &  &  &  &  &  &  &  &  &  & \\\\\n\t218925 & 30906172 & 1 & 70 & 20170204 & 20170206 & A059 & F102 & F103 &      &       & ⋯ &  &  &  &  &  &  &  &  &  & \\\\\n\t218965 & 16702431 & 1 & 48 & 20170525 & 20170526 & A059 & F102 &      &      &       & ⋯ &  &  &  &  &  &  &  &  &  & \\\\\n\t219393 &   813828 & 1 & 30 & 20170609 & 20170610 & A059 & F102 &      &      &       & ⋯ &  &  &  &  &  &  &  &  &  & \\\\\n\t221663 & 43135913 & 1 & 58 & 20171021 & 20171024 & A059 & F102 &      &      &       & ⋯ &  &  &  &  &  &  &  &  &  & \\\\\n\t221924 & 12099039 & 1 & 63 & 20171229 & 20171230 & A059 & F102 &      &      &       & ⋯ &  &  &  &  &  &  &  &  &  & \\\\\n\t⋮ & ⋮ & ⋮ & ⋮ & ⋮ & ⋮ & ⋮ & ⋮ & ⋮ & ⋮ & ⋮ & ⋱ & ⋮ & ⋮ & ⋮ & ⋮ & ⋮ & ⋮ & ⋮ & ⋮ & ⋮ & ⋮\\\\\n\t409770 & 10433171 & 2 & 52 & 20190127 & 20190129 & A059 & E834 & E876 & F100 & X4999 & ⋯ &      &  &  &  &  &  &  &  &  & \\\\\n\t417415 & 78868268 & 1 & 76 & 20180509 & 20180510 & A059 & C159 & E876 & F102 & I259  & ⋯ &      &  &  &  &  &  &  &  &  & \\\\\n\t422426 & 63017954 & 1 & 48 & 20190424 & 20190427 & A059 & A488 & E871 & F102 & R571  & ⋯ &      &  &  &  &  &  &  &  &  & \\\\\n\t431579 & 26926592 & 2 & 44 & 20201207 & 20201212 & A059 & E834 & E876 & F102 & F320  & ⋯ &      &  &  &  &  &  &  &  &  & \\\\\n\t440251 & 48518744 & 1 & 59 & 20170419 & 20170427 & A059 & Z721 & D65  & F103 & J690  & ⋯ &      &  &  &  &  &  &  &  &  & \\\\\n\t441839 & 88489128 & 1 & 48 & 20170330 & 20170407 & A059 & F102 & K729 & F103 &       & ⋯ &      &  &  &  &  &  &  &  &  & \\\\\n\t443377 & 51383400 & 2 & 44 & 20180713 & 20180716 & A059 & I10  & K701 & F103 &       & ⋯ &      &  &  &  &  &  &  &  &  & \\\\\n\t451991 & 77173722 & 1 & 63 & 20210107 & 20210125 & A059 & E834 & E876 & F103 & A415  & ⋯ &      &  &  &  &  &  &  &  &  & \\\\\n\t456886 & 35667073 & 1 & 61 & 20220616 & 20220620 & A059 & E833 & E871 & F103 &       & ⋯ &      &  &  &  &  &  &  &  &  & \\\\\n\t460099 & 47224773 & 1 & 51 & 20190905 & 20190907 & A059 & B24  & E876 & F104 &       & ⋯ &      &  &  &  &  &  &  &  &  & \\\\\n\t463676 & 28003143 & 1 & 66 & 20180526 & 20180528 & A059 & E119 & E785 & F105 & I10   & ⋯ &      &  &  &  &  &  &  &  &  & \\\\\n\t465219 & 77521992 & 1 & 39 & 20210507 & 20210508 & A059 & E119 & E876 & F105 & N179  & ⋯ &      &  &  &  &  &  &  &  &  & \\\\\n\t465375 & 58701911 & 1 & 47 & 20220614 & 20220616 & A059 & E785 & E876 & F105 & K746  & ⋯ &      &  &  &  &  &  &  &  &  & \\\\\n\t468654 & 75172039 & 1 & 45 & 20170815 & 20170818 & A059 & E119 & E834 & E876 & F103  & ⋯ &      &  &  &  &  &  &  &  &  & \\\\\n\t473222 & 34627596 & 2 & 29 & 20171124 & 20171126 & A059 & E871 & E872 & E876 & F102  & ⋯ &      &  &  &  &  &  &  &  &  & \\\\\n\t481373 & 97057900 & 2 & 49 & 20200923 & 20200927 & A059 & E833 & E834 & E872 & F102  & ⋯ &      &  &  &  &  &  &  &  &  & \\\\\n\t490401 & 80653557 & 2 & 66 & 20201018 & 20201019 & A059 & B909 & E834 & E876 & F102  & ⋯ &      &  &  &  &  &  &  &  &  & \\\\\n\t493409 &  8330252 & 1 & 47 & 20211221 & 20211222 & A059 & B909 & D649 & E876 & F102  & ⋯ & Z115 &  &  &  &  &  &  &  &  & \\\\\n\t497727 & 56200959 & 1 & 53 & 20170224 & 20170225 & A059 & D509 & E112 & E871 & E876  & ⋯ &      &  &  &  &  &  &  &  &  & \\\\\n\t500668 & 34627596 & 2 & 29 & 20171124 & 20171126 & A059 & E871 & E872 & E876 & F102  & ⋯ &      &  &  &  &  &  &  &  &  & \\\\\n\t502374 & 92302099 & 1 & 41 & 20190914 & 20190921 & A059 & E86  & E871 & E872 & E876  & ⋯ &      &  &  &  &  &  &  &  &  & \\\\\n\t507914 & 92812073 & 1 & 35 & 20210206 & 20210208 & A059 & E119 & E789 & E871 & E875  & ⋯ &      &  &  &  &  &  &  &  &  & \\\\\n\t511055 &  8330252 & 1 & 47 & 20211221 & 20211222 & A059 & B909 & D649 & E876 & F102  & ⋯ & Z115 &  &  &  &  &  &  &  &  & \\\\\n\t512154 &  9752135 & 1 & 48 & 20220401 & 20220405 & A059 & D649 & E119 & E789 & E871  & ⋯ & Z115 &  &  &  &  &  &  &  &  & \\\\\n\t514313 & 14940189 & 2 & 46 & 20170401 & 20170404 & A059 & B909 & D696 & E876 & K760  & ⋯ &      &  &  &  &  &  &  &  &  & \\\\\n\t517251 & 45529509 & 1 & 50 & 20200518 & 20200520 & A059 & E119 & E789 & I10  & K701  & ⋯ &      &  &  &  &  &  &  &  &  & \\\\\n\t518959 & 26926592 & 2 & 44 & 20201207 & 20201212 & A059 & E834 & E876 & F102 & F320  & ⋯ &      &  &  &  &  &  &  &  &  & \\\\\n\t526907 & 82516448 & 1 & 68 & 20170303 & 20170317 & A059 & A415 & B780 & K703 & N179  & ⋯ & R572 &  &  &  &  &  &  &  &  & \\\\\n\t529719 &  4750939 & 1 & 42 & 20170103 & 20170106 & A059 & D696 & E834 & E835 & E871  & ⋯ &      &  &  &  &  &  &  &  &  & \\\\\n\t531317 &  9752135 & 1 & 48 & 20220401 & 20220405 & A059 & D649 & E119 & E789 & E871  & ⋯ & Z115 &  &  &  &  &  &  &  &  & \\\\\n\\end{tabular}\n",
            "text/plain": [
              "       gen_id   sex age_y dateadm  datedsc  pdx  sdx1 sdx2 sdx3 sdx4  ⋯ sdx11\n",
              "191262 39172988 1   68    20161107 20161108 A059 F100 I10             ⋯      \n",
              "191799 99321145 1   52    20170308 20170310 A059 F100 R572            ⋯      \n",
              "193042 73782329 1   35    20171001 20171003 A059 F100                 ⋯      \n",
              "193127 46186306 2   49    20180318 20180320 A059 F100                 ⋯      \n",
              "194280  7316029 1   48    20180123 20180124 A059 F100 Z721            ⋯      \n",
              "194600  2388680 2   45    20190116 20190117 A059 F100                 ⋯      \n",
              "194669 49690597 1   80    20181115 20181117 A059 F100 I10  R730       ⋯      \n",
              "196068 15244476 2   46    20190121 20190124 A059 F100                 ⋯      \n",
              "196818 69010306 2   55    20200215 20200217 A059 F100 H813            ⋯      \n",
              "197502 76655273 1   34    20200318 20200319 A059 F100 K590 K759 Y1999 ⋯      \n",
              "197710 12582755 1   18    20200505 20200509 A059 F100                 ⋯      \n",
              "201460 85795204 2   49    20170508 20170509 A059 F101                 ⋯      \n",
              "202550 45336482 2   35    20180106 20180107 A059 F101                 ⋯      \n",
              "202584  1527417 1   28    20180401 20180404 A059 F101 F103 I10        ⋯      \n",
              "203184 46653168 1   42    20180920 20180922 A059 F101                 ⋯      \n",
              "203878 62505843 1   60    20190916 20190917 A059 F101                 ⋯      \n",
              "212350 68357145 2   43    20170418 20170420 A059 F102 K30             ⋯      \n",
              "213561 79860082 1   55    20170729 20170802 A059 F102                 ⋯      \n",
              "214510 69679938 1   33    20170805 20170809 A059 F102 I10  M349 D649  ⋯      \n",
              "215166 41705181 1   29    20170312 20170314 A059 F102                 ⋯      \n",
              "216553 30444064 1   37    20170522 20170523 A059 F102                 ⋯      \n",
              "217067 20457292 1   38    20170519 20170520 A059 F102                 ⋯      \n",
              "217744 80655107 1   44    20170308 20170311 A059 F102                 ⋯      \n",
              "218491 29384688 1   55    20170831 20170902 A059 F102                 ⋯      \n",
              "218872 88489128 1   48    20170330 20170407 A059 F102 K729 F103       ⋯      \n",
              "218925 30906172 1   70    20170204 20170206 A059 F102 F103            ⋯      \n",
              "218965 16702431 1   48    20170525 20170526 A059 F102                 ⋯      \n",
              "219393   813828 1   30    20170609 20170610 A059 F102                 ⋯      \n",
              "221663 43135913 1   58    20171021 20171024 A059 F102                 ⋯      \n",
              "221924 12099039 1   63    20171229 20171230 A059 F102                 ⋯      \n",
              "⋮      ⋮        ⋮   ⋮     ⋮        ⋮        ⋮    ⋮    ⋮    ⋮    ⋮     ⋱ ⋮    \n",
              "409770 10433171 2   52    20190127 20190129 A059 E834 E876 F100 X4999 ⋯      \n",
              "417415 78868268 1   76    20180509 20180510 A059 C159 E876 F102 I259  ⋯      \n",
              "422426 63017954 1   48    20190424 20190427 A059 A488 E871 F102 R571  ⋯      \n",
              "431579 26926592 2   44    20201207 20201212 A059 E834 E876 F102 F320  ⋯      \n",
              "440251 48518744 1   59    20170419 20170427 A059 Z721 D65  F103 J690  ⋯      \n",
              "441839 88489128 1   48    20170330 20170407 A059 F102 K729 F103       ⋯      \n",
              "443377 51383400 2   44    20180713 20180716 A059 I10  K701 F103       ⋯      \n",
              "451991 77173722 1   63    20210107 20210125 A059 E834 E876 F103 A415  ⋯      \n",
              "456886 35667073 1   61    20220616 20220620 A059 E833 E871 F103       ⋯      \n",
              "460099 47224773 1   51    20190905 20190907 A059 B24  E876 F104       ⋯      \n",
              "463676 28003143 1   66    20180526 20180528 A059 E119 E785 F105 I10   ⋯      \n",
              "465219 77521992 1   39    20210507 20210508 A059 E119 E876 F105 N179  ⋯      \n",
              "465375 58701911 1   47    20220614 20220616 A059 E785 E876 F105 K746  ⋯      \n",
              "468654 75172039 1   45    20170815 20170818 A059 E119 E834 E876 F103  ⋯      \n",
              "473222 34627596 2   29    20171124 20171126 A059 E871 E872 E876 F102  ⋯      \n",
              "481373 97057900 2   49    20200923 20200927 A059 E833 E834 E872 F102  ⋯      \n",
              "490401 80653557 2   66    20201018 20201019 A059 B909 E834 E876 F102  ⋯      \n",
              "493409  8330252 1   47    20211221 20211222 A059 B909 D649 E876 F102  ⋯ Z115 \n",
              "497727 56200959 1   53    20170224 20170225 A059 D509 E112 E871 E876  ⋯      \n",
              "500668 34627596 2   29    20171124 20171126 A059 E871 E872 E876 F102  ⋯      \n",
              "502374 92302099 1   41    20190914 20190921 A059 E86  E871 E872 E876  ⋯      \n",
              "507914 92812073 1   35    20210206 20210208 A059 E119 E789 E871 E875  ⋯      \n",
              "511055  8330252 1   47    20211221 20211222 A059 B909 D649 E876 F102  ⋯ Z115 \n",
              "512154  9752135 1   48    20220401 20220405 A059 D649 E119 E789 E871  ⋯ Z115 \n",
              "514313 14940189 2   46    20170401 20170404 A059 B909 D696 E876 K760  ⋯      \n",
              "517251 45529509 1   50    20200518 20200520 A059 E119 E789 I10  K701  ⋯      \n",
              "518959 26926592 2   44    20201207 20201212 A059 E834 E876 F102 F320  ⋯      \n",
              "526907 82516448 1   68    20170303 20170317 A059 A415 B780 K703 N179  ⋯ R572 \n",
              "529719  4750939 1   42    20170103 20170106 A059 D696 E834 E835 E871  ⋯      \n",
              "531317  9752135 1   48    20220401 20220405 A059 D649 E119 E789 E871  ⋯ Z115 \n",
              "       sdx12 sdx13 sdx14 sdx15 sdx16 sdx17 sdx18 sdx19 sdx20\n",
              "191262                                                      \n",
              "191799                                                      \n",
              "193042                                                      \n",
              "193127                                                      \n",
              "194280                                                      \n",
              "194600                                                      \n",
              "194669                                                      \n",
              "196068                                                      \n",
              "196818                                                      \n",
              "197502                                                      \n",
              "197710                                                      \n",
              "201460                                                      \n",
              "202550                                                      \n",
              "202584                                                      \n",
              "203184                                                      \n",
              "203878                                                      \n",
              "212350                                                      \n",
              "213561                                                      \n",
              "214510                                                      \n",
              "215166                                                      \n",
              "216553                                                      \n",
              "217067                                                      \n",
              "217744                                                      \n",
              "218491                                                      \n",
              "218872                                                      \n",
              "218925                                                      \n",
              "218965                                                      \n",
              "219393                                                      \n",
              "221663                                                      \n",
              "221924                                                      \n",
              "⋮      ⋮     ⋮     ⋮     ⋮     ⋮     ⋮     ⋮     ⋮     ⋮    \n",
              "409770                                                      \n",
              "417415                                                      \n",
              "422426                                                      \n",
              "431579                                                      \n",
              "440251                                                      \n",
              "441839                                                      \n",
              "443377                                                      \n",
              "451991                                                      \n",
              "456886                                                      \n",
              "460099                                                      \n",
              "463676                                                      \n",
              "465219                                                      \n",
              "465375                                                      \n",
              "468654                                                      \n",
              "473222                                                      \n",
              "481373                                                      \n",
              "490401                                                      \n",
              "493409                                                      \n",
              "497727                                                      \n",
              "500668                                                      \n",
              "502374                                                      \n",
              "507914                                                      \n",
              "511055                                                      \n",
              "512154                                                      \n",
              "514313                                                      \n",
              "517251                                                      \n",
              "518959                                                      \n",
              "526907                                                      \n",
              "529719                                                      \n",
              "531317                                                      "
            ]
          },
          "metadata": {}
        }
      ]
    },
    {
      "cell_type": "markdown",
      "source": [
        "The correct way"
      ],
      "metadata": {
        "id": "h2vlBDGnUQgp"
      }
    },
    {
      "cell_type": "code",
      "source": [
        "dat2<-dat[dat$gen_id %in% dat[dat$pdx==\"A059\",]$gen_id,]"
      ],
      "metadata": {
        "id": "HQlxYkGtUVMd"
      },
      "execution_count": 18,
      "outputs": []
    },
    {
      "cell_type": "code",
      "source": [
        "dat2"
      ],
      "metadata": {
        "colab": {
          "base_uri": "https://localhost:8080/",
          "height": 1000
        },
        "id": "tIF4cSFrTz9w",
        "outputId": "3ba12c7f-258a-4b79-f0c2-c4670c2b770d"
      },
      "execution_count": 19,
      "outputs": [
        {
          "output_type": "display_data",
          "data": {
            "text/html": [
              "<table class=\"dataframe\">\n",
              "<caption>A data.frame: 592 × 26</caption>\n",
              "<thead>\n",
              "\t<tr><th></th><th scope=col>gen_id</th><th scope=col>sex</th><th scope=col>age_y</th><th scope=col>dateadm</th><th scope=col>datedsc</th><th scope=col>pdx</th><th scope=col>sdx1</th><th scope=col>sdx2</th><th scope=col>sdx3</th><th scope=col>sdx4</th><th scope=col>⋯</th><th scope=col>sdx11</th><th scope=col>sdx12</th><th scope=col>sdx13</th><th scope=col>sdx14</th><th scope=col>sdx15</th><th scope=col>sdx16</th><th scope=col>sdx17</th><th scope=col>sdx18</th><th scope=col>sdx19</th><th scope=col>sdx20</th></tr>\n",
              "\t<tr><th></th><th scope=col>&lt;int&gt;</th><th scope=col>&lt;int&gt;</th><th scope=col>&lt;int&gt;</th><th scope=col>&lt;int&gt;</th><th scope=col>&lt;int&gt;</th><th scope=col>&lt;chr&gt;</th><th scope=col>&lt;chr&gt;</th><th scope=col>&lt;chr&gt;</th><th scope=col>&lt;chr&gt;</th><th scope=col>&lt;chr&gt;</th><th scope=col>⋯</th><th scope=col>&lt;chr&gt;</th><th scope=col>&lt;chr&gt;</th><th scope=col>&lt;chr&gt;</th><th scope=col>&lt;chr&gt;</th><th scope=col>&lt;chr&gt;</th><th scope=col>&lt;chr&gt;</th><th scope=col>&lt;chr&gt;</th><th scope=col>&lt;chr&gt;</th><th scope=col>&lt;chr&gt;</th><th scope=col>&lt;chr&gt;</th></tr>\n",
              "</thead>\n",
              "<tbody>\n",
              "\t<tr><th scope=row>2460</th><td>80249470</td><td>1</td><td>29</td><td>20170221</td><td>20170223</td><td>F100</td><td>E876 </td><td>F103 </td><td>    </td><td>     </td><td>⋯</td><td></td><td></td><td></td><td></td><td></td><td></td><td></td><td></td><td></td><td></td></tr>\n",
              "\t<tr><th scope=row>3773</th><td>80249470</td><td>1</td><td>29</td><td>20170308</td><td>20170309</td><td>F100</td><td>Z721 </td><td>     </td><td>    </td><td>     </td><td>⋯</td><td></td><td></td><td></td><td></td><td></td><td></td><td></td><td></td><td></td><td></td></tr>\n",
              "\t<tr><th scope=row>3995</th><td>92812073</td><td>1</td><td>32</td><td>20170829</td><td>20170830</td><td>F100</td><td>E162 </td><td>E872 </td><td>E875</td><td>K292 </td><td>⋯</td><td></td><td></td><td></td><td></td><td></td><td></td><td></td><td></td><td></td><td></td></tr>\n",
              "\t<tr><th scope=row>5673</th><td>65598392</td><td>1</td><td>53</td><td>20180304</td><td>20180306</td><td>F100</td><td>K703 </td><td>     </td><td>    </td><td>     </td><td>⋯</td><td></td><td></td><td></td><td></td><td></td><td></td><td></td><td></td><td></td><td></td></tr>\n",
              "\t<tr><th scope=row>6001</th><td>19322599</td><td>1</td><td>27</td><td>20180401</td><td>20180403</td><td>F100</td><td>E834 </td><td>Z721 </td><td>    </td><td>     </td><td>⋯</td><td></td><td></td><td></td><td></td><td></td><td></td><td></td><td></td><td></td><td></td></tr>\n",
              "\t<tr><th scope=row>7567</th><td>88489128</td><td>1</td><td>49</td><td>20180306</td><td>20180307</td><td>F100</td><td>S801 </td><td>W5499</td><td>    </td><td>     </td><td>⋯</td><td></td><td></td><td></td><td></td><td></td><td></td><td></td><td></td><td></td><td></td></tr>\n",
              "\t<tr><th scope=row>7947</th><td>88380849</td><td>1</td><td>40</td><td>20180102</td><td>20180104</td><td>F100</td><td>F102 </td><td>J320 </td><td>    </td><td>     </td><td>⋯</td><td></td><td></td><td></td><td></td><td></td><td></td><td></td><td></td><td></td><td></td></tr>\n",
              "\t<tr><th scope=row>8852</th><td>80249470</td><td>1</td><td>30</td><td>20171117</td><td>20171118</td><td>F100</td><td>     </td><td>     </td><td>    </td><td>     </td><td>⋯</td><td></td><td></td><td></td><td></td><td></td><td></td><td></td><td></td><td></td><td></td></tr>\n",
              "\t<tr><th scope=row>8865</th><td>35090750</td><td>1</td><td>38</td><td>20171117</td><td>20171122</td><td>F100</td><td>E834 </td><td>F102 </td><td>F103</td><td>     </td><td>⋯</td><td></td><td></td><td></td><td></td><td></td><td></td><td></td><td></td><td></td><td></td></tr>\n",
              "\t<tr><th scope=row>13948</th><td>42027447</td><td>1</td><td>67</td><td>20190313</td><td>20190315</td><td>F100</td><td>I10  </td><td>     </td><td>    </td><td>     </td><td>⋯</td><td></td><td></td><td></td><td></td><td></td><td></td><td></td><td></td><td></td><td></td></tr>\n",
              "\t<tr><th scope=row>14423</th><td>90287327</td><td>1</td><td>43</td><td>20190226</td><td>20190301</td><td>F100</td><td>E833 </td><td>E834 </td><td>E876</td><td>K701 </td><td>⋯</td><td></td><td></td><td></td><td></td><td></td><td></td><td></td><td></td><td></td><td></td></tr>\n",
              "\t<tr><th scope=row>15290</th><td>62806961</td><td>1</td><td>31</td><td>20200124</td><td>20200125</td><td>F100</td><td>E834 </td><td>K701 </td><td>    </td><td>     </td><td>⋯</td><td></td><td></td><td></td><td></td><td></td><td></td><td></td><td></td><td></td><td></td></tr>\n",
              "\t<tr><th scope=row>18682</th><td>11535454</td><td>1</td><td>28</td><td>20200125</td><td>20200126</td><td>F100</td><td>F1020</td><td>G409 </td><td>I10 </td><td>     </td><td>⋯</td><td></td><td></td><td></td><td></td><td></td><td></td><td></td><td></td><td></td><td></td></tr>\n",
              "\t<tr><th scope=row>18913</th><td>90287327</td><td>1</td><td>44</td><td>20200921</td><td>20200923</td><td>F100</td><td>E834 </td><td>E876 </td><td>F102</td><td>I694 </td><td>⋯</td><td></td><td></td><td></td><td></td><td></td><td></td><td></td><td></td><td></td><td></td></tr>\n",
              "\t<tr><th scope=row>19086</th><td>90287327</td><td>1</td><td>44</td><td>20200507</td><td>20200512</td><td>F100</td><td>E834 </td><td>E876 </td><td>    </td><td>     </td><td>⋯</td><td></td><td></td><td></td><td></td><td></td><td></td><td></td><td></td><td></td><td></td></tr>\n",
              "\t<tr><th scope=row>19366</th><td>11535454</td><td>1</td><td>28</td><td>20200213</td><td>20200214</td><td>F100</td><td>F102 </td><td>G409 </td><td>I10 </td><td>     </td><td>⋯</td><td></td><td></td><td></td><td></td><td></td><td></td><td></td><td></td><td></td><td></td></tr>\n",
              "\t<tr><th scope=row>20183</th><td>90287327</td><td>1</td><td>44</td><td>20191206</td><td>20191209</td><td>F100</td><td>E833 </td><td>E876 </td><td>    </td><td>     </td><td>⋯</td><td></td><td></td><td></td><td></td><td></td><td></td><td></td><td></td><td></td><td></td></tr>\n",
              "\t<tr><th scope=row>20493</th><td>90287327</td><td>1</td><td>45</td><td>20210628</td><td>20210702</td><td>F100</td><td>E833 </td><td>E871 </td><td>E876</td><td>I694 </td><td>⋯</td><td></td><td></td><td></td><td></td><td></td><td></td><td></td><td></td><td></td><td></td></tr>\n",
              "\t<tr><th scope=row>20931</th><td>89971908</td><td>1</td><td>34</td><td>20201202</td><td>20201204</td><td>F100</td><td>E876 </td><td>F102 </td><td>    </td><td>     </td><td>⋯</td><td></td><td></td><td></td><td></td><td></td><td></td><td></td><td></td><td></td><td></td></tr>\n",
              "\t<tr><th scope=row>21416</th><td>90287327</td><td>1</td><td>45</td><td>20210411</td><td>20210414</td><td>F100</td><td>E833 </td><td>E834 </td><td>I10 </td><td>     </td><td>⋯</td><td></td><td></td><td></td><td></td><td></td><td></td><td></td><td></td><td></td><td></td></tr>\n",
              "\t<tr><th scope=row>21956</th><td>79073356</td><td>1</td><td>35</td><td>20210506</td><td>20210506</td><td>F100</td><td>F209 </td><td>     </td><td>    </td><td>     </td><td>⋯</td><td></td><td></td><td></td><td></td><td></td><td></td><td></td><td></td><td></td><td></td></tr>\n",
              "\t<tr><th scope=row>22972</th><td>90287327</td><td>1</td><td>45</td><td>20210716</td><td>20210718</td><td>F100</td><td>D696 </td><td>E833 </td><td>E834</td><td>E876 </td><td>⋯</td><td></td><td></td><td></td><td></td><td></td><td></td><td></td><td></td><td></td><td></td></tr>\n",
              "\t<tr><th scope=row>23164</th><td>79073356</td><td>1</td><td>34</td><td>20210122</td><td>20210124</td><td>F100</td><td>E876 </td><td>R101 </td><td>    </td><td>     </td><td>⋯</td><td></td><td></td><td></td><td></td><td></td><td></td><td></td><td></td><td></td><td></td></tr>\n",
              "\t<tr><th scope=row>23860</th><td>91940522</td><td>1</td><td>52</td><td>20201217</td><td>20201218</td><td>F100</td><td>E119 </td><td>E876 </td><td>I10 </td><td>     </td><td>⋯</td><td></td><td></td><td></td><td></td><td></td><td></td><td></td><td></td><td></td><td></td></tr>\n",
              "\t<tr><th scope=row>24025</th><td>90287327</td><td>1</td><td>45</td><td>20210329</td><td>20210331</td><td>F100</td><td>E876 </td><td>     </td><td>    </td><td>     </td><td>⋯</td><td></td><td></td><td></td><td></td><td></td><td></td><td></td><td></td><td></td><td></td></tr>\n",
              "\t<tr><th scope=row>24095</th><td>88607783</td><td>1</td><td>46</td><td>20210104</td><td>20210105</td><td>F100</td><td>F101 </td><td>R101 </td><td>    </td><td>     </td><td>⋯</td><td></td><td></td><td></td><td></td><td></td><td></td><td></td><td></td><td></td><td></td></tr>\n",
              "\t<tr><th scope=row>26089</th><td>90287327</td><td>1</td><td>45</td><td>20211123</td><td>20211126</td><td>F100</td><td>E834 </td><td>F1056</td><td>I10 </td><td>K701 </td><td>⋯</td><td></td><td></td><td></td><td></td><td></td><td></td><td></td><td></td><td></td><td></td></tr>\n",
              "\t<tr><th scope=row>28319</th><td>63017954</td><td>1</td><td>48</td><td>20180609</td><td>20180611</td><td>F101</td><td>K859 </td><td>     </td><td>    </td><td>     </td><td>⋯</td><td></td><td></td><td></td><td></td><td></td><td></td><td></td><td></td><td></td><td></td></tr>\n",
              "\t<tr><th scope=row>28606</th><td>63017954</td><td>1</td><td>48</td><td>20190112</td><td>20190115</td><td>F101</td><td>D728 </td><td>E162 </td><td>E876</td><td>Y1509</td><td>⋯</td><td></td><td></td><td></td><td></td><td></td><td></td><td></td><td></td><td></td><td></td></tr>\n",
              "\t<tr><th scope=row>30691</th><td>79860082</td><td>1</td><td>55</td><td>20170313</td><td>20170315</td><td>F102</td><td>E876 </td><td>F103 </td><td>    </td><td>     </td><td>⋯</td><td></td><td></td><td></td><td></td><td></td><td></td><td></td><td></td><td></td><td></td></tr>\n",
              "\t<tr><th scope=row>⋮</th><td>⋮</td><td>⋮</td><td>⋮</td><td>⋮</td><td>⋮</td><td>⋮</td><td>⋮</td><td>⋮</td><td>⋮</td><td>⋮</td><td>⋱</td><td>⋮</td><td>⋮</td><td>⋮</td><td>⋮</td><td>⋮</td><td>⋮</td><td>⋮</td><td>⋮</td><td>⋮</td><td>⋮</td></tr>\n",
              "\t<tr><th scope=row>502289</th><td>90287327</td><td>1</td><td>43</td><td>20190804</td><td>20190807</td><td>F102 </td><td>E833</td><td>E834</td><td>E871</td><td>E876</td><td>⋯</td><td>     </td><td>    </td><td>     </td><td>    </td><td>    </td><td>   </td><td>    </td><td>    </td><td>    </td><td></td></tr>\n",
              "\t<tr><th scope=row>502374</th><td>92302099</td><td>1</td><td>41</td><td>20190914</td><td>20190921</td><td>A059 </td><td>E86 </td><td>E871</td><td>E872</td><td>E876</td><td>⋯</td><td>     </td><td>    </td><td>     </td><td>    </td><td>    </td><td>   </td><td>    </td><td>    </td><td>    </td><td></td></tr>\n",
              "\t<tr><th scope=row>502720</th><td>92812073</td><td>1</td><td>33</td><td>20181024</td><td>20181027</td><td>K859 </td><td>E834</td><td>E876</td><td>F102</td><td>I10 </td><td>⋯</td><td>     </td><td>    </td><td>     </td><td>    </td><td>    </td><td>   </td><td>    </td><td>    </td><td>    </td><td></td></tr>\n",
              "\t<tr><th scope=row>503001</th><td>88380849</td><td>1</td><td>42</td><td>20190317</td><td>20190319</td><td>K746 </td><td>D638</td><td>E834</td><td>E872</td><td>E876</td><td>⋯</td><td>     </td><td>    </td><td>     </td><td>    </td><td>    </td><td>   </td><td>    </td><td>    </td><td>    </td><td></td></tr>\n",
              "\t<tr><th scope=row>503587</th><td>81525202</td><td>1</td><td>53</td><td>20190304</td><td>20190311</td><td>E872 </td><td>E833</td><td>E834</td><td>E870</td><td>E876</td><td>⋯</td><td>     </td><td>    </td><td>     </td><td>    </td><td>    </td><td>   </td><td>    </td><td>    </td><td>    </td><td></td></tr>\n",
              "\t<tr><th scope=row>507914</th><td>92812073</td><td>1</td><td>35</td><td>20210206</td><td>20210208</td><td>A059 </td><td>E119</td><td>E789</td><td>E871</td><td>E875</td><td>⋯</td><td>     </td><td>    </td><td>     </td><td>    </td><td>    </td><td>   </td><td>    </td><td>    </td><td>    </td><td></td></tr>\n",
              "\t<tr><th scope=row>511055</th><td> 8330252</td><td>1</td><td>47</td><td>20211221</td><td>20211222</td><td>A059 </td><td>B909</td><td>D649</td><td>E876</td><td>F102</td><td>⋯</td><td>Z115 </td><td>    </td><td>     </td><td>    </td><td>    </td><td>   </td><td>    </td><td>    </td><td>    </td><td></td></tr>\n",
              "\t<tr><th scope=row>511218</th><td>74077132</td><td>1</td><td>44</td><td>20220424</td><td>20220429</td><td>F103 </td><td>E162</td><td>E833</td><td>E834</td><td>E876</td><td>⋯</td><td>     </td><td>    </td><td>     </td><td>    </td><td>    </td><td>   </td><td>    </td><td>    </td><td>    </td><td></td></tr>\n",
              "\t<tr><th scope=row>511581</th><td>92812073</td><td>1</td><td>36</td><td>20211006</td><td>20211009</td><td>K297 </td><td>E119</td><td>E789</td><td>I10 </td><td>D62 </td><td>⋯</td><td>     </td><td>    </td><td>     </td><td>    </td><td>    </td><td>   </td><td>    </td><td>    </td><td>    </td><td></td></tr>\n",
              "\t<tr><th scope=row>512010</th><td>34627596</td><td>2</td><td>34</td><td>20220716</td><td>20220721</td><td>F104 </td><td>D62 </td><td>E834</td><td>E871</td><td>E876</td><td>⋯</td><td>     </td><td>    </td><td>     </td><td>    </td><td>    </td><td>   </td><td>    </td><td>    </td><td>    </td><td></td></tr>\n",
              "\t<tr><th scope=row>512094</th><td>45529509</td><td>1</td><td>51</td><td>20211002</td><td>20211016</td><td>R402 </td><td>A418</td><td>D649</td><td>E119</td><td>F102</td><td>⋯</td><td>Z115 </td><td>E834</td><td>K802 </td><td>    </td><td>    </td><td>   </td><td>    </td><td>    </td><td>    </td><td></td></tr>\n",
              "\t<tr><th scope=row>512154</th><td> 9752135</td><td>1</td><td>48</td><td>20220401</td><td>20220405</td><td>A059 </td><td>D649</td><td>E119</td><td>E789</td><td>E871</td><td>⋯</td><td>Z115 </td><td>    </td><td>     </td><td>    </td><td>    </td><td>   </td><td>    </td><td>    </td><td>    </td><td></td></tr>\n",
              "\t<tr><th scope=row>514313</th><td>14940189</td><td>2</td><td>46</td><td>20170401</td><td>20170404</td><td>A059 </td><td>B909</td><td>D696</td><td>E876</td><td>K760</td><td>⋯</td><td>     </td><td>    </td><td>     </td><td>    </td><td>    </td><td>   </td><td>    </td><td>    </td><td>    </td><td></td></tr>\n",
              "\t<tr><th scope=row>514652</th><td>90287327</td><td>1</td><td>42</td><td>20180514</td><td>20180521</td><td>F103 </td><td>D696</td><td>E789</td><td>E834</td><td>E876</td><td>⋯</td><td>     </td><td>    </td><td>     </td><td>    </td><td>    </td><td>   </td><td>    </td><td>    </td><td>    </td><td></td></tr>\n",
              "\t<tr><th scope=row>514707</th><td>90287327</td><td>1</td><td>42</td><td>20180615</td><td>20180617</td><td>F103 </td><td>D696</td><td>E789</td><td>E834</td><td>E876</td><td>⋯</td><td>     </td><td>    </td><td>     </td><td>    </td><td>    </td><td>   </td><td>    </td><td>    </td><td>    </td><td></td></tr>\n",
              "\t<tr><th scope=row>515255</th><td>50564239</td><td>1</td><td>26</td><td>20180504</td><td>20180521</td><td>S2200</td><td>J960</td><td>K701</td><td>E834</td><td>E876</td><td>⋯</td><td>     </td><td>    </td><td>     </td><td>    </td><td>    </td><td>   </td><td>    </td><td>    </td><td>    </td><td></td></tr>\n",
              "\t<tr><th scope=row>516463</th><td>81525202</td><td>1</td><td>53</td><td>20190304</td><td>20190311</td><td>E872 </td><td>E833</td><td>E834</td><td>E870</td><td>E876</td><td>⋯</td><td>     </td><td>    </td><td>     </td><td>    </td><td>    </td><td>   </td><td>    </td><td>    </td><td>    </td><td></td></tr>\n",
              "\t<tr><th scope=row>517251</th><td>45529509</td><td>1</td><td>50</td><td>20200518</td><td>20200520</td><td>A059 </td><td>E119</td><td>E789</td><td>I10 </td><td>K701</td><td>⋯</td><td>     </td><td>    </td><td>     </td><td>    </td><td>    </td><td>   </td><td>    </td><td>    </td><td>    </td><td></td></tr>\n",
              "\t<tr><th scope=row>518959</th><td>26926592</td><td>2</td><td>44</td><td>20201207</td><td>20201212</td><td>A059 </td><td>E834</td><td>E876</td><td>F102</td><td>F320</td><td>⋯</td><td>     </td><td>    </td><td>     </td><td>    </td><td>    </td><td>   </td><td>    </td><td>    </td><td>    </td><td></td></tr>\n",
              "\t<tr><th scope=row>523109</th><td>16832003</td><td>1</td><td>48</td><td>20171027</td><td>20171121</td><td>M4712</td><td>A419</td><td>D62 </td><td>E834</td><td>F102</td><td>⋯</td><td>     </td><td>    </td><td>     </td><td>    </td><td>    </td><td>   </td><td>    </td><td>    </td><td>    </td><td></td></tr>\n",
              "\t<tr><th scope=row>523857</th><td>71332300</td><td>1</td><td>56</td><td>20200713</td><td>20200815</td><td>G049 </td><td>A419</td><td>D638</td><td>E119</td><td>E162</td><td>⋯</td><td>J9609</td><td>K701</td><td>N390 </td><td>    </td><td>    </td><td>   </td><td>    </td><td>    </td><td>    </td><td></td></tr>\n",
              "\t<tr><th scope=row>524676</th><td>28977726</td><td>1</td><td>82</td><td>20210121</td><td>20210126</td><td>K859 </td><td>D649</td><td>E789</td><td>E833</td><td>E834</td><td>⋯</td><td>N179 </td><td>J960</td><td>M6289</td><td>    </td><td>    </td><td>   </td><td>    </td><td>    </td><td>    </td><td></td></tr>\n",
              "\t<tr><th scope=row>524817</th><td>78423167</td><td>1</td><td>49</td><td>20210511</td><td>20210514</td><td>I500 </td><td>E871</td><td>E876</td><td>I48 </td><td>J690</td><td>⋯</td><td>     </td><td>    </td><td>     </td><td>    </td><td>    </td><td>   </td><td>    </td><td>    </td><td>    </td><td></td></tr>\n",
              "\t<tr><th scope=row>525207</th><td>25258395</td><td>1</td><td>38</td><td>20210306</td><td>20210312</td><td>K701 </td><td>E789</td><td>E834</td><td>E876</td><td>F102</td><td>⋯</td><td>     </td><td>    </td><td>     </td><td>    </td><td>    </td><td>   </td><td>    </td><td>    </td><td>    </td><td></td></tr>\n",
              "\t<tr><th scope=row>526409</th><td>92812073</td><td>1</td><td>37</td><td>20220419</td><td>20220424</td><td>K852 </td><td>A419</td><td>E119</td><td>E789</td><td>E834</td><td>⋯</td><td>D62  </td><td>E876</td><td>     </td><td>    </td><td>    </td><td>   </td><td>    </td><td>    </td><td>    </td><td></td></tr>\n",
              "\t<tr><th scope=row>526907</th><td>82516448</td><td>1</td><td>68</td><td>20170303</td><td>20170317</td><td>A059 </td><td>A415</td><td>B780</td><td>K703</td><td>N179</td><td>⋯</td><td>R572 </td><td>    </td><td>     </td><td>    </td><td>    </td><td>   </td><td>    </td><td>    </td><td>    </td><td></td></tr>\n",
              "\t<tr><th scope=row>527837</th><td>71332300</td><td>1</td><td>56</td><td>20200713</td><td>20200815</td><td>G049 </td><td>A419</td><td>D638</td><td>E119</td><td>E162</td><td>⋯</td><td>J9609</td><td>K701</td><td>N390 </td><td>    </td><td>    </td><td>   </td><td>    </td><td>    </td><td>    </td><td></td></tr>\n",
              "\t<tr><th scope=row>529719</th><td> 4750939</td><td>1</td><td>42</td><td>20170103</td><td>20170106</td><td>A059 </td><td>D696</td><td>E834</td><td>E835</td><td>E871</td><td>⋯</td><td>     </td><td>    </td><td>     </td><td>    </td><td>    </td><td>   </td><td>    </td><td>    </td><td>    </td><td></td></tr>\n",
              "\t<tr><th scope=row>531317</th><td> 9752135</td><td>1</td><td>48</td><td>20220401</td><td>20220405</td><td>A059 </td><td>D649</td><td>E119</td><td>E789</td><td>E871</td><td>⋯</td><td>Z115 </td><td>    </td><td>     </td><td>    </td><td>    </td><td>   </td><td>    </td><td>    </td><td>    </td><td></td></tr>\n",
              "\t<tr><th scope=row>534161</th><td>75172039</td><td>1</td><td>47</td><td>20200131</td><td>20200228</td><td>J150 </td><td>B968</td><td>D649</td><td>E141</td><td>H669</td><td>⋯</td><td>E834 </td><td>E871</td><td>E876 </td><td>E880</td><td>F103</td><td>J91</td><td>J939</td><td>R170</td><td>Y423</td><td></td></tr>\n",
              "</tbody>\n",
              "</table>\n"
            ],
            "text/markdown": "\nA data.frame: 592 × 26\n\n| <!--/--> | gen_id &lt;int&gt; | sex &lt;int&gt; | age_y &lt;int&gt; | dateadm &lt;int&gt; | datedsc &lt;int&gt; | pdx &lt;chr&gt; | sdx1 &lt;chr&gt; | sdx2 &lt;chr&gt; | sdx3 &lt;chr&gt; | sdx4 &lt;chr&gt; | ⋯ ⋯ | sdx11 &lt;chr&gt; | sdx12 &lt;chr&gt; | sdx13 &lt;chr&gt; | sdx14 &lt;chr&gt; | sdx15 &lt;chr&gt; | sdx16 &lt;chr&gt; | sdx17 &lt;chr&gt; | sdx18 &lt;chr&gt; | sdx19 &lt;chr&gt; | sdx20 &lt;chr&gt; |\n|---|---|---|---|---|---|---|---|---|---|---|---|---|---|---|---|---|---|---|---|---|---|\n| 2460 | 80249470 | 1 | 29 | 20170221 | 20170223 | F100 | E876  | F103  | <!----> | <!----> | ⋯ | <!----> | <!----> | <!----> | <!----> | <!----> | <!----> | <!----> | <!----> | <!----> | <!----> |\n| 3773 | 80249470 | 1 | 29 | 20170308 | 20170309 | F100 | Z721  | <!----> | <!----> | <!----> | ⋯ | <!----> | <!----> | <!----> | <!----> | <!----> | <!----> | <!----> | <!----> | <!----> | <!----> |\n| 3995 | 92812073 | 1 | 32 | 20170829 | 20170830 | F100 | E162  | E872  | E875 | K292  | ⋯ | <!----> | <!----> | <!----> | <!----> | <!----> | <!----> | <!----> | <!----> | <!----> | <!----> |\n| 5673 | 65598392 | 1 | 53 | 20180304 | 20180306 | F100 | K703  | <!----> | <!----> | <!----> | ⋯ | <!----> | <!----> | <!----> | <!----> | <!----> | <!----> | <!----> | <!----> | <!----> | <!----> |\n| 6001 | 19322599 | 1 | 27 | 20180401 | 20180403 | F100 | E834  | Z721  | <!----> | <!----> | ⋯ | <!----> | <!----> | <!----> | <!----> | <!----> | <!----> | <!----> | <!----> | <!----> | <!----> |\n| 7567 | 88489128 | 1 | 49 | 20180306 | 20180307 | F100 | S801  | W5499 | <!----> | <!----> | ⋯ | <!----> | <!----> | <!----> | <!----> | <!----> | <!----> | <!----> | <!----> | <!----> | <!----> |\n| 7947 | 88380849 | 1 | 40 | 20180102 | 20180104 | F100 | F102  | J320  | <!----> | <!----> | ⋯ | <!----> | <!----> | <!----> | <!----> | <!----> | <!----> | <!----> | <!----> | <!----> | <!----> |\n| 8852 | 80249470 | 1 | 30 | 20171117 | 20171118 | F100 | <!----> | <!----> | <!----> | <!----> | ⋯ | <!----> | <!----> | <!----> | <!----> | <!----> | <!----> | <!----> | <!----> | <!----> | <!----> |\n| 8865 | 35090750 | 1 | 38 | 20171117 | 20171122 | F100 | E834  | F102  | F103 | <!----> | ⋯ | <!----> | <!----> | <!----> | <!----> | <!----> | <!----> | <!----> | <!----> | <!----> | <!----> |\n| 13948 | 42027447 | 1 | 67 | 20190313 | 20190315 | F100 | I10   | <!----> | <!----> | <!----> | ⋯ | <!----> | <!----> | <!----> | <!----> | <!----> | <!----> | <!----> | <!----> | <!----> | <!----> |\n| 14423 | 90287327 | 1 | 43 | 20190226 | 20190301 | F100 | E833  | E834  | E876 | K701  | ⋯ | <!----> | <!----> | <!----> | <!----> | <!----> | <!----> | <!----> | <!----> | <!----> | <!----> |\n| 15290 | 62806961 | 1 | 31 | 20200124 | 20200125 | F100 | E834  | K701  | <!----> | <!----> | ⋯ | <!----> | <!----> | <!----> | <!----> | <!----> | <!----> | <!----> | <!----> | <!----> | <!----> |\n| 18682 | 11535454 | 1 | 28 | 20200125 | 20200126 | F100 | F1020 | G409  | I10  | <!----> | ⋯ | <!----> | <!----> | <!----> | <!----> | <!----> | <!----> | <!----> | <!----> | <!----> | <!----> |\n| 18913 | 90287327 | 1 | 44 | 20200921 | 20200923 | F100 | E834  | E876  | F102 | I694  | ⋯ | <!----> | <!----> | <!----> | <!----> | <!----> | <!----> | <!----> | <!----> | <!----> | <!----> |\n| 19086 | 90287327 | 1 | 44 | 20200507 | 20200512 | F100 | E834  | E876  | <!----> | <!----> | ⋯ | <!----> | <!----> | <!----> | <!----> | <!----> | <!----> | <!----> | <!----> | <!----> | <!----> |\n| 19366 | 11535454 | 1 | 28 | 20200213 | 20200214 | F100 | F102  | G409  | I10  | <!----> | ⋯ | <!----> | <!----> | <!----> | <!----> | <!----> | <!----> | <!----> | <!----> | <!----> | <!----> |\n| 20183 | 90287327 | 1 | 44 | 20191206 | 20191209 | F100 | E833  | E876  | <!----> | <!----> | ⋯ | <!----> | <!----> | <!----> | <!----> | <!----> | <!----> | <!----> | <!----> | <!----> | <!----> |\n| 20493 | 90287327 | 1 | 45 | 20210628 | 20210702 | F100 | E833  | E871  | E876 | I694  | ⋯ | <!----> | <!----> | <!----> | <!----> | <!----> | <!----> | <!----> | <!----> | <!----> | <!----> |\n| 20931 | 89971908 | 1 | 34 | 20201202 | 20201204 | F100 | E876  | F102  | <!----> | <!----> | ⋯ | <!----> | <!----> | <!----> | <!----> | <!----> | <!----> | <!----> | <!----> | <!----> | <!----> |\n| 21416 | 90287327 | 1 | 45 | 20210411 | 20210414 | F100 | E833  | E834  | I10  | <!----> | ⋯ | <!----> | <!----> | <!----> | <!----> | <!----> | <!----> | <!----> | <!----> | <!----> | <!----> |\n| 21956 | 79073356 | 1 | 35 | 20210506 | 20210506 | F100 | F209  | <!----> | <!----> | <!----> | ⋯ | <!----> | <!----> | <!----> | <!----> | <!----> | <!----> | <!----> | <!----> | <!----> | <!----> |\n| 22972 | 90287327 | 1 | 45 | 20210716 | 20210718 | F100 | D696  | E833  | E834 | E876  | ⋯ | <!----> | <!----> | <!----> | <!----> | <!----> | <!----> | <!----> | <!----> | <!----> | <!----> |\n| 23164 | 79073356 | 1 | 34 | 20210122 | 20210124 | F100 | E876  | R101  | <!----> | <!----> | ⋯ | <!----> | <!----> | <!----> | <!----> | <!----> | <!----> | <!----> | <!----> | <!----> | <!----> |\n| 23860 | 91940522 | 1 | 52 | 20201217 | 20201218 | F100 | E119  | E876  | I10  | <!----> | ⋯ | <!----> | <!----> | <!----> | <!----> | <!----> | <!----> | <!----> | <!----> | <!----> | <!----> |\n| 24025 | 90287327 | 1 | 45 | 20210329 | 20210331 | F100 | E876  | <!----> | <!----> | <!----> | ⋯ | <!----> | <!----> | <!----> | <!----> | <!----> | <!----> | <!----> | <!----> | <!----> | <!----> |\n| 24095 | 88607783 | 1 | 46 | 20210104 | 20210105 | F100 | F101  | R101  | <!----> | <!----> | ⋯ | <!----> | <!----> | <!----> | <!----> | <!----> | <!----> | <!----> | <!----> | <!----> | <!----> |\n| 26089 | 90287327 | 1 | 45 | 20211123 | 20211126 | F100 | E834  | F1056 | I10  | K701  | ⋯ | <!----> | <!----> | <!----> | <!----> | <!----> | <!----> | <!----> | <!----> | <!----> | <!----> |\n| 28319 | 63017954 | 1 | 48 | 20180609 | 20180611 | F101 | K859  | <!----> | <!----> | <!----> | ⋯ | <!----> | <!----> | <!----> | <!----> | <!----> | <!----> | <!----> | <!----> | <!----> | <!----> |\n| 28606 | 63017954 | 1 | 48 | 20190112 | 20190115 | F101 | D728  | E162  | E876 | Y1509 | ⋯ | <!----> | <!----> | <!----> | <!----> | <!----> | <!----> | <!----> | <!----> | <!----> | <!----> |\n| 30691 | 79860082 | 1 | 55 | 20170313 | 20170315 | F102 | E876  | F103  | <!----> | <!----> | ⋯ | <!----> | <!----> | <!----> | <!----> | <!----> | <!----> | <!----> | <!----> | <!----> | <!----> |\n| ⋮ | ⋮ | ⋮ | ⋮ | ⋮ | ⋮ | ⋮ | ⋮ | ⋮ | ⋮ | ⋮ | ⋱ | ⋮ | ⋮ | ⋮ | ⋮ | ⋮ | ⋮ | ⋮ | ⋮ | ⋮ | ⋮ |\n| 502289 | 90287327 | 1 | 43 | 20190804 | 20190807 | F102  | E833 | E834 | E871 | E876 | ⋯ | <!----> | <!----> | <!----> | <!----> | <!----> | <!----> | <!----> | <!----> | <!----> | <!----> |\n| 502374 | 92302099 | 1 | 41 | 20190914 | 20190921 | A059  | E86  | E871 | E872 | E876 | ⋯ | <!----> | <!----> | <!----> | <!----> | <!----> | <!----> | <!----> | <!----> | <!----> | <!----> |\n| 502720 | 92812073 | 1 | 33 | 20181024 | 20181027 | K859  | E834 | E876 | F102 | I10  | ⋯ | <!----> | <!----> | <!----> | <!----> | <!----> | <!----> | <!----> | <!----> | <!----> | <!----> |\n| 503001 | 88380849 | 1 | 42 | 20190317 | 20190319 | K746  | D638 | E834 | E872 | E876 | ⋯ | <!----> | <!----> | <!----> | <!----> | <!----> | <!----> | <!----> | <!----> | <!----> | <!----> |\n| 503587 | 81525202 | 1 | 53 | 20190304 | 20190311 | E872  | E833 | E834 | E870 | E876 | ⋯ | <!----> | <!----> | <!----> | <!----> | <!----> | <!----> | <!----> | <!----> | <!----> | <!----> |\n| 507914 | 92812073 | 1 | 35 | 20210206 | 20210208 | A059  | E119 | E789 | E871 | E875 | ⋯ | <!----> | <!----> | <!----> | <!----> | <!----> | <!----> | <!----> | <!----> | <!----> | <!----> |\n| 511055 |  8330252 | 1 | 47 | 20211221 | 20211222 | A059  | B909 | D649 | E876 | F102 | ⋯ | Z115  | <!----> | <!----> | <!----> | <!----> | <!----> | <!----> | <!----> | <!----> | <!----> |\n| 511218 | 74077132 | 1 | 44 | 20220424 | 20220429 | F103  | E162 | E833 | E834 | E876 | ⋯ | <!----> | <!----> | <!----> | <!----> | <!----> | <!----> | <!----> | <!----> | <!----> | <!----> |\n| 511581 | 92812073 | 1 | 36 | 20211006 | 20211009 | K297  | E119 | E789 | I10  | D62  | ⋯ | <!----> | <!----> | <!----> | <!----> | <!----> | <!----> | <!----> | <!----> | <!----> | <!----> |\n| 512010 | 34627596 | 2 | 34 | 20220716 | 20220721 | F104  | D62  | E834 | E871 | E876 | ⋯ | <!----> | <!----> | <!----> | <!----> | <!----> | <!----> | <!----> | <!----> | <!----> | <!----> |\n| 512094 | 45529509 | 1 | 51 | 20211002 | 20211016 | R402  | A418 | D649 | E119 | F102 | ⋯ | Z115  | E834 | K802  | <!----> | <!----> | <!----> | <!----> | <!----> | <!----> | <!----> |\n| 512154 |  9752135 | 1 | 48 | 20220401 | 20220405 | A059  | D649 | E119 | E789 | E871 | ⋯ | Z115  | <!----> | <!----> | <!----> | <!----> | <!----> | <!----> | <!----> | <!----> | <!----> |\n| 514313 | 14940189 | 2 | 46 | 20170401 | 20170404 | A059  | B909 | D696 | E876 | K760 | ⋯ | <!----> | <!----> | <!----> | <!----> | <!----> | <!----> | <!----> | <!----> | <!----> | <!----> |\n| 514652 | 90287327 | 1 | 42 | 20180514 | 20180521 | F103  | D696 | E789 | E834 | E876 | ⋯ | <!----> | <!----> | <!----> | <!----> | <!----> | <!----> | <!----> | <!----> | <!----> | <!----> |\n| 514707 | 90287327 | 1 | 42 | 20180615 | 20180617 | F103  | D696 | E789 | E834 | E876 | ⋯ | <!----> | <!----> | <!----> | <!----> | <!----> | <!----> | <!----> | <!----> | <!----> | <!----> |\n| 515255 | 50564239 | 1 | 26 | 20180504 | 20180521 | S2200 | J960 | K701 | E834 | E876 | ⋯ | <!----> | <!----> | <!----> | <!----> | <!----> | <!----> | <!----> | <!----> | <!----> | <!----> |\n| 516463 | 81525202 | 1 | 53 | 20190304 | 20190311 | E872  | E833 | E834 | E870 | E876 | ⋯ | <!----> | <!----> | <!----> | <!----> | <!----> | <!----> | <!----> | <!----> | <!----> | <!----> |\n| 517251 | 45529509 | 1 | 50 | 20200518 | 20200520 | A059  | E119 | E789 | I10  | K701 | ⋯ | <!----> | <!----> | <!----> | <!----> | <!----> | <!----> | <!----> | <!----> | <!----> | <!----> |\n| 518959 | 26926592 | 2 | 44 | 20201207 | 20201212 | A059  | E834 | E876 | F102 | F320 | ⋯ | <!----> | <!----> | <!----> | <!----> | <!----> | <!----> | <!----> | <!----> | <!----> | <!----> |\n| 523109 | 16832003 | 1 | 48 | 20171027 | 20171121 | M4712 | A419 | D62  | E834 | F102 | ⋯ | <!----> | <!----> | <!----> | <!----> | <!----> | <!----> | <!----> | <!----> | <!----> | <!----> |\n| 523857 | 71332300 | 1 | 56 | 20200713 | 20200815 | G049  | A419 | D638 | E119 | E162 | ⋯ | J9609 | K701 | N390  | <!----> | <!----> | <!----> | <!----> | <!----> | <!----> | <!----> |\n| 524676 | 28977726 | 1 | 82 | 20210121 | 20210126 | K859  | D649 | E789 | E833 | E834 | ⋯ | N179  | J960 | M6289 | <!----> | <!----> | <!----> | <!----> | <!----> | <!----> | <!----> |\n| 524817 | 78423167 | 1 | 49 | 20210511 | 20210514 | I500  | E871 | E876 | I48  | J690 | ⋯ | <!----> | <!----> | <!----> | <!----> | <!----> | <!----> | <!----> | <!----> | <!----> | <!----> |\n| 525207 | 25258395 | 1 | 38 | 20210306 | 20210312 | K701  | E789 | E834 | E876 | F102 | ⋯ | <!----> | <!----> | <!----> | <!----> | <!----> | <!----> | <!----> | <!----> | <!----> | <!----> |\n| 526409 | 92812073 | 1 | 37 | 20220419 | 20220424 | K852  | A419 | E119 | E789 | E834 | ⋯ | D62   | E876 | <!----> | <!----> | <!----> | <!----> | <!----> | <!----> | <!----> | <!----> |\n| 526907 | 82516448 | 1 | 68 | 20170303 | 20170317 | A059  | A415 | B780 | K703 | N179 | ⋯ | R572  | <!----> | <!----> | <!----> | <!----> | <!----> | <!----> | <!----> | <!----> | <!----> |\n| 527837 | 71332300 | 1 | 56 | 20200713 | 20200815 | G049  | A419 | D638 | E119 | E162 | ⋯ | J9609 | K701 | N390  | <!----> | <!----> | <!----> | <!----> | <!----> | <!----> | <!----> |\n| 529719 |  4750939 | 1 | 42 | 20170103 | 20170106 | A059  | D696 | E834 | E835 | E871 | ⋯ | <!----> | <!----> | <!----> | <!----> | <!----> | <!----> | <!----> | <!----> | <!----> | <!----> |\n| 531317 |  9752135 | 1 | 48 | 20220401 | 20220405 | A059  | D649 | E119 | E789 | E871 | ⋯ | Z115  | <!----> | <!----> | <!----> | <!----> | <!----> | <!----> | <!----> | <!----> | <!----> |\n| 534161 | 75172039 | 1 | 47 | 20200131 | 20200228 | J150  | B968 | D649 | E141 | H669 | ⋯ | E834  | E871 | E876  | E880 | F103 | J91 | J939 | R170 | Y423 | <!----> |\n\n",
            "text/latex": "A data.frame: 592 × 26\n\\begin{tabular}{r|lllllllllllllllllllll}\n  & gen\\_id & sex & age\\_y & dateadm & datedsc & pdx & sdx1 & sdx2 & sdx3 & sdx4 & ⋯ & sdx11 & sdx12 & sdx13 & sdx14 & sdx15 & sdx16 & sdx17 & sdx18 & sdx19 & sdx20\\\\\n  & <int> & <int> & <int> & <int> & <int> & <chr> & <chr> & <chr> & <chr> & <chr> & ⋯ & <chr> & <chr> & <chr> & <chr> & <chr> & <chr> & <chr> & <chr> & <chr> & <chr>\\\\\n\\hline\n\t2460 & 80249470 & 1 & 29 & 20170221 & 20170223 & F100 & E876  & F103  &      &       & ⋯ &  &  &  &  &  &  &  &  &  & \\\\\n\t3773 & 80249470 & 1 & 29 & 20170308 & 20170309 & F100 & Z721  &       &      &       & ⋯ &  &  &  &  &  &  &  &  &  & \\\\\n\t3995 & 92812073 & 1 & 32 & 20170829 & 20170830 & F100 & E162  & E872  & E875 & K292  & ⋯ &  &  &  &  &  &  &  &  &  & \\\\\n\t5673 & 65598392 & 1 & 53 & 20180304 & 20180306 & F100 & K703  &       &      &       & ⋯ &  &  &  &  &  &  &  &  &  & \\\\\n\t6001 & 19322599 & 1 & 27 & 20180401 & 20180403 & F100 & E834  & Z721  &      &       & ⋯ &  &  &  &  &  &  &  &  &  & \\\\\n\t7567 & 88489128 & 1 & 49 & 20180306 & 20180307 & F100 & S801  & W5499 &      &       & ⋯ &  &  &  &  &  &  &  &  &  & \\\\\n\t7947 & 88380849 & 1 & 40 & 20180102 & 20180104 & F100 & F102  & J320  &      &       & ⋯ &  &  &  &  &  &  &  &  &  & \\\\\n\t8852 & 80249470 & 1 & 30 & 20171117 & 20171118 & F100 &       &       &      &       & ⋯ &  &  &  &  &  &  &  &  &  & \\\\\n\t8865 & 35090750 & 1 & 38 & 20171117 & 20171122 & F100 & E834  & F102  & F103 &       & ⋯ &  &  &  &  &  &  &  &  &  & \\\\\n\t13948 & 42027447 & 1 & 67 & 20190313 & 20190315 & F100 & I10   &       &      &       & ⋯ &  &  &  &  &  &  &  &  &  & \\\\\n\t14423 & 90287327 & 1 & 43 & 20190226 & 20190301 & F100 & E833  & E834  & E876 & K701  & ⋯ &  &  &  &  &  &  &  &  &  & \\\\\n\t15290 & 62806961 & 1 & 31 & 20200124 & 20200125 & F100 & E834  & K701  &      &       & ⋯ &  &  &  &  &  &  &  &  &  & \\\\\n\t18682 & 11535454 & 1 & 28 & 20200125 & 20200126 & F100 & F1020 & G409  & I10  &       & ⋯ &  &  &  &  &  &  &  &  &  & \\\\\n\t18913 & 90287327 & 1 & 44 & 20200921 & 20200923 & F100 & E834  & E876  & F102 & I694  & ⋯ &  &  &  &  &  &  &  &  &  & \\\\\n\t19086 & 90287327 & 1 & 44 & 20200507 & 20200512 & F100 & E834  & E876  &      &       & ⋯ &  &  &  &  &  &  &  &  &  & \\\\\n\t19366 & 11535454 & 1 & 28 & 20200213 & 20200214 & F100 & F102  & G409  & I10  &       & ⋯ &  &  &  &  &  &  &  &  &  & \\\\\n\t20183 & 90287327 & 1 & 44 & 20191206 & 20191209 & F100 & E833  & E876  &      &       & ⋯ &  &  &  &  &  &  &  &  &  & \\\\\n\t20493 & 90287327 & 1 & 45 & 20210628 & 20210702 & F100 & E833  & E871  & E876 & I694  & ⋯ &  &  &  &  &  &  &  &  &  & \\\\\n\t20931 & 89971908 & 1 & 34 & 20201202 & 20201204 & F100 & E876  & F102  &      &       & ⋯ &  &  &  &  &  &  &  &  &  & \\\\\n\t21416 & 90287327 & 1 & 45 & 20210411 & 20210414 & F100 & E833  & E834  & I10  &       & ⋯ &  &  &  &  &  &  &  &  &  & \\\\\n\t21956 & 79073356 & 1 & 35 & 20210506 & 20210506 & F100 & F209  &       &      &       & ⋯ &  &  &  &  &  &  &  &  &  & \\\\\n\t22972 & 90287327 & 1 & 45 & 20210716 & 20210718 & F100 & D696  & E833  & E834 & E876  & ⋯ &  &  &  &  &  &  &  &  &  & \\\\\n\t23164 & 79073356 & 1 & 34 & 20210122 & 20210124 & F100 & E876  & R101  &      &       & ⋯ &  &  &  &  &  &  &  &  &  & \\\\\n\t23860 & 91940522 & 1 & 52 & 20201217 & 20201218 & F100 & E119  & E876  & I10  &       & ⋯ &  &  &  &  &  &  &  &  &  & \\\\\n\t24025 & 90287327 & 1 & 45 & 20210329 & 20210331 & F100 & E876  &       &      &       & ⋯ &  &  &  &  &  &  &  &  &  & \\\\\n\t24095 & 88607783 & 1 & 46 & 20210104 & 20210105 & F100 & F101  & R101  &      &       & ⋯ &  &  &  &  &  &  &  &  &  & \\\\\n\t26089 & 90287327 & 1 & 45 & 20211123 & 20211126 & F100 & E834  & F1056 & I10  & K701  & ⋯ &  &  &  &  &  &  &  &  &  & \\\\\n\t28319 & 63017954 & 1 & 48 & 20180609 & 20180611 & F101 & K859  &       &      &       & ⋯ &  &  &  &  &  &  &  &  &  & \\\\\n\t28606 & 63017954 & 1 & 48 & 20190112 & 20190115 & F101 & D728  & E162  & E876 & Y1509 & ⋯ &  &  &  &  &  &  &  &  &  & \\\\\n\t30691 & 79860082 & 1 & 55 & 20170313 & 20170315 & F102 & E876  & F103  &      &       & ⋯ &  &  &  &  &  &  &  &  &  & \\\\\n\t⋮ & ⋮ & ⋮ & ⋮ & ⋮ & ⋮ & ⋮ & ⋮ & ⋮ & ⋮ & ⋮ & ⋱ & ⋮ & ⋮ & ⋮ & ⋮ & ⋮ & ⋮ & ⋮ & ⋮ & ⋮ & ⋮\\\\\n\t502289 & 90287327 & 1 & 43 & 20190804 & 20190807 & F102  & E833 & E834 & E871 & E876 & ⋯ &       &      &       &      &      &     &      &      &      & \\\\\n\t502374 & 92302099 & 1 & 41 & 20190914 & 20190921 & A059  & E86  & E871 & E872 & E876 & ⋯ &       &      &       &      &      &     &      &      &      & \\\\\n\t502720 & 92812073 & 1 & 33 & 20181024 & 20181027 & K859  & E834 & E876 & F102 & I10  & ⋯ &       &      &       &      &      &     &      &      &      & \\\\\n\t503001 & 88380849 & 1 & 42 & 20190317 & 20190319 & K746  & D638 & E834 & E872 & E876 & ⋯ &       &      &       &      &      &     &      &      &      & \\\\\n\t503587 & 81525202 & 1 & 53 & 20190304 & 20190311 & E872  & E833 & E834 & E870 & E876 & ⋯ &       &      &       &      &      &     &      &      &      & \\\\\n\t507914 & 92812073 & 1 & 35 & 20210206 & 20210208 & A059  & E119 & E789 & E871 & E875 & ⋯ &       &      &       &      &      &     &      &      &      & \\\\\n\t511055 &  8330252 & 1 & 47 & 20211221 & 20211222 & A059  & B909 & D649 & E876 & F102 & ⋯ & Z115  &      &       &      &      &     &      &      &      & \\\\\n\t511218 & 74077132 & 1 & 44 & 20220424 & 20220429 & F103  & E162 & E833 & E834 & E876 & ⋯ &       &      &       &      &      &     &      &      &      & \\\\\n\t511581 & 92812073 & 1 & 36 & 20211006 & 20211009 & K297  & E119 & E789 & I10  & D62  & ⋯ &       &      &       &      &      &     &      &      &      & \\\\\n\t512010 & 34627596 & 2 & 34 & 20220716 & 20220721 & F104  & D62  & E834 & E871 & E876 & ⋯ &       &      &       &      &      &     &      &      &      & \\\\\n\t512094 & 45529509 & 1 & 51 & 20211002 & 20211016 & R402  & A418 & D649 & E119 & F102 & ⋯ & Z115  & E834 & K802  &      &      &     &      &      &      & \\\\\n\t512154 &  9752135 & 1 & 48 & 20220401 & 20220405 & A059  & D649 & E119 & E789 & E871 & ⋯ & Z115  &      &       &      &      &     &      &      &      & \\\\\n\t514313 & 14940189 & 2 & 46 & 20170401 & 20170404 & A059  & B909 & D696 & E876 & K760 & ⋯ &       &      &       &      &      &     &      &      &      & \\\\\n\t514652 & 90287327 & 1 & 42 & 20180514 & 20180521 & F103  & D696 & E789 & E834 & E876 & ⋯ &       &      &       &      &      &     &      &      &      & \\\\\n\t514707 & 90287327 & 1 & 42 & 20180615 & 20180617 & F103  & D696 & E789 & E834 & E876 & ⋯ &       &      &       &      &      &     &      &      &      & \\\\\n\t515255 & 50564239 & 1 & 26 & 20180504 & 20180521 & S2200 & J960 & K701 & E834 & E876 & ⋯ &       &      &       &      &      &     &      &      &      & \\\\\n\t516463 & 81525202 & 1 & 53 & 20190304 & 20190311 & E872  & E833 & E834 & E870 & E876 & ⋯ &       &      &       &      &      &     &      &      &      & \\\\\n\t517251 & 45529509 & 1 & 50 & 20200518 & 20200520 & A059  & E119 & E789 & I10  & K701 & ⋯ &       &      &       &      &      &     &      &      &      & \\\\\n\t518959 & 26926592 & 2 & 44 & 20201207 & 20201212 & A059  & E834 & E876 & F102 & F320 & ⋯ &       &      &       &      &      &     &      &      &      & \\\\\n\t523109 & 16832003 & 1 & 48 & 20171027 & 20171121 & M4712 & A419 & D62  & E834 & F102 & ⋯ &       &      &       &      &      &     &      &      &      & \\\\\n\t523857 & 71332300 & 1 & 56 & 20200713 & 20200815 & G049  & A419 & D638 & E119 & E162 & ⋯ & J9609 & K701 & N390  &      &      &     &      &      &      & \\\\\n\t524676 & 28977726 & 1 & 82 & 20210121 & 20210126 & K859  & D649 & E789 & E833 & E834 & ⋯ & N179  & J960 & M6289 &      &      &     &      &      &      & \\\\\n\t524817 & 78423167 & 1 & 49 & 20210511 & 20210514 & I500  & E871 & E876 & I48  & J690 & ⋯ &       &      &       &      &      &     &      &      &      & \\\\\n\t525207 & 25258395 & 1 & 38 & 20210306 & 20210312 & K701  & E789 & E834 & E876 & F102 & ⋯ &       &      &       &      &      &     &      &      &      & \\\\\n\t526409 & 92812073 & 1 & 37 & 20220419 & 20220424 & K852  & A419 & E119 & E789 & E834 & ⋯ & D62   & E876 &       &      &      &     &      &      &      & \\\\\n\t526907 & 82516448 & 1 & 68 & 20170303 & 20170317 & A059  & A415 & B780 & K703 & N179 & ⋯ & R572  &      &       &      &      &     &      &      &      & \\\\\n\t527837 & 71332300 & 1 & 56 & 20200713 & 20200815 & G049  & A419 & D638 & E119 & E162 & ⋯ & J9609 & K701 & N390  &      &      &     &      &      &      & \\\\\n\t529719 &  4750939 & 1 & 42 & 20170103 & 20170106 & A059  & D696 & E834 & E835 & E871 & ⋯ &       &      &       &      &      &     &      &      &      & \\\\\n\t531317 &  9752135 & 1 & 48 & 20220401 & 20220405 & A059  & D649 & E119 & E789 & E871 & ⋯ & Z115  &      &       &      &      &     &      &      &      & \\\\\n\t534161 & 75172039 & 1 & 47 & 20200131 & 20200228 & J150  & B968 & D649 & E141 & H669 & ⋯ & E834  & E871 & E876  & E880 & F103 & J91 & J939 & R170 & Y423 & \\\\\n\\end{tabular}\n",
            "text/plain": [
              "       gen_id   sex age_y dateadm  datedsc  pdx   sdx1  sdx2  sdx3 sdx4  ⋯\n",
              "2460   80249470 1   29    20170221 20170223 F100  E876  F103             ⋯\n",
              "3773   80249470 1   29    20170308 20170309 F100  Z721                   ⋯\n",
              "3995   92812073 1   32    20170829 20170830 F100  E162  E872  E875 K292  ⋯\n",
              "5673   65598392 1   53    20180304 20180306 F100  K703                   ⋯\n",
              "6001   19322599 1   27    20180401 20180403 F100  E834  Z721             ⋯\n",
              "7567   88489128 1   49    20180306 20180307 F100  S801  W5499            ⋯\n",
              "7947   88380849 1   40    20180102 20180104 F100  F102  J320             ⋯\n",
              "8852   80249470 1   30    20171117 20171118 F100                         ⋯\n",
              "8865   35090750 1   38    20171117 20171122 F100  E834  F102  F103       ⋯\n",
              "13948  42027447 1   67    20190313 20190315 F100  I10                    ⋯\n",
              "14423  90287327 1   43    20190226 20190301 F100  E833  E834  E876 K701  ⋯\n",
              "15290  62806961 1   31    20200124 20200125 F100  E834  K701             ⋯\n",
              "18682  11535454 1   28    20200125 20200126 F100  F1020 G409  I10        ⋯\n",
              "18913  90287327 1   44    20200921 20200923 F100  E834  E876  F102 I694  ⋯\n",
              "19086  90287327 1   44    20200507 20200512 F100  E834  E876             ⋯\n",
              "19366  11535454 1   28    20200213 20200214 F100  F102  G409  I10        ⋯\n",
              "20183  90287327 1   44    20191206 20191209 F100  E833  E876             ⋯\n",
              "20493  90287327 1   45    20210628 20210702 F100  E833  E871  E876 I694  ⋯\n",
              "20931  89971908 1   34    20201202 20201204 F100  E876  F102             ⋯\n",
              "21416  90287327 1   45    20210411 20210414 F100  E833  E834  I10        ⋯\n",
              "21956  79073356 1   35    20210506 20210506 F100  F209                   ⋯\n",
              "22972  90287327 1   45    20210716 20210718 F100  D696  E833  E834 E876  ⋯\n",
              "23164  79073356 1   34    20210122 20210124 F100  E876  R101             ⋯\n",
              "23860  91940522 1   52    20201217 20201218 F100  E119  E876  I10        ⋯\n",
              "24025  90287327 1   45    20210329 20210331 F100  E876                   ⋯\n",
              "24095  88607783 1   46    20210104 20210105 F100  F101  R101             ⋯\n",
              "26089  90287327 1   45    20211123 20211126 F100  E834  F1056 I10  K701  ⋯\n",
              "28319  63017954 1   48    20180609 20180611 F101  K859                   ⋯\n",
              "28606  63017954 1   48    20190112 20190115 F101  D728  E162  E876 Y1509 ⋯\n",
              "30691  79860082 1   55    20170313 20170315 F102  E876  F103             ⋯\n",
              "⋮      ⋮        ⋮   ⋮     ⋮        ⋮        ⋮     ⋮     ⋮     ⋮    ⋮     ⋱\n",
              "502289 90287327 1   43    20190804 20190807 F102  E833  E834  E871 E876  ⋯\n",
              "502374 92302099 1   41    20190914 20190921 A059  E86   E871  E872 E876  ⋯\n",
              "502720 92812073 1   33    20181024 20181027 K859  E834  E876  F102 I10   ⋯\n",
              "503001 88380849 1   42    20190317 20190319 K746  D638  E834  E872 E876  ⋯\n",
              "503587 81525202 1   53    20190304 20190311 E872  E833  E834  E870 E876  ⋯\n",
              "507914 92812073 1   35    20210206 20210208 A059  E119  E789  E871 E875  ⋯\n",
              "511055  8330252 1   47    20211221 20211222 A059  B909  D649  E876 F102  ⋯\n",
              "511218 74077132 1   44    20220424 20220429 F103  E162  E833  E834 E876  ⋯\n",
              "511581 92812073 1   36    20211006 20211009 K297  E119  E789  I10  D62   ⋯\n",
              "512010 34627596 2   34    20220716 20220721 F104  D62   E834  E871 E876  ⋯\n",
              "512094 45529509 1   51    20211002 20211016 R402  A418  D649  E119 F102  ⋯\n",
              "512154  9752135 1   48    20220401 20220405 A059  D649  E119  E789 E871  ⋯\n",
              "514313 14940189 2   46    20170401 20170404 A059  B909  D696  E876 K760  ⋯\n",
              "514652 90287327 1   42    20180514 20180521 F103  D696  E789  E834 E876  ⋯\n",
              "514707 90287327 1   42    20180615 20180617 F103  D696  E789  E834 E876  ⋯\n",
              "515255 50564239 1   26    20180504 20180521 S2200 J960  K701  E834 E876  ⋯\n",
              "516463 81525202 1   53    20190304 20190311 E872  E833  E834  E870 E876  ⋯\n",
              "517251 45529509 1   50    20200518 20200520 A059  E119  E789  I10  K701  ⋯\n",
              "518959 26926592 2   44    20201207 20201212 A059  E834  E876  F102 F320  ⋯\n",
              "523109 16832003 1   48    20171027 20171121 M4712 A419  D62   E834 F102  ⋯\n",
              "523857 71332300 1   56    20200713 20200815 G049  A419  D638  E119 E162  ⋯\n",
              "524676 28977726 1   82    20210121 20210126 K859  D649  E789  E833 E834  ⋯\n",
              "524817 78423167 1   49    20210511 20210514 I500  E871  E876  I48  J690  ⋯\n",
              "525207 25258395 1   38    20210306 20210312 K701  E789  E834  E876 F102  ⋯\n",
              "526409 92812073 1   37    20220419 20220424 K852  A419  E119  E789 E834  ⋯\n",
              "526907 82516448 1   68    20170303 20170317 A059  A415  B780  K703 N179  ⋯\n",
              "527837 71332300 1   56    20200713 20200815 G049  A419  D638  E119 E162  ⋯\n",
              "529719  4750939 1   42    20170103 20170106 A059  D696  E834  E835 E871  ⋯\n",
              "531317  9752135 1   48    20220401 20220405 A059  D649  E119  E789 E871  ⋯\n",
              "534161 75172039 1   47    20200131 20200228 J150  B968  D649  E141 H669  ⋯\n",
              "       sdx11 sdx12 sdx13 sdx14 sdx15 sdx16 sdx17 sdx18 sdx19 sdx20\n",
              "2460                                                              \n",
              "3773                                                              \n",
              "3995                                                              \n",
              "5673                                                              \n",
              "6001                                                              \n",
              "7567                                                              \n",
              "7947                                                              \n",
              "8852                                                              \n",
              "8865                                                              \n",
              "13948                                                             \n",
              "14423                                                             \n",
              "15290                                                             \n",
              "18682                                                             \n",
              "18913                                                             \n",
              "19086                                                             \n",
              "19366                                                             \n",
              "20183                                                             \n",
              "20493                                                             \n",
              "20931                                                             \n",
              "21416                                                             \n",
              "21956                                                             \n",
              "22972                                                             \n",
              "23164                                                             \n",
              "23860                                                             \n",
              "24025                                                             \n",
              "24095                                                             \n",
              "26089                                                             \n",
              "28319                                                             \n",
              "28606                                                             \n",
              "30691                                                             \n",
              "⋮      ⋮     ⋮     ⋮     ⋮     ⋮     ⋮     ⋮     ⋮     ⋮     ⋮    \n",
              "502289                                                            \n",
              "502374                                                            \n",
              "502720                                                            \n",
              "503001                                                            \n",
              "503587                                                            \n",
              "507914                                                            \n",
              "511055 Z115                                                       \n",
              "511218                                                            \n",
              "511581                                                            \n",
              "512010                                                            \n",
              "512094 Z115  E834  K802                                           \n",
              "512154 Z115                                                       \n",
              "514313                                                            \n",
              "514652                                                            \n",
              "514707                                                            \n",
              "515255                                                            \n",
              "516463                                                            \n",
              "517251                                                            \n",
              "518959                                                            \n",
              "523109                                                            \n",
              "523857 J9609 K701  N390                                           \n",
              "524676 N179  J960  M6289                                          \n",
              "524817                                                            \n",
              "525207                                                            \n",
              "526409 D62   E876                                                 \n",
              "526907 R572                                                       \n",
              "527837 J9609 K701  N390                                           \n",
              "529719                                                            \n",
              "531317 Z115                                                       \n",
              "534161 E834  E871  E876  E880  F103  J91   J939  R170  Y423       "
            ]
          },
          "metadata": {}
        }
      ]
    },
    {
      "cell_type": "markdown",
      "source": [
        "**Unique ID**"
      ],
      "metadata": {
        "id": "6d1Z6iAJUtpQ"
      }
    },
    {
      "cell_type": "markdown",
      "source": [
        "distinct() function"
      ],
      "metadata": {
        "id": "k3KWCbfJUwB5"
      }
    },
    {
      "cell_type": "code",
      "source": [
        "distinct(dat, gen_id, .keep_all = TRUE)"
      ],
      "metadata": {
        "colab": {
          "base_uri": "https://localhost:8080/",
          "height": 1000
        },
        "id": "3zAdhgVVUz4v",
        "outputId": "61e2cef5-2f76-42a9-9db9-1f4f00aab853"
      },
      "execution_count": 22,
      "outputs": [
        {
          "output_type": "display_data",
          "data": {
            "text/html": [
              "<table class=\"dataframe\">\n",
              "<caption>A data.frame: 304103 × 26</caption>\n",
              "<thead>\n",
              "\t<tr><th scope=col>gen_id</th><th scope=col>sex</th><th scope=col>age_y</th><th scope=col>dateadm</th><th scope=col>datedsc</th><th scope=col>pdx</th><th scope=col>sdx1</th><th scope=col>sdx2</th><th scope=col>sdx3</th><th scope=col>sdx4</th><th scope=col>⋯</th><th scope=col>sdx11</th><th scope=col>sdx12</th><th scope=col>sdx13</th><th scope=col>sdx14</th><th scope=col>sdx15</th><th scope=col>sdx16</th><th scope=col>sdx17</th><th scope=col>sdx18</th><th scope=col>sdx19</th><th scope=col>sdx20</th></tr>\n",
              "\t<tr><th scope=col>&lt;int&gt;</th><th scope=col>&lt;int&gt;</th><th scope=col>&lt;int&gt;</th><th scope=col>&lt;int&gt;</th><th scope=col>&lt;int&gt;</th><th scope=col>&lt;chr&gt;</th><th scope=col>&lt;chr&gt;</th><th scope=col>&lt;chr&gt;</th><th scope=col>&lt;chr&gt;</th><th scope=col>&lt;chr&gt;</th><th scope=col>⋯</th><th scope=col>&lt;chr&gt;</th><th scope=col>&lt;chr&gt;</th><th scope=col>&lt;chr&gt;</th><th scope=col>&lt;chr&gt;</th><th scope=col>&lt;chr&gt;</th><th scope=col>&lt;chr&gt;</th><th scope=col>&lt;chr&gt;</th><th scope=col>&lt;chr&gt;</th><th scope=col>&lt;chr&gt;</th><th scope=col>&lt;chr&gt;</th></tr>\n",
              "</thead>\n",
              "<tbody>\n",
              "\t<tr><td>96753789</td><td>1</td><td>33</td><td>20170414</td><td>20170415</td><td>F100</td><td>    </td><td>     </td><td>    </td><td>     </td><td>⋯</td><td></td><td></td><td></td><td></td><td></td><td></td><td></td><td></td><td></td><td></td></tr>\n",
              "\t<tr><td>74298627</td><td>1</td><td>46</td><td>20170702</td><td>20170703</td><td>F100</td><td>R002</td><td>     </td><td>    </td><td>     </td><td>⋯</td><td></td><td></td><td></td><td></td><td></td><td></td><td></td><td></td><td></td><td></td></tr>\n",
              "\t<tr><td>98394326</td><td>1</td><td>49</td><td>20170615</td><td>20170616</td><td>F100</td><td>E873</td><td>     </td><td>    </td><td>     </td><td>⋯</td><td></td><td></td><td></td><td></td><td></td><td></td><td></td><td></td><td></td><td></td></tr>\n",
              "\t<tr><td> 6444039</td><td>1</td><td>26</td><td>20170726</td><td>20170727</td><td>F100</td><td>    </td><td>     </td><td>    </td><td>     </td><td>⋯</td><td></td><td></td><td></td><td></td><td></td><td></td><td></td><td></td><td></td><td></td></tr>\n",
              "\t<tr><td>75418622</td><td>1</td><td>39</td><td>20170919</td><td>20170922</td><td>F100</td><td>E834</td><td>E876 </td><td>T436</td><td>Y497 </td><td>⋯</td><td></td><td></td><td></td><td></td><td></td><td></td><td></td><td></td><td></td><td></td></tr>\n",
              "\t<tr><td>96230501</td><td>1</td><td>13</td><td>20170909</td><td>20170911</td><td>F100</td><td>E86 </td><td>E871 </td><td>E876</td><td>J029 </td><td>⋯</td><td></td><td></td><td></td><td></td><td></td><td></td><td></td><td></td><td></td><td></td></tr>\n",
              "\t<tr><td>39606357</td><td>1</td><td>41</td><td>20161208</td><td>20161209</td><td>F100</td><td>F101</td><td>     </td><td>    </td><td>     </td><td>⋯</td><td></td><td></td><td></td><td></td><td></td><td></td><td></td><td></td><td></td><td></td></tr>\n",
              "\t<tr><td>  582783</td><td>1</td><td>42</td><td>20170227</td><td>20170228</td><td>F100</td><td>B909</td><td>     </td><td>    </td><td>     </td><td>⋯</td><td></td><td></td><td></td><td></td><td></td><td></td><td></td><td></td><td></td><td></td></tr>\n",
              "\t<tr><td> 1123634</td><td>2</td><td>89</td><td>20170103</td><td>20170104</td><td>F100</td><td>I10 </td><td>     </td><td>    </td><td>     </td><td>⋯</td><td></td><td></td><td></td><td></td><td></td><td></td><td></td><td></td><td></td><td></td></tr>\n",
              "\t<tr><td>65646934</td><td>1</td><td>88</td><td>20170309</td><td>20170311</td><td>F100</td><td>I10 </td><td>M1099</td><td>M940</td><td>N185 </td><td>⋯</td><td></td><td></td><td></td><td></td><td></td><td></td><td></td><td></td><td></td><td></td></tr>\n",
              "\t<tr><td>23292427</td><td>1</td><td>70</td><td>20170705</td><td>20170706</td><td>F100</td><td>    </td><td>     </td><td>    </td><td>     </td><td>⋯</td><td></td><td></td><td></td><td></td><td></td><td></td><td></td><td></td><td></td><td></td></tr>\n",
              "\t<tr><td>67935156</td><td>1</td><td>36</td><td>20170421</td><td>20170425</td><td>F100</td><td>E833</td><td>E834 </td><td>E876</td><td>J189 </td><td>⋯</td><td></td><td></td><td></td><td></td><td></td><td></td><td></td><td></td><td></td><td></td></tr>\n",
              "\t<tr><td>80677949</td><td>1</td><td>49</td><td>20170318</td><td>20170320</td><td>F100</td><td>    </td><td>     </td><td>    </td><td>     </td><td>⋯</td><td></td><td></td><td></td><td></td><td></td><td></td><td></td><td></td><td></td><td></td></tr>\n",
              "\t<tr><td>82999387</td><td>1</td><td>41</td><td>20170821</td><td>20170823</td><td>F100</td><td>    </td><td>     </td><td>    </td><td>     </td><td>⋯</td><td></td><td></td><td></td><td></td><td></td><td></td><td></td><td></td><td></td><td></td></tr>\n",
              "\t<tr><td>71564267</td><td>1</td><td>52</td><td>20170924</td><td>20170928</td><td>F100</td><td>R568</td><td>E834 </td><td>E875</td><td>M6289</td><td>⋯</td><td></td><td></td><td></td><td></td><td></td><td></td><td></td><td></td><td></td><td></td></tr>\n",
              "\t<tr><td>64871976</td><td>1</td><td>49</td><td>20170401</td><td>20170401</td><td>F100</td><td>    </td><td>     </td><td>    </td><td>     </td><td>⋯</td><td></td><td></td><td></td><td></td><td></td><td></td><td></td><td></td><td></td><td></td></tr>\n",
              "\t<tr><td> 8746137</td><td>1</td><td>20</td><td>20170705</td><td>20170705</td><td>F100</td><td>    </td><td>     </td><td>    </td><td>     </td><td>⋯</td><td></td><td></td><td></td><td></td><td></td><td></td><td></td><td></td><td></td><td></td></tr>\n",
              "\t<tr><td>91660978</td><td>1</td><td>33</td><td>20170606</td><td>20170607</td><td>F100</td><td>    </td><td>     </td><td>    </td><td>     </td><td>⋯</td><td></td><td></td><td></td><td></td><td></td><td></td><td></td><td></td><td></td><td></td></tr>\n",
              "\t<tr><td>30342153</td><td>2</td><td>56</td><td>20170123</td><td>20170126</td><td>F100</td><td>I10 </td><td>K701 </td><td>K920</td><td>E834 </td><td>⋯</td><td></td><td></td><td></td><td></td><td></td><td></td><td></td><td></td><td></td><td></td></tr>\n",
              "\t<tr><td>77730248</td><td>2</td><td>23</td><td>20170117</td><td>20170117</td><td>F100</td><td>J960</td><td>     </td><td>    </td><td>     </td><td>⋯</td><td></td><td></td><td></td><td></td><td></td><td></td><td></td><td></td><td></td><td></td></tr>\n",
              "\t<tr><td>23958796</td><td>1</td><td>30</td><td>20170309</td><td>20170310</td><td>F100</td><td>    </td><td>     </td><td>    </td><td>     </td><td>⋯</td><td></td><td></td><td></td><td></td><td></td><td></td><td></td><td></td><td></td><td></td></tr>\n",
              "\t<tr><td> 9047878</td><td>1</td><td>34</td><td>20170728</td><td>20170730</td><td>F100</td><td>    </td><td>     </td><td>    </td><td>     </td><td>⋯</td><td></td><td></td><td></td><td></td><td></td><td></td><td></td><td></td><td></td><td></td></tr>\n",
              "\t<tr><td>62026336</td><td>1</td><td>59</td><td>20170824</td><td>20170829</td><td>F100</td><td>E119</td><td>E834 </td><td>E872</td><td>E875 </td><td>⋯</td><td></td><td></td><td></td><td></td><td></td><td></td><td></td><td></td><td></td><td></td></tr>\n",
              "\t<tr><td> 2676267</td><td>2</td><td>15</td><td>20161204</td><td>20161206</td><td>F100</td><td>    </td><td>     </td><td>    </td><td>     </td><td>⋯</td><td></td><td></td><td></td><td></td><td></td><td></td><td></td><td></td><td></td><td></td></tr>\n",
              "\t<tr><td>29868124</td><td>2</td><td>51</td><td>20170403</td><td>20170404</td><td>F100</td><td>    </td><td>     </td><td>    </td><td>     </td><td>⋯</td><td></td><td></td><td></td><td></td><td></td><td></td><td></td><td></td><td></td><td></td></tr>\n",
              "\t<tr><td>36457016</td><td>2</td><td>64</td><td>20170224</td><td>20170226</td><td>F100</td><td>E15 </td><td>E834 </td><td>E876</td><td>K701 </td><td>⋯</td><td></td><td></td><td></td><td></td><td></td><td></td><td></td><td></td><td></td><td></td></tr>\n",
              "\t<tr><td>50548000</td><td>1</td><td>36</td><td>20161223</td><td>20161223</td><td>F100</td><td>K701</td><td>     </td><td>    </td><td>     </td><td>⋯</td><td></td><td></td><td></td><td></td><td></td><td></td><td></td><td></td><td></td><td></td></tr>\n",
              "\t<tr><td>77254373</td><td>1</td><td>46</td><td>20170911</td><td>20170919</td><td>F100</td><td>F102</td><td>F311 </td><td>    </td><td>     </td><td>⋯</td><td></td><td></td><td></td><td></td><td></td><td></td><td></td><td></td><td></td><td></td></tr>\n",
              "\t<tr><td>48060504</td><td>2</td><td>47</td><td>20170308</td><td>20170309</td><td>F100</td><td>    </td><td>     </td><td>    </td><td>     </td><td>⋯</td><td></td><td></td><td></td><td></td><td></td><td></td><td></td><td></td><td></td><td></td></tr>\n",
              "\t<tr><td>94379377</td><td>1</td><td>57</td><td>20170417</td><td>20170417</td><td>F100</td><td>E833</td><td>E876 </td><td>K701</td><td>R002 </td><td>⋯</td><td></td><td></td><td></td><td></td><td></td><td></td><td></td><td></td><td></td><td></td></tr>\n",
              "\t<tr><td>⋮</td><td>⋮</td><td>⋮</td><td>⋮</td><td>⋮</td><td>⋮</td><td>⋮</td><td>⋮</td><td>⋮</td><td>⋮</td><td>⋱</td><td>⋮</td><td>⋮</td><td>⋮</td><td>⋮</td><td>⋮</td><td>⋮</td><td>⋮</td><td>⋮</td><td>⋮</td><td>⋮</td></tr>\n",
              "\t<tr><td>50826160</td><td>1</td><td>82</td><td>20210920</td><td>20210923</td><td>K264 </td><td>D500</td><td>D689 </td><td>D696 </td><td>E872 </td><td>⋯</td><td>Z115 </td><td>Z515 </td><td>E274 </td><td>E833</td><td>F102</td><td>I219</td><td>E870 </td><td>E880 </td><td>     </td><td>     </td></tr>\n",
              "\t<tr><td>91507452</td><td>1</td><td>59</td><td>20210331</td><td>20210421</td><td>M310 </td><td>D500</td><td>E872 </td><td>I10  </td><td>I469 </td><td>⋯</td><td>E834 </td><td>E870 </td><td>E875 </td><td>E876</td><td>F103</td><td>J151</td><td>Y95  </td><td>     </td><td>     </td><td>     </td></tr>\n",
              "\t<tr><td>61742130</td><td>1</td><td>55</td><td>20210613</td><td>20210628</td><td>C220 </td><td>C798</td><td>E871 </td><td>I10  </td><td>J189 </td><td>⋯</td><td>D689 </td><td>E440 </td><td>E835 </td><td>E876</td><td>F103</td><td>J90 </td><td>J960 </td><td>R18  </td><td>Y95  </td><td>     </td></tr>\n",
              "\t<tr><td>26622594</td><td>1</td><td>80</td><td>20210901</td><td>20220414</td><td>J128 </td><td>E149</td><td>E789 </td><td>I10  </td><td>N179 </td><td>⋯</td><td>K922 </td><td>L891 </td><td>E871 </td><td>E878</td><td>F104</td><td>I48 </td><td>U071 </td><td>     </td><td>     </td><td>     </td></tr>\n",
              "\t<tr><td>28280945</td><td>1</td><td>51</td><td>20210402</td><td>20210506</td><td>N390 </td><td>B952</td><td>B968 </td><td>E835 </td><td>E870 </td><td>⋯</td><td>R651 </td><td>Z115 </td><td>A099 </td><td>D649</td><td>F103</td><td>J960</td><td>     </td><td>     </td><td>     </td><td>     </td></tr>\n",
              "\t<tr><td>83908589</td><td>1</td><td>48</td><td>20210115</td><td>20210222</td><td>S850 </td><td>D62 </td><td>D684 </td><td>D696 </td><td>E834 </td><td>⋯</td><td>B89  </td><td>E440 </td><td>E835 </td><td>E877</td><td>F104</td><td>I639</td><td>J156 </td><td>J9609</td><td>M6289</td><td>N179 </td></tr>\n",
              "\t<tr><td>70983495</td><td>1</td><td>55</td><td>20210115</td><td>20210304</td><td>I740 </td><td>A415</td><td>E274 </td><td>E871 </td><td>E875 </td><td>⋯</td><td>N179 </td><td>R572 </td><td>D684 </td><td>E833</td><td>F103</td><td>J156</td><td>J952 </td><td>N390 </td><td>R770 </td><td>T810 </td></tr>\n",
              "\t<tr><td>77399594</td><td>1</td><td>66</td><td>20210420</td><td>20210430</td><td>C20  </td><td>A415</td><td>C780 </td><td>C787 </td><td>C788 </td><td>⋯</td><td>Z515 </td><td>Z718 </td><td>D62  </td><td>E877</td><td>F103</td><td>K922</td><td>T730 </td><td>X5799</td><td>     </td><td>     </td></tr>\n",
              "\t<tr><td>95429883</td><td>1</td><td>48</td><td>20210909</td><td>20210920</td><td>K550 </td><td>D126</td><td>D569 </td><td>D65  </td><td>D689 </td><td>⋯</td><td>R572 </td><td>Z115 </td><td>E162 </td><td>E46 </td><td>F104</td><td>J189</td><td>J81  </td><td>T806 </td><td>Y95  </td><td>     </td></tr>\n",
              "\t<tr><td>95250598</td><td>1</td><td>61</td><td>20210419</td><td>20210605</td><td>A150 </td><td>A048</td><td>B179 </td><td>D649 </td><td>E46  </td><td>⋯</td><td>E871 </td><td>E872 </td><td>E876 </td><td>F059</td><td>F104</td><td>J156</td><td>N390 </td><td>R35  </td><td>Z115 </td><td>Y95  </td></tr>\n",
              "\t<tr><td>95002231</td><td>1</td><td>49</td><td>20210729</td><td>20210814</td><td>S0650</td><td>D181</td><td>E440 </td><td>G932 </td><td>S011 </td><td>⋯</td><td>Z721 </td><td>D62  </td><td>E876 </td><td>F059</td><td>F103</td><td>I10 </td><td>V2849</td><td>     </td><td>     </td><td>     </td></tr>\n",
              "\t<tr><td>68700702</td><td>1</td><td>62</td><td>20210226</td><td>20210304</td><td>S141 </td><td>K746</td><td>M4782</td><td>S010 </td><td>S0200</td><td>⋯</td><td>D696 </td><td>E039 </td><td>E119 </td><td>E274</td><td>F102</td><td>F103</td><td>V2849</td><td>     </td><td>     </td><td>     </td></tr>\n",
              "\t<tr><td>79276687</td><td>1</td><td>70</td><td>20210301</td><td>20210322</td><td>J208 </td><td>B956</td><td>B968 </td><td>D509 </td><td>E834 </td><td>⋯</td><td>K920 </td><td>R392 </td><td>R572 </td><td>U837</td><td>F104</td><td>G419</td><td>K703 </td><td>Z720 </td><td>Z721 </td><td>Y95  </td></tr>\n",
              "\t<tr><td>11508630</td><td>1</td><td>76</td><td>20210318</td><td>20210329</td><td>G825 </td><td>E789</td><td>I10  </td><td>N40  </td><td>R31  </td><td>⋯</td><td>U5952</td><td>U5953</td><td>U6112</td><td>Z501</td><td>F103</td><td>G470</td><td>N10  </td><td>V2849</td><td>     </td><td>     </td></tr>\n",
              "\t<tr><td>80216555</td><td>2</td><td>40</td><td>20210512</td><td>20210602</td><td>A415 </td><td>B965</td><td>D62  </td><td>E834 </td><td>E871 </td><td>⋯</td><td>Z718 </td><td>D689 </td><td>E833 </td><td>E880</td><td>F103</td><td>K922</td><td>     </td><td>     </td><td>     </td><td>     </td></tr>\n",
              "\t<tr><td>34408949</td><td>1</td><td>64</td><td>20220115</td><td>20220204</td><td>S3650</td><td>E876</td><td>I10  </td><td>J154 </td><td>R392 </td><td>⋯</td><td>E274 </td><td>E43  </td><td>E833 </td><td>E834</td><td>F104</td><td>I489</td><td>J960 </td><td>K565 </td><td>R572 </td><td>R651 </td></tr>\n",
              "\t<tr><td>75423156</td><td>1</td><td>44</td><td>20220804</td><td>20220818</td><td>J128 </td><td>A418</td><td>B968 </td><td>D689 </td><td>E833 </td><td>⋯</td><td>R740 </td><td>U072 </td><td>D62  </td><td>E875</td><td>F103</td><td>K920</td><td>     </td><td>     </td><td>     </td><td>     </td></tr>\n",
              "\t<tr><td> 9086643</td><td>1</td><td>41</td><td>20220915</td><td>20221003</td><td>T242 </td><td>D500</td><td>E834 </td><td>E871 </td><td>E872 </td><td>⋯</td><td>X1099</td><td>D696 </td><td>E43  </td><td>F059</td><td>F103</td><td>I359</td><td>J960 </td><td>N179 </td><td>R571 </td><td>R730 </td></tr>\n",
              "\t<tr><td> 2517694</td><td>1</td><td>39</td><td>20220731</td><td>20220731</td><td>S3610</td><td>D689</td><td>D696 </td><td>E877 </td><td>J9609</td><td>⋯</td><td>T794 </td><td>Z515 </td><td>D62  </td><td>E876</td><td>F100</td><td>I469</td><td>K729 </td><td>S017 </td><td>S0201</td><td>S2240</td></tr>\n",
              "\t<tr><td> 6031859</td><td>1</td><td>56</td><td>20211126</td><td>20211219</td><td>S1270</td><td>E119</td><td>J156 </td><td>J960 </td><td>R572 </td><td>⋯</td><td>Z115 </td><td>E833 </td><td>E870 </td><td>E876</td><td>F103</td><td>K590</td><td>N390 </td><td>S0600</td><td>S2230</td><td>V2849</td></tr>\n",
              "\t<tr><td>42469218</td><td>1</td><td>70</td><td>20211030</td><td>20211118</td><td>A418 </td><td>B980</td><td>D591 </td><td>D65  </td><td>E876 </td><td>⋯</td><td>R18  </td><td>Z115 </td><td>D62  </td><td>E162</td><td>F104</td><td>I471</td><td>J9609</td><td>K758 </td><td>R571 </td><td>R572 </td></tr>\n",
              "\t<tr><td>32182862</td><td>1</td><td>62</td><td>20211104</td><td>20211121</td><td>J189 </td><td>A415</td><td>E834 </td><td>E835 </td><td>E871 </td><td>⋯</td><td>Z115 </td><td>D62  </td><td>D689 </td><td>E876</td><td>F103</td><td>K858</td><td>L031 </td><td>T801 </td><td>Z861 </td><td>Y621 </td></tr>\n",
              "\t<tr><td>82383765</td><td>1</td><td>60</td><td>20220412</td><td>20220503</td><td>S272 </td><td>D500</td><td>K746 </td><td>S0600</td><td>S2240</td><td>⋯</td><td>D696 </td><td>E833 </td><td>E871 </td><td>E876</td><td>F103</td><td>I10 </td><td>J189 </td><td>J981 </td><td>V2249</td><td>     </td></tr>\n",
              "\t<tr><td>92440473</td><td>1</td><td>67</td><td>20211127</td><td>20211219</td><td>K746 </td><td>D62 </td><td>D684 </td><td>I983 </td><td>J189 </td><td>⋯</td><td>D65  </td><td>E871 </td><td>E872 </td><td>E876</td><td>F103</td><td>K318</td><td>K701 </td><td>K729 </td><td>N179 </td><td>N390 </td></tr>\n",
              "\t<tr><td>83667695</td><td>1</td><td>72</td><td>20220715</td><td>20220806</td><td>I214 </td><td>E834</td><td>E876 </td><td>I236 </td><td>I251 </td><td>⋯</td><td>N179 </td><td>R31  </td><td>R570 </td><td>E875</td><td>F103</td><td>N390</td><td>R509 </td><td>R572 </td><td>Z720 </td><td>Z721 </td></tr>\n",
              "\t<tr><td>44850291</td><td>1</td><td>40</td><td>20220114</td><td>20220119</td><td>F208 </td><td>D696</td><td>E872 </td><td>E875 </td><td>I10  </td><td>⋯</td><td>A419 </td><td>E833 </td><td>E834 </td><td>E876</td><td>F103</td><td>R739</td><td>     </td><td>     </td><td>     </td><td>     </td></tr>\n",
              "\t<tr><td>36012336</td><td>1</td><td>27</td><td>20211125</td><td>20211211</td><td>A279 </td><td>D65 </td><td>E876 </td><td>J80  </td><td>J960 </td><td>⋯</td><td>E162 </td><td>E834 </td><td>E835 </td><td>E870</td><td>F102</td><td>J150</td><td>K922 </td><td>Y95  </td><td>     </td><td>     </td></tr>\n",
              "\t<tr><td>83865439</td><td>2</td><td>29</td><td>20220613</td><td>20220704</td><td>J128 </td><td>D649</td><td>D689 </td><td>E162 </td><td>E833 </td><td>⋯</td><td>U071 </td><td>Z721 </td><td>E834 </td><td>E876</td><td>F103</td><td>J156</td><td>Y95  </td><td>     </td><td>     </td><td>     </td></tr>\n",
              "\t<tr><td>71626476</td><td>1</td><td>43</td><td>20220330</td><td>20220505</td><td>I613 </td><td>I10 </td><td>J128 </td><td>J960 </td><td>K590 </td><td>⋯</td><td>L270 </td><td>N10  </td><td>N179 </td><td>R33 </td><td>F102</td><td>Y95 </td><td>     </td><td>     </td><td>     </td><td>     </td></tr>\n",
              "\t<tr><td>96715593</td><td>1</td><td>69</td><td>20220330</td><td>20220402</td><td>K703 </td><td>B182</td><td>D648 </td><td>F430 </td><td>J960 </td><td>⋯</td><td>E162 </td><td>E43  </td><td>E870 </td><td>E875</td><td>F103</td><td>J150</td><td>K729 </td><td>K746 </td><td>N179 </td><td>N189 </td></tr>\n",
              "</tbody>\n",
              "</table>\n"
            ],
            "text/markdown": "\nA data.frame: 304103 × 26\n\n| gen_id &lt;int&gt; | sex &lt;int&gt; | age_y &lt;int&gt; | dateadm &lt;int&gt; | datedsc &lt;int&gt; | pdx &lt;chr&gt; | sdx1 &lt;chr&gt; | sdx2 &lt;chr&gt; | sdx3 &lt;chr&gt; | sdx4 &lt;chr&gt; | ⋯ ⋯ | sdx11 &lt;chr&gt; | sdx12 &lt;chr&gt; | sdx13 &lt;chr&gt; | sdx14 &lt;chr&gt; | sdx15 &lt;chr&gt; | sdx16 &lt;chr&gt; | sdx17 &lt;chr&gt; | sdx18 &lt;chr&gt; | sdx19 &lt;chr&gt; | sdx20 &lt;chr&gt; |\n|---|---|---|---|---|---|---|---|---|---|---|---|---|---|---|---|---|---|---|---|---|\n| 96753789 | 1 | 33 | 20170414 | 20170415 | F100 | <!----> | <!----> | <!----> | <!----> | ⋯ | <!----> | <!----> | <!----> | <!----> | <!----> | <!----> | <!----> | <!----> | <!----> | <!----> |\n| 74298627 | 1 | 46 | 20170702 | 20170703 | F100 | R002 | <!----> | <!----> | <!----> | ⋯ | <!----> | <!----> | <!----> | <!----> | <!----> | <!----> | <!----> | <!----> | <!----> | <!----> |\n| 98394326 | 1 | 49 | 20170615 | 20170616 | F100 | E873 | <!----> | <!----> | <!----> | ⋯ | <!----> | <!----> | <!----> | <!----> | <!----> | <!----> | <!----> | <!----> | <!----> | <!----> |\n|  6444039 | 1 | 26 | 20170726 | 20170727 | F100 | <!----> | <!----> | <!----> | <!----> | ⋯ | <!----> | <!----> | <!----> | <!----> | <!----> | <!----> | <!----> | <!----> | <!----> | <!----> |\n| 75418622 | 1 | 39 | 20170919 | 20170922 | F100 | E834 | E876  | T436 | Y497  | ⋯ | <!----> | <!----> | <!----> | <!----> | <!----> | <!----> | <!----> | <!----> | <!----> | <!----> |\n| 96230501 | 1 | 13 | 20170909 | 20170911 | F100 | E86  | E871  | E876 | J029  | ⋯ | <!----> | <!----> | <!----> | <!----> | <!----> | <!----> | <!----> | <!----> | <!----> | <!----> |\n| 39606357 | 1 | 41 | 20161208 | 20161209 | F100 | F101 | <!----> | <!----> | <!----> | ⋯ | <!----> | <!----> | <!----> | <!----> | <!----> | <!----> | <!----> | <!----> | <!----> | <!----> |\n|   582783 | 1 | 42 | 20170227 | 20170228 | F100 | B909 | <!----> | <!----> | <!----> | ⋯ | <!----> | <!----> | <!----> | <!----> | <!----> | <!----> | <!----> | <!----> | <!----> | <!----> |\n|  1123634 | 2 | 89 | 20170103 | 20170104 | F100 | I10  | <!----> | <!----> | <!----> | ⋯ | <!----> | <!----> | <!----> | <!----> | <!----> | <!----> | <!----> | <!----> | <!----> | <!----> |\n| 65646934 | 1 | 88 | 20170309 | 20170311 | F100 | I10  | M1099 | M940 | N185  | ⋯ | <!----> | <!----> | <!----> | <!----> | <!----> | <!----> | <!----> | <!----> | <!----> | <!----> |\n| 23292427 | 1 | 70 | 20170705 | 20170706 | F100 | <!----> | <!----> | <!----> | <!----> | ⋯ | <!----> | <!----> | <!----> | <!----> | <!----> | <!----> | <!----> | <!----> | <!----> | <!----> |\n| 67935156 | 1 | 36 | 20170421 | 20170425 | F100 | E833 | E834  | E876 | J189  | ⋯ | <!----> | <!----> | <!----> | <!----> | <!----> | <!----> | <!----> | <!----> | <!----> | <!----> |\n| 80677949 | 1 | 49 | 20170318 | 20170320 | F100 | <!----> | <!----> | <!----> | <!----> | ⋯ | <!----> | <!----> | <!----> | <!----> | <!----> | <!----> | <!----> | <!----> | <!----> | <!----> |\n| 82999387 | 1 | 41 | 20170821 | 20170823 | F100 | <!----> | <!----> | <!----> | <!----> | ⋯ | <!----> | <!----> | <!----> | <!----> | <!----> | <!----> | <!----> | <!----> | <!----> | <!----> |\n| 71564267 | 1 | 52 | 20170924 | 20170928 | F100 | R568 | E834  | E875 | M6289 | ⋯ | <!----> | <!----> | <!----> | <!----> | <!----> | <!----> | <!----> | <!----> | <!----> | <!----> |\n| 64871976 | 1 | 49 | 20170401 | 20170401 | F100 | <!----> | <!----> | <!----> | <!----> | ⋯ | <!----> | <!----> | <!----> | <!----> | <!----> | <!----> | <!----> | <!----> | <!----> | <!----> |\n|  8746137 | 1 | 20 | 20170705 | 20170705 | F100 | <!----> | <!----> | <!----> | <!----> | ⋯ | <!----> | <!----> | <!----> | <!----> | <!----> | <!----> | <!----> | <!----> | <!----> | <!----> |\n| 91660978 | 1 | 33 | 20170606 | 20170607 | F100 | <!----> | <!----> | <!----> | <!----> | ⋯ | <!----> | <!----> | <!----> | <!----> | <!----> | <!----> | <!----> | <!----> | <!----> | <!----> |\n| 30342153 | 2 | 56 | 20170123 | 20170126 | F100 | I10  | K701  | K920 | E834  | ⋯ | <!----> | <!----> | <!----> | <!----> | <!----> | <!----> | <!----> | <!----> | <!----> | <!----> |\n| 77730248 | 2 | 23 | 20170117 | 20170117 | F100 | J960 | <!----> | <!----> | <!----> | ⋯ | <!----> | <!----> | <!----> | <!----> | <!----> | <!----> | <!----> | <!----> | <!----> | <!----> |\n| 23958796 | 1 | 30 | 20170309 | 20170310 | F100 | <!----> | <!----> | <!----> | <!----> | ⋯ | <!----> | <!----> | <!----> | <!----> | <!----> | <!----> | <!----> | <!----> | <!----> | <!----> |\n|  9047878 | 1 | 34 | 20170728 | 20170730 | F100 | <!----> | <!----> | <!----> | <!----> | ⋯ | <!----> | <!----> | <!----> | <!----> | <!----> | <!----> | <!----> | <!----> | <!----> | <!----> |\n| 62026336 | 1 | 59 | 20170824 | 20170829 | F100 | E119 | E834  | E872 | E875  | ⋯ | <!----> | <!----> | <!----> | <!----> | <!----> | <!----> | <!----> | <!----> | <!----> | <!----> |\n|  2676267 | 2 | 15 | 20161204 | 20161206 | F100 | <!----> | <!----> | <!----> | <!----> | ⋯ | <!----> | <!----> | <!----> | <!----> | <!----> | <!----> | <!----> | <!----> | <!----> | <!----> |\n| 29868124 | 2 | 51 | 20170403 | 20170404 | F100 | <!----> | <!----> | <!----> | <!----> | ⋯ | <!----> | <!----> | <!----> | <!----> | <!----> | <!----> | <!----> | <!----> | <!----> | <!----> |\n| 36457016 | 2 | 64 | 20170224 | 20170226 | F100 | E15  | E834  | E876 | K701  | ⋯ | <!----> | <!----> | <!----> | <!----> | <!----> | <!----> | <!----> | <!----> | <!----> | <!----> |\n| 50548000 | 1 | 36 | 20161223 | 20161223 | F100 | K701 | <!----> | <!----> | <!----> | ⋯ | <!----> | <!----> | <!----> | <!----> | <!----> | <!----> | <!----> | <!----> | <!----> | <!----> |\n| 77254373 | 1 | 46 | 20170911 | 20170919 | F100 | F102 | F311  | <!----> | <!----> | ⋯ | <!----> | <!----> | <!----> | <!----> | <!----> | <!----> | <!----> | <!----> | <!----> | <!----> |\n| 48060504 | 2 | 47 | 20170308 | 20170309 | F100 | <!----> | <!----> | <!----> | <!----> | ⋯ | <!----> | <!----> | <!----> | <!----> | <!----> | <!----> | <!----> | <!----> | <!----> | <!----> |\n| 94379377 | 1 | 57 | 20170417 | 20170417 | F100 | E833 | E876  | K701 | R002  | ⋯ | <!----> | <!----> | <!----> | <!----> | <!----> | <!----> | <!----> | <!----> | <!----> | <!----> |\n| ⋮ | ⋮ | ⋮ | ⋮ | ⋮ | ⋮ | ⋮ | ⋮ | ⋮ | ⋮ | ⋱ | ⋮ | ⋮ | ⋮ | ⋮ | ⋮ | ⋮ | ⋮ | ⋮ | ⋮ | ⋮ |\n| 50826160 | 1 | 82 | 20210920 | 20210923 | K264  | D500 | D689  | D696  | E872  | ⋯ | Z115  | Z515  | E274  | E833 | F102 | I219 | E870  | E880  | <!----> | <!----> |\n| 91507452 | 1 | 59 | 20210331 | 20210421 | M310  | D500 | E872  | I10   | I469  | ⋯ | E834  | E870  | E875  | E876 | F103 | J151 | Y95   | <!----> | <!----> | <!----> |\n| 61742130 | 1 | 55 | 20210613 | 20210628 | C220  | C798 | E871  | I10   | J189  | ⋯ | D689  | E440  | E835  | E876 | F103 | J90  | J960  | R18   | Y95   | <!----> |\n| 26622594 | 1 | 80 | 20210901 | 20220414 | J128  | E149 | E789  | I10   | N179  | ⋯ | K922  | L891  | E871  | E878 | F104 | I48  | U071  | <!----> | <!----> | <!----> |\n| 28280945 | 1 | 51 | 20210402 | 20210506 | N390  | B952 | B968  | E835  | E870  | ⋯ | R651  | Z115  | A099  | D649 | F103 | J960 | <!----> | <!----> | <!----> | <!----> |\n| 83908589 | 1 | 48 | 20210115 | 20210222 | S850  | D62  | D684  | D696  | E834  | ⋯ | B89   | E440  | E835  | E877 | F104 | I639 | J156  | J9609 | M6289 | N179  |\n| 70983495 | 1 | 55 | 20210115 | 20210304 | I740  | A415 | E274  | E871  | E875  | ⋯ | N179  | R572  | D684  | E833 | F103 | J156 | J952  | N390  | R770  | T810  |\n| 77399594 | 1 | 66 | 20210420 | 20210430 | C20   | A415 | C780  | C787  | C788  | ⋯ | Z515  | Z718  | D62   | E877 | F103 | K922 | T730  | X5799 | <!----> | <!----> |\n| 95429883 | 1 | 48 | 20210909 | 20210920 | K550  | D126 | D569  | D65   | D689  | ⋯ | R572  | Z115  | E162  | E46  | F104 | J189 | J81   | T806  | Y95   | <!----> |\n| 95250598 | 1 | 61 | 20210419 | 20210605 | A150  | A048 | B179  | D649  | E46   | ⋯ | E871  | E872  | E876  | F059 | F104 | J156 | N390  | R35   | Z115  | Y95   |\n| 95002231 | 1 | 49 | 20210729 | 20210814 | S0650 | D181 | E440  | G932  | S011  | ⋯ | Z721  | D62   | E876  | F059 | F103 | I10  | V2849 | <!----> | <!----> | <!----> |\n| 68700702 | 1 | 62 | 20210226 | 20210304 | S141  | K746 | M4782 | S010  | S0200 | ⋯ | D696  | E039  | E119  | E274 | F102 | F103 | V2849 | <!----> | <!----> | <!----> |\n| 79276687 | 1 | 70 | 20210301 | 20210322 | J208  | B956 | B968  | D509  | E834  | ⋯ | K920  | R392  | R572  | U837 | F104 | G419 | K703  | Z720  | Z721  | Y95   |\n| 11508630 | 1 | 76 | 20210318 | 20210329 | G825  | E789 | I10   | N40   | R31   | ⋯ | U5952 | U5953 | U6112 | Z501 | F103 | G470 | N10   | V2849 | <!----> | <!----> |\n| 80216555 | 2 | 40 | 20210512 | 20210602 | A415  | B965 | D62   | E834  | E871  | ⋯ | Z718  | D689  | E833  | E880 | F103 | K922 | <!----> | <!----> | <!----> | <!----> |\n| 34408949 | 1 | 64 | 20220115 | 20220204 | S3650 | E876 | I10   | J154  | R392  | ⋯ | E274  | E43   | E833  | E834 | F104 | I489 | J960  | K565  | R572  | R651  |\n| 75423156 | 1 | 44 | 20220804 | 20220818 | J128  | A418 | B968  | D689  | E833  | ⋯ | R740  | U072  | D62   | E875 | F103 | K920 | <!----> | <!----> | <!----> | <!----> |\n|  9086643 | 1 | 41 | 20220915 | 20221003 | T242  | D500 | E834  | E871  | E872  | ⋯ | X1099 | D696  | E43   | F059 | F103 | I359 | J960  | N179  | R571  | R730  |\n|  2517694 | 1 | 39 | 20220731 | 20220731 | S3610 | D689 | D696  | E877  | J9609 | ⋯ | T794  | Z515  | D62   | E876 | F100 | I469 | K729  | S017  | S0201 | S2240 |\n|  6031859 | 1 | 56 | 20211126 | 20211219 | S1270 | E119 | J156  | J960  | R572  | ⋯ | Z115  | E833  | E870  | E876 | F103 | K590 | N390  | S0600 | S2230 | V2849 |\n| 42469218 | 1 | 70 | 20211030 | 20211118 | A418  | B980 | D591  | D65   | E876  | ⋯ | R18   | Z115  | D62   | E162 | F104 | I471 | J9609 | K758  | R571  | R572  |\n| 32182862 | 1 | 62 | 20211104 | 20211121 | J189  | A415 | E834  | E835  | E871  | ⋯ | Z115  | D62   | D689  | E876 | F103 | K858 | L031  | T801  | Z861  | Y621  |\n| 82383765 | 1 | 60 | 20220412 | 20220503 | S272  | D500 | K746  | S0600 | S2240 | ⋯ | D696  | E833  | E871  | E876 | F103 | I10  | J189  | J981  | V2249 | <!----> |\n| 92440473 | 1 | 67 | 20211127 | 20211219 | K746  | D62  | D684  | I983  | J189  | ⋯ | D65   | E871  | E872  | E876 | F103 | K318 | K701  | K729  | N179  | N390  |\n| 83667695 | 1 | 72 | 20220715 | 20220806 | I214  | E834 | E876  | I236  | I251  | ⋯ | N179  | R31   | R570  | E875 | F103 | N390 | R509  | R572  | Z720  | Z721  |\n| 44850291 | 1 | 40 | 20220114 | 20220119 | F208  | D696 | E872  | E875  | I10   | ⋯ | A419  | E833  | E834  | E876 | F103 | R739 | <!----> | <!----> | <!----> | <!----> |\n| 36012336 | 1 | 27 | 20211125 | 20211211 | A279  | D65  | E876  | J80   | J960  | ⋯ | E162  | E834  | E835  | E870 | F102 | J150 | K922  | Y95   | <!----> | <!----> |\n| 83865439 | 2 | 29 | 20220613 | 20220704 | J128  | D649 | D689  | E162  | E833  | ⋯ | U071  | Z721  | E834  | E876 | F103 | J156 | Y95   | <!----> | <!----> | <!----> |\n| 71626476 | 1 | 43 | 20220330 | 20220505 | I613  | I10  | J128  | J960  | K590  | ⋯ | L270  | N10   | N179  | R33  | F102 | Y95  | <!----> | <!----> | <!----> | <!----> |\n| 96715593 | 1 | 69 | 20220330 | 20220402 | K703  | B182 | D648  | F430  | J960  | ⋯ | E162  | E43   | E870  | E875 | F103 | J150 | K729  | K746  | N179  | N189  |\n\n",
            "text/latex": "A data.frame: 304103 × 26\n\\begin{tabular}{lllllllllllllllllllll}\n gen\\_id & sex & age\\_y & dateadm & datedsc & pdx & sdx1 & sdx2 & sdx3 & sdx4 & ⋯ & sdx11 & sdx12 & sdx13 & sdx14 & sdx15 & sdx16 & sdx17 & sdx18 & sdx19 & sdx20\\\\\n <int> & <int> & <int> & <int> & <int> & <chr> & <chr> & <chr> & <chr> & <chr> & ⋯ & <chr> & <chr> & <chr> & <chr> & <chr> & <chr> & <chr> & <chr> & <chr> & <chr>\\\\\n\\hline\n\t 96753789 & 1 & 33 & 20170414 & 20170415 & F100 &      &       &      &       & ⋯ &  &  &  &  &  &  &  &  &  & \\\\\n\t 74298627 & 1 & 46 & 20170702 & 20170703 & F100 & R002 &       &      &       & ⋯ &  &  &  &  &  &  &  &  &  & \\\\\n\t 98394326 & 1 & 49 & 20170615 & 20170616 & F100 & E873 &       &      &       & ⋯ &  &  &  &  &  &  &  &  &  & \\\\\n\t  6444039 & 1 & 26 & 20170726 & 20170727 & F100 &      &       &      &       & ⋯ &  &  &  &  &  &  &  &  &  & \\\\\n\t 75418622 & 1 & 39 & 20170919 & 20170922 & F100 & E834 & E876  & T436 & Y497  & ⋯ &  &  &  &  &  &  &  &  &  & \\\\\n\t 96230501 & 1 & 13 & 20170909 & 20170911 & F100 & E86  & E871  & E876 & J029  & ⋯ &  &  &  &  &  &  &  &  &  & \\\\\n\t 39606357 & 1 & 41 & 20161208 & 20161209 & F100 & F101 &       &      &       & ⋯ &  &  &  &  &  &  &  &  &  & \\\\\n\t   582783 & 1 & 42 & 20170227 & 20170228 & F100 & B909 &       &      &       & ⋯ &  &  &  &  &  &  &  &  &  & \\\\\n\t  1123634 & 2 & 89 & 20170103 & 20170104 & F100 & I10  &       &      &       & ⋯ &  &  &  &  &  &  &  &  &  & \\\\\n\t 65646934 & 1 & 88 & 20170309 & 20170311 & F100 & I10  & M1099 & M940 & N185  & ⋯ &  &  &  &  &  &  &  &  &  & \\\\\n\t 23292427 & 1 & 70 & 20170705 & 20170706 & F100 &      &       &      &       & ⋯ &  &  &  &  &  &  &  &  &  & \\\\\n\t 67935156 & 1 & 36 & 20170421 & 20170425 & F100 & E833 & E834  & E876 & J189  & ⋯ &  &  &  &  &  &  &  &  &  & \\\\\n\t 80677949 & 1 & 49 & 20170318 & 20170320 & F100 &      &       &      &       & ⋯ &  &  &  &  &  &  &  &  &  & \\\\\n\t 82999387 & 1 & 41 & 20170821 & 20170823 & F100 &      &       &      &       & ⋯ &  &  &  &  &  &  &  &  &  & \\\\\n\t 71564267 & 1 & 52 & 20170924 & 20170928 & F100 & R568 & E834  & E875 & M6289 & ⋯ &  &  &  &  &  &  &  &  &  & \\\\\n\t 64871976 & 1 & 49 & 20170401 & 20170401 & F100 &      &       &      &       & ⋯ &  &  &  &  &  &  &  &  &  & \\\\\n\t  8746137 & 1 & 20 & 20170705 & 20170705 & F100 &      &       &      &       & ⋯ &  &  &  &  &  &  &  &  &  & \\\\\n\t 91660978 & 1 & 33 & 20170606 & 20170607 & F100 &      &       &      &       & ⋯ &  &  &  &  &  &  &  &  &  & \\\\\n\t 30342153 & 2 & 56 & 20170123 & 20170126 & F100 & I10  & K701  & K920 & E834  & ⋯ &  &  &  &  &  &  &  &  &  & \\\\\n\t 77730248 & 2 & 23 & 20170117 & 20170117 & F100 & J960 &       &      &       & ⋯ &  &  &  &  &  &  &  &  &  & \\\\\n\t 23958796 & 1 & 30 & 20170309 & 20170310 & F100 &      &       &      &       & ⋯ &  &  &  &  &  &  &  &  &  & \\\\\n\t  9047878 & 1 & 34 & 20170728 & 20170730 & F100 &      &       &      &       & ⋯ &  &  &  &  &  &  &  &  &  & \\\\\n\t 62026336 & 1 & 59 & 20170824 & 20170829 & F100 & E119 & E834  & E872 & E875  & ⋯ &  &  &  &  &  &  &  &  &  & \\\\\n\t  2676267 & 2 & 15 & 20161204 & 20161206 & F100 &      &       &      &       & ⋯ &  &  &  &  &  &  &  &  &  & \\\\\n\t 29868124 & 2 & 51 & 20170403 & 20170404 & F100 &      &       &      &       & ⋯ &  &  &  &  &  &  &  &  &  & \\\\\n\t 36457016 & 2 & 64 & 20170224 & 20170226 & F100 & E15  & E834  & E876 & K701  & ⋯ &  &  &  &  &  &  &  &  &  & \\\\\n\t 50548000 & 1 & 36 & 20161223 & 20161223 & F100 & K701 &       &      &       & ⋯ &  &  &  &  &  &  &  &  &  & \\\\\n\t 77254373 & 1 & 46 & 20170911 & 20170919 & F100 & F102 & F311  &      &       & ⋯ &  &  &  &  &  &  &  &  &  & \\\\\n\t 48060504 & 2 & 47 & 20170308 & 20170309 & F100 &      &       &      &       & ⋯ &  &  &  &  &  &  &  &  &  & \\\\\n\t 94379377 & 1 & 57 & 20170417 & 20170417 & F100 & E833 & E876  & K701 & R002  & ⋯ &  &  &  &  &  &  &  &  &  & \\\\\n\t ⋮ & ⋮ & ⋮ & ⋮ & ⋮ & ⋮ & ⋮ & ⋮ & ⋮ & ⋮ & ⋱ & ⋮ & ⋮ & ⋮ & ⋮ & ⋮ & ⋮ & ⋮ & ⋮ & ⋮ & ⋮\\\\\n\t 50826160 & 1 & 82 & 20210920 & 20210923 & K264  & D500 & D689  & D696  & E872  & ⋯ & Z115  & Z515  & E274  & E833 & F102 & I219 & E870  & E880  &       &      \\\\\n\t 91507452 & 1 & 59 & 20210331 & 20210421 & M310  & D500 & E872  & I10   & I469  & ⋯ & E834  & E870  & E875  & E876 & F103 & J151 & Y95   &       &       &      \\\\\n\t 61742130 & 1 & 55 & 20210613 & 20210628 & C220  & C798 & E871  & I10   & J189  & ⋯ & D689  & E440  & E835  & E876 & F103 & J90  & J960  & R18   & Y95   &      \\\\\n\t 26622594 & 1 & 80 & 20210901 & 20220414 & J128  & E149 & E789  & I10   & N179  & ⋯ & K922  & L891  & E871  & E878 & F104 & I48  & U071  &       &       &      \\\\\n\t 28280945 & 1 & 51 & 20210402 & 20210506 & N390  & B952 & B968  & E835  & E870  & ⋯ & R651  & Z115  & A099  & D649 & F103 & J960 &       &       &       &      \\\\\n\t 83908589 & 1 & 48 & 20210115 & 20210222 & S850  & D62  & D684  & D696  & E834  & ⋯ & B89   & E440  & E835  & E877 & F104 & I639 & J156  & J9609 & M6289 & N179 \\\\\n\t 70983495 & 1 & 55 & 20210115 & 20210304 & I740  & A415 & E274  & E871  & E875  & ⋯ & N179  & R572  & D684  & E833 & F103 & J156 & J952  & N390  & R770  & T810 \\\\\n\t 77399594 & 1 & 66 & 20210420 & 20210430 & C20   & A415 & C780  & C787  & C788  & ⋯ & Z515  & Z718  & D62   & E877 & F103 & K922 & T730  & X5799 &       &      \\\\\n\t 95429883 & 1 & 48 & 20210909 & 20210920 & K550  & D126 & D569  & D65   & D689  & ⋯ & R572  & Z115  & E162  & E46  & F104 & J189 & J81   & T806  & Y95   &      \\\\\n\t 95250598 & 1 & 61 & 20210419 & 20210605 & A150  & A048 & B179  & D649  & E46   & ⋯ & E871  & E872  & E876  & F059 & F104 & J156 & N390  & R35   & Z115  & Y95  \\\\\n\t 95002231 & 1 & 49 & 20210729 & 20210814 & S0650 & D181 & E440  & G932  & S011  & ⋯ & Z721  & D62   & E876  & F059 & F103 & I10  & V2849 &       &       &      \\\\\n\t 68700702 & 1 & 62 & 20210226 & 20210304 & S141  & K746 & M4782 & S010  & S0200 & ⋯ & D696  & E039  & E119  & E274 & F102 & F103 & V2849 &       &       &      \\\\\n\t 79276687 & 1 & 70 & 20210301 & 20210322 & J208  & B956 & B968  & D509  & E834  & ⋯ & K920  & R392  & R572  & U837 & F104 & G419 & K703  & Z720  & Z721  & Y95  \\\\\n\t 11508630 & 1 & 76 & 20210318 & 20210329 & G825  & E789 & I10   & N40   & R31   & ⋯ & U5952 & U5953 & U6112 & Z501 & F103 & G470 & N10   & V2849 &       &      \\\\\n\t 80216555 & 2 & 40 & 20210512 & 20210602 & A415  & B965 & D62   & E834  & E871  & ⋯ & Z718  & D689  & E833  & E880 & F103 & K922 &       &       &       &      \\\\\n\t 34408949 & 1 & 64 & 20220115 & 20220204 & S3650 & E876 & I10   & J154  & R392  & ⋯ & E274  & E43   & E833  & E834 & F104 & I489 & J960  & K565  & R572  & R651 \\\\\n\t 75423156 & 1 & 44 & 20220804 & 20220818 & J128  & A418 & B968  & D689  & E833  & ⋯ & R740  & U072  & D62   & E875 & F103 & K920 &       &       &       &      \\\\\n\t  9086643 & 1 & 41 & 20220915 & 20221003 & T242  & D500 & E834  & E871  & E872  & ⋯ & X1099 & D696  & E43   & F059 & F103 & I359 & J960  & N179  & R571  & R730 \\\\\n\t  2517694 & 1 & 39 & 20220731 & 20220731 & S3610 & D689 & D696  & E877  & J9609 & ⋯ & T794  & Z515  & D62   & E876 & F100 & I469 & K729  & S017  & S0201 & S2240\\\\\n\t  6031859 & 1 & 56 & 20211126 & 20211219 & S1270 & E119 & J156  & J960  & R572  & ⋯ & Z115  & E833  & E870  & E876 & F103 & K590 & N390  & S0600 & S2230 & V2849\\\\\n\t 42469218 & 1 & 70 & 20211030 & 20211118 & A418  & B980 & D591  & D65   & E876  & ⋯ & R18   & Z115  & D62   & E162 & F104 & I471 & J9609 & K758  & R571  & R572 \\\\\n\t 32182862 & 1 & 62 & 20211104 & 20211121 & J189  & A415 & E834  & E835  & E871  & ⋯ & Z115  & D62   & D689  & E876 & F103 & K858 & L031  & T801  & Z861  & Y621 \\\\\n\t 82383765 & 1 & 60 & 20220412 & 20220503 & S272  & D500 & K746  & S0600 & S2240 & ⋯ & D696  & E833  & E871  & E876 & F103 & I10  & J189  & J981  & V2249 &      \\\\\n\t 92440473 & 1 & 67 & 20211127 & 20211219 & K746  & D62  & D684  & I983  & J189  & ⋯ & D65   & E871  & E872  & E876 & F103 & K318 & K701  & K729  & N179  & N390 \\\\\n\t 83667695 & 1 & 72 & 20220715 & 20220806 & I214  & E834 & E876  & I236  & I251  & ⋯ & N179  & R31   & R570  & E875 & F103 & N390 & R509  & R572  & Z720  & Z721 \\\\\n\t 44850291 & 1 & 40 & 20220114 & 20220119 & F208  & D696 & E872  & E875  & I10   & ⋯ & A419  & E833  & E834  & E876 & F103 & R739 &       &       &       &      \\\\\n\t 36012336 & 1 & 27 & 20211125 & 20211211 & A279  & D65  & E876  & J80   & J960  & ⋯ & E162  & E834  & E835  & E870 & F102 & J150 & K922  & Y95   &       &      \\\\\n\t 83865439 & 2 & 29 & 20220613 & 20220704 & J128  & D649 & D689  & E162  & E833  & ⋯ & U071  & Z721  & E834  & E876 & F103 & J156 & Y95   &       &       &      \\\\\n\t 71626476 & 1 & 43 & 20220330 & 20220505 & I613  & I10  & J128  & J960  & K590  & ⋯ & L270  & N10   & N179  & R33  & F102 & Y95  &       &       &       &      \\\\\n\t 96715593 & 1 & 69 & 20220330 & 20220402 & K703  & B182 & D648  & F430  & J960  & ⋯ & E162  & E43   & E870  & E875 & F103 & J150 & K729  & K746  & N179  & N189 \\\\\n\\end{tabular}\n",
            "text/plain": [
              "       gen_id   sex age_y dateadm  datedsc  pdx   sdx1 sdx2  sdx3  sdx4  ⋯\n",
              "1      96753789 1   33    20170414 20170415 F100                         ⋯\n",
              "2      74298627 1   46    20170702 20170703 F100  R002                   ⋯\n",
              "3      98394326 1   49    20170615 20170616 F100  E873                   ⋯\n",
              "4       6444039 1   26    20170726 20170727 F100                         ⋯\n",
              "5      75418622 1   39    20170919 20170922 F100  E834 E876  T436  Y497  ⋯\n",
              "6      96230501 1   13    20170909 20170911 F100  E86  E871  E876  J029  ⋯\n",
              "7      39606357 1   41    20161208 20161209 F100  F101                   ⋯\n",
              "8        582783 1   42    20170227 20170228 F100  B909                   ⋯\n",
              "9       1123634 2   89    20170103 20170104 F100  I10                    ⋯\n",
              "10     65646934 1   88    20170309 20170311 F100  I10  M1099 M940  N185  ⋯\n",
              "11     23292427 1   70    20170705 20170706 F100                         ⋯\n",
              "12     67935156 1   36    20170421 20170425 F100  E833 E834  E876  J189  ⋯\n",
              "13     80677949 1   49    20170318 20170320 F100                         ⋯\n",
              "14     82999387 1   41    20170821 20170823 F100                         ⋯\n",
              "15     71564267 1   52    20170924 20170928 F100  R568 E834  E875  M6289 ⋯\n",
              "16     64871976 1   49    20170401 20170401 F100                         ⋯\n",
              "17      8746137 1   20    20170705 20170705 F100                         ⋯\n",
              "18     91660978 1   33    20170606 20170607 F100                         ⋯\n",
              "19     30342153 2   56    20170123 20170126 F100  I10  K701  K920  E834  ⋯\n",
              "20     77730248 2   23    20170117 20170117 F100  J960                   ⋯\n",
              "21     23958796 1   30    20170309 20170310 F100                         ⋯\n",
              "22      9047878 1   34    20170728 20170730 F100                         ⋯\n",
              "23     62026336 1   59    20170824 20170829 F100  E119 E834  E872  E875  ⋯\n",
              "24      2676267 2   15    20161204 20161206 F100                         ⋯\n",
              "25     29868124 2   51    20170403 20170404 F100                         ⋯\n",
              "26     36457016 2   64    20170224 20170226 F100  E15  E834  E876  K701  ⋯\n",
              "27     50548000 1   36    20161223 20161223 F100  K701                   ⋯\n",
              "28     77254373 1   46    20170911 20170919 F100  F102 F311              ⋯\n",
              "29     48060504 2   47    20170308 20170309 F100                         ⋯\n",
              "30     94379377 1   57    20170417 20170417 F100  E833 E876  K701  R002  ⋯\n",
              "⋮      ⋮        ⋮   ⋮     ⋮        ⋮        ⋮     ⋮    ⋮     ⋮     ⋮     ⋱\n",
              "304074 50826160 1   82    20210920 20210923 K264  D500 D689  D696  E872  ⋯\n",
              "304075 91507452 1   59    20210331 20210421 M310  D500 E872  I10   I469  ⋯\n",
              "304076 61742130 1   55    20210613 20210628 C220  C798 E871  I10   J189  ⋯\n",
              "304077 26622594 1   80    20210901 20220414 J128  E149 E789  I10   N179  ⋯\n",
              "304078 28280945 1   51    20210402 20210506 N390  B952 B968  E835  E870  ⋯\n",
              "304079 83908589 1   48    20210115 20210222 S850  D62  D684  D696  E834  ⋯\n",
              "304080 70983495 1   55    20210115 20210304 I740  A415 E274  E871  E875  ⋯\n",
              "304081 77399594 1   66    20210420 20210430 C20   A415 C780  C787  C788  ⋯\n",
              "304082 95429883 1   48    20210909 20210920 K550  D126 D569  D65   D689  ⋯\n",
              "304083 95250598 1   61    20210419 20210605 A150  A048 B179  D649  E46   ⋯\n",
              "304084 95002231 1   49    20210729 20210814 S0650 D181 E440  G932  S011  ⋯\n",
              "304085 68700702 1   62    20210226 20210304 S141  K746 M4782 S010  S0200 ⋯\n",
              "304086 79276687 1   70    20210301 20210322 J208  B956 B968  D509  E834  ⋯\n",
              "304087 11508630 1   76    20210318 20210329 G825  E789 I10   N40   R31   ⋯\n",
              "304088 80216555 2   40    20210512 20210602 A415  B965 D62   E834  E871  ⋯\n",
              "304089 34408949 1   64    20220115 20220204 S3650 E876 I10   J154  R392  ⋯\n",
              "304090 75423156 1   44    20220804 20220818 J128  A418 B968  D689  E833  ⋯\n",
              "304091  9086643 1   41    20220915 20221003 T242  D500 E834  E871  E872  ⋯\n",
              "304092  2517694 1   39    20220731 20220731 S3610 D689 D696  E877  J9609 ⋯\n",
              "304093  6031859 1   56    20211126 20211219 S1270 E119 J156  J960  R572  ⋯\n",
              "304094 42469218 1   70    20211030 20211118 A418  B980 D591  D65   E876  ⋯\n",
              "304095 32182862 1   62    20211104 20211121 J189  A415 E834  E835  E871  ⋯\n",
              "304096 82383765 1   60    20220412 20220503 S272  D500 K746  S0600 S2240 ⋯\n",
              "304097 92440473 1   67    20211127 20211219 K746  D62  D684  I983  J189  ⋯\n",
              "304098 83667695 1   72    20220715 20220806 I214  E834 E876  I236  I251  ⋯\n",
              "304099 44850291 1   40    20220114 20220119 F208  D696 E872  E875  I10   ⋯\n",
              "304100 36012336 1   27    20211125 20211211 A279  D65  E876  J80   J960  ⋯\n",
              "304101 83865439 2   29    20220613 20220704 J128  D649 D689  E162  E833  ⋯\n",
              "304102 71626476 1   43    20220330 20220505 I613  I10  J128  J960  K590  ⋯\n",
              "304103 96715593 1   69    20220330 20220402 K703  B182 D648  F430  J960  ⋯\n",
              "       sdx11 sdx12 sdx13 sdx14 sdx15 sdx16 sdx17 sdx18 sdx19 sdx20\n",
              "1                                                                 \n",
              "2                                                                 \n",
              "3                                                                 \n",
              "4                                                                 \n",
              "5                                                                 \n",
              "6                                                                 \n",
              "7                                                                 \n",
              "8                                                                 \n",
              "9                                                                 \n",
              "10                                                                \n",
              "11                                                                \n",
              "12                                                                \n",
              "13                                                                \n",
              "14                                                                \n",
              "15                                                                \n",
              "16                                                                \n",
              "17                                                                \n",
              "18                                                                \n",
              "19                                                                \n",
              "20                                                                \n",
              "21                                                                \n",
              "22                                                                \n",
              "23                                                                \n",
              "24                                                                \n",
              "25                                                                \n",
              "26                                                                \n",
              "27                                                                \n",
              "28                                                                \n",
              "29                                                                \n",
              "30                                                                \n",
              "⋮      ⋮     ⋮     ⋮     ⋮     ⋮     ⋮     ⋮     ⋮     ⋮     ⋮    \n",
              "304074 Z115  Z515  E274  E833  F102  I219  E870  E880             \n",
              "304075 E834  E870  E875  E876  F103  J151  Y95                    \n",
              "304076 D689  E440  E835  E876  F103  J90   J960  R18   Y95        \n",
              "304077 K922  L891  E871  E878  F104  I48   U071                   \n",
              "304078 R651  Z115  A099  D649  F103  J960                         \n",
              "304079 B89   E440  E835  E877  F104  I639  J156  J9609 M6289 N179 \n",
              "304080 N179  R572  D684  E833  F103  J156  J952  N390  R770  T810 \n",
              "304081 Z515  Z718  D62   E877  F103  K922  T730  X5799            \n",
              "304082 R572  Z115  E162  E46   F104  J189  J81   T806  Y95        \n",
              "304083 E871  E872  E876  F059  F104  J156  N390  R35   Z115  Y95  \n",
              "304084 Z721  D62   E876  F059  F103  I10   V2849                  \n",
              "304085 D696  E039  E119  E274  F102  F103  V2849                  \n",
              "304086 K920  R392  R572  U837  F104  G419  K703  Z720  Z721  Y95  \n",
              "304087 U5952 U5953 U6112 Z501  F103  G470  N10   V2849            \n",
              "304088 Z718  D689  E833  E880  F103  K922                         \n",
              "304089 E274  E43   E833  E834  F104  I489  J960  K565  R572  R651 \n",
              "304090 R740  U072  D62   E875  F103  K920                         \n",
              "304091 X1099 D696  E43   F059  F103  I359  J960  N179  R571  R730 \n",
              "304092 T794  Z515  D62   E876  F100  I469  K729  S017  S0201 S2240\n",
              "304093 Z115  E833  E870  E876  F103  K590  N390  S0600 S2230 V2849\n",
              "304094 R18   Z115  D62   E162  F104  I471  J9609 K758  R571  R572 \n",
              "304095 Z115  D62   D689  E876  F103  K858  L031  T801  Z861  Y621 \n",
              "304096 D696  E833  E871  E876  F103  I10   J189  J981  V2249      \n",
              "304097 D65   E871  E872  E876  F103  K318  K701  K729  N179  N390 \n",
              "304098 N179  R31   R570  E875  F103  N390  R509  R572  Z720  Z721 \n",
              "304099 A419  E833  E834  E876  F103  R739                         \n",
              "304100 E162  E834  E835  E870  F102  J150  K922  Y95              \n",
              "304101 U071  Z721  E834  E876  F103  J156  Y95                    \n",
              "304102 L270  N10   N179  R33   F102  Y95                          \n",
              "304103 E162  E43   E870  E875  F103  J150  K729  K746  N179  N189 "
            ]
          },
          "metadata": {}
        }
      ]
    },
    {
      "cell_type": "code",
      "source": [
        "dat_unique<-distinct(dat, gen_id, .keep_all = TRUE)"
      ],
      "metadata": {
        "id": "Qg4y2bscVGK9"
      },
      "execution_count": 23,
      "outputs": []
    },
    {
      "cell_type": "markdown",
      "source": [
        "# **Assignment**"
      ],
      "metadata": {
        "id": "nBVA7cIDVO_E"
      }
    },
    {
      "cell_type": "markdown",
      "source": [
        "Calculate the average age of patients in dat_unique"
      ],
      "metadata": {
        "id": "AzfbZO2vVSJ4"
      }
    },
    {
      "cell_type": "markdown",
      "source": [
        "Display the sex proportion of patients in dat_unique"
      ],
      "metadata": {
        "id": "oU-i24aLVY3F"
      }
    },
    {
      "cell_type": "markdown",
      "source": [
        "Calculate the average length of hospital stay in dat"
      ],
      "metadata": {
        "id": "q4p_F9EJVnav"
      }
    }
  ],
  "metadata": {
    "accelerator": "GPU",
    "colab": {
      "provenance": []
    },
    "kernelspec": {
      "display_name": "R",
      "name": "ir"
    },
    "gpuClass": "standard"
  },
  "nbformat": 4,
  "nbformat_minor": 0
}